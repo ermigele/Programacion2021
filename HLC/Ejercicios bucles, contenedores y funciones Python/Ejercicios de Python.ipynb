{
 "cells": [
  {
   "cell_type": "markdown",
   "metadata": {},
   "source": [
    "# Ejercicios de bucles, contenedores y funciones de Python\n",
    "**Docente**: Antonio Gago.  **I.E.S. Velázquez:** Curso 2020-2021\n",
    "**Alumno**:"
   ]
  },
  {
   "cell_type": "markdown",
   "metadata": {},
   "source": [
    "## Índice de ejercicios\n",
    "* [Ejercicio 1](#ejercicio_uno)\n",
    "* [Ejercicio 2](#ejercicio_dos)\n",
    "* [Ejercicio 3](#ejercicio_tres)\n",
    "* [Ejercicio 4](#ejercicio_cuatro)\n",
    "* [Ejercicio 5](#ejercicio_cinco)\n",
    "* [Ejercicio 6](#ejercicio_seis)\n",
    "* [Ejercicio 7](#ejercicio_siete)"
   ]
  },
  {
   "cell_type": "markdown",
   "metadata": {},
   "source": [
    "## Ejercicio 1 <a name=\"ejercicio_uno\"/>"
   ]
  },
  {
   "cell_type": "markdown",
   "metadata": {},
   "source": [
    "Escribir un programa que pida al usuario un número entero positivo y muestre por pantalla la cuenta atrás desde ese número hasta cero separados por comas."
   ]
  },
  {
   "cell_type": "markdown",
   "metadata": {},
   "source": [
    "### ¡Prueba tú!"
   ]
  },
  {
   "cell_type": "code",
   "execution_count": null,
   "metadata": {},
   "outputs": [],
   "source": []
  },
  {
   "cell_type": "markdown",
   "metadata": {},
   "source": [
    "## Ejercicio 2 <a name=\"ejercicio_dos\"/>"
   ]
  },
  {
   "cell_type": "markdown",
   "metadata": {},
   "source": [
    "Escribir un programa que almacene las asignaturas de un curso (por ejemplo Matemáticas, Física, Química, Inglés, Historia y Lengua) en una lista y la muestre por pantalla."
   ]
  },
  {
   "cell_type": "markdown",
   "metadata": {},
   "source": [
    "### ¡Prueba tú!"
   ]
  },
  {
   "cell_type": "code",
   "execution_count": null,
   "metadata": {},
   "outputs": [],
   "source": []
  },
  {
   "cell_type": "markdown",
   "metadata": {},
   "source": [
    "<hr>"
   ]
  },
  {
   "cell_type": "markdown",
   "metadata": {},
   "source": [
    "## Ejercicio 3 <a name=\"ejercicio_tres\"/>"
   ]
  },
  {
   "cell_type": "markdown",
   "metadata": {},
   "source": [
    "Escribir un programa que almacene las matrices\n",
    "\n",
    "$$\n",
    "A = \\left(\n",
    "  \\begin{array}{rrr}\n",
    "  1 & 2 & 3\\\\\n",
    "  4 & 5 & 6\n",
    "  \\end{array}\n",
    "  \\right)\n",
    "  \\quad  y\n",
    "  \\quad\n",
    "  B = \\left(\n",
    "  \\begin{array}{rr}\n",
    "  -1 & 0\\\\\n",
    "  0 & 1\\\\\n",
    "  1 & 1\n",
    "  \\end{array}\n",
    "  \\right)\n",
    "$$\n",
    "\n",
    "en una tupla y muestre por pantalla su producto.  \n",
    "Nota: Para representar matrices mediante tuplas usar tuplas anidadas, representando cada vector fila en una tupla."
   ]
  },
  {
   "cell_type": "markdown",
   "metadata": {},
   "source": [
    "### ¡Prueba tú!"
   ]
  },
  {
   "cell_type": "code",
   "execution_count": null,
   "metadata": {},
   "outputs": [],
   "source": []
  },
  {
   "cell_type": "markdown",
   "metadata": {},
   "source": [
    "<hr>"
   ]
  },
  {
   "cell_type": "markdown",
   "metadata": {},
   "source": [
    "## Ejercicio 4 <a name=\"ejercicio_cuatro\"/>"
   ]
  },
  {
   "cell_type": "markdown",
   "metadata": {},
   "source": [
    "Escribir un programa que guarde en un diccionario los precios de las frutas de la tabla, pregunte al usuario por una fruta, un número de kilos y muestre por pantalla el precio de ese número de kilos de fruta. Si la fruta no está en el diccionario debe mostrar un mensaje informando de ello.\n",
    "\n",
    "| Fruta | Precio|\n",
    "|:-|:-:|\n",
    "|Plátano | 2.35 |\n",
    "|Manzana | 1.20|\n",
    "|Pera| 1.65|\n",
    "|Naranja | 0.70|\n",
    "|Melocotón | 1.95|\n"
   ]
  },
  {
   "cell_type": "markdown",
   "metadata": {},
   "source": [
    "### ¡Prueba tú!"
   ]
  },
  {
   "cell_type": "code",
   "execution_count": null,
   "metadata": {},
   "outputs": [],
   "source": []
  },
  {
   "cell_type": "markdown",
   "metadata": {},
   "source": [
    "<hr>"
   ]
  },
  {
   "cell_type": "markdown",
   "metadata": {},
   "source": [
    "## Ejercicio 5 <a name=\"ejercicio_cinco\"/>"
   ]
  },
  {
   "cell_type": "markdown",
   "metadata": {},
   "source": [
    "Escribir un programa que cree un diccionario simulando una cesta de la compra. El programa debe preguntar el artículo y su precio y añadir el par al diccionario, hasta que el usuario decida terminar (¿Quieres añadir artículos a la lista (Si/No)?) Después se debe mostrar por pantalla la lista de la compra y el coste total, con el siguiente formato\n",
    "\n",
    "|Lista de la compra| |\n",
    "|:-|-:|\n",
    "|Artículo 1 | Precio|\n",
    "|Artículo 2 | Precio|\n",
    "|Artículo 3 | Precio|\n",
    "|...| ...|\n",
    "|Total| Coste|\n"
   ]
  },
  {
   "cell_type": "markdown",
   "metadata": {},
   "source": [
    "### ¡Prueba tú!"
   ]
  },
  {
   "cell_type": "code",
   "execution_count": null,
   "metadata": {},
   "outputs": [],
   "source": []
  },
  {
   "cell_type": "markdown",
   "metadata": {},
   "source": [
    "<hr>"
   ]
  },
  {
   "cell_type": "markdown",
   "metadata": {},
   "source": [
    "## Ejercicio 6 <a name=\"ejercicio_seis\"/>|"
   ]
  },
  {
   "cell_type": "markdown",
   "metadata": {},
   "source": [
    "Escribir una función que, dado un número de DNI sin letra, devuelva la letra correspondiente. \n",
    "\n",
    "El código de control se obtiene a partir del número completo del DNI (8 cifras) o el NIE (letra X, Y o Z seguido de 7 cifras) y dividiéndolo entre 23. En el caso del NIE se sustituye la primera letra por un 0, un 1 o un 2, según sea X, Y o Z respectivamente. Al resto resultante de dicha división, que deberá estar comprendido entre 0 y 22, se le asigna la letra de control según la equivalencia la siguiente lista:\n",
    "\n",
    "lista=['T','R','W','A','G','M','Y','F','P','D','X','B','N','J','Z','S','Q','V','H','L','C','K','E']\n"
   ]
  },
  {
   "cell_type": "markdown",
   "metadata": {},
   "source": [
    "### ¡Prueba tú!"
   ]
  },
  {
   "cell_type": "code",
   "execution_count": null,
   "metadata": {},
   "outputs": [],
   "source": [
    "\n"
   ]
  },
  {
   "cell_type": "markdown",
   "metadata": {},
   "source": [
    "<hr>"
   ]
  },
  {
   "cell_type": "markdown",
   "metadata": {},
   "source": [
    "# Ejercicio 7 <a name=\"ejercicio_siete\"/>"
   ]
  },
  {
   "cell_type": "markdown",
   "metadata": {},
   "source": [
    "Escribir una función que convierta un número binario en decimal."
   ]
  },
  {
   "cell_type": "markdown",
   "metadata": {},
   "source": [
    "### ¡Prueba tú!"
   ]
  },
  {
   "cell_type": "code",
   "execution_count": null,
   "metadata": {},
   "outputs": [],
   "source": []
  },
  {
   "cell_type": "markdown",
   "metadata": {},
   "source": [
    "<hr>"
   ]
  }
 ],
 "metadata": {
  "kernelspec": {
   "display_name": "Python 3",
   "language": "python",
   "name": "python3"
  },
  "language_info": {
   "codemirror_mode": {
    "name": "ipython",
    "version": 3
   },
   "file_extension": ".py",
   "mimetype": "text/x-python",
   "name": "python",
   "nbconvert_exporter": "python",
   "pygments_lexer": "ipython3",
   "version": "3.8.3"
  }
 },
 "nbformat": 4,
 "nbformat_minor": 4
}
