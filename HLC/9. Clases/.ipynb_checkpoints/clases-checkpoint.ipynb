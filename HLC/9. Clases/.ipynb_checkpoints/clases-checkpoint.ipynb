{
 "cells": [
  {
   "cell_type": "markdown",
   "metadata": {},
   "source": [
    "# Clases\n",
    "**Docente**: Antonio Gago.  **I.E.S. Velázquez:** Curso 2020-2021"
   ]
  },
  {
   "cell_type": "markdown",
   "metadata": {},
   "source": [
    "## 1. Clases"
   ]
  },
  {
   "cell_type": "markdown",
   "metadata": {},
   "source": [
    "**¿Qué es un Objeto?**\n",
    "Los objetos son la clave para entender la Programación Orientada a Objetos. Si miramos a nuestro alrededor  encontraremos un sin fin de objetos de la vida real: perro, coche, televisor, bicicleta, etc...\n",
    "\n",
    "**¿Qué es un Atributo?**\n",
    "Los atributos o propiedades de los objetos son las características que puede tener un objeto: Si el objeto fuera *Perro*, los atributos podrían ser: raza, color, edad, etc...\n",
    "\n",
    "**¿Qué es un Método?**\n",
    "Los métodos son la acción o función que realiza un objeto. Si nuestro objeto es *Perro*, los métodos pueden ser: , ladrar, comer, dormir, etc...\n",
    "\n",
    "**¿Qué es una Clase?**\n",
    "Con todos los conceptos anteriores explicados, se puede decir que una clase es una plantilla genérica de un objeto. La clase proporciona variables iniciales de estado (donde se guardan los atributos) e implementaciones de comportamiento (métodos).\n",
    "\n",
    "**¿Qué es una Instancia?**\n",
    "Ya sabemos que una clase es una estructura general del objeto. Por ejemplo, podemos decir que la clase *Mascota* necesita tener un nombre y una especie, pero no nos va a decir cual es el nombre y cual es la especie, es aquí donde entran las instancias. Una instancia es una copia específica de la clase con todo su contenido.\n",
    "\n",
    "Las clases nos dan la posibilidad de crear estructuras de datos más complejas."
   ]
  },
  {
   "cell_type": "markdown",
   "metadata": {
    "nbpresent": {
     "id": "71219fc3-c9cb-4700-9f0b-ab38b1b223da"
    },
    "slideshow": {
     "slide_type": "-"
    }
   },
   "source": [
    "La forma más sencilla de definición de una clase es:\n",
    "\n",
    "```python\n",
    "class Clase:\n",
    "    <declaración-1>\n",
    "    .\n",
    "    .\n",
    "    .\n",
    "    <declaración-N>\n",
    "```\n",
    "\n",
    "**Nota:** En Python 3 la definición de una clase nos la podemos encontrar de la siguiente forma\n",
    "\n",
    "```python\n",
    "class Clase1:\n",
    "    pass\n",
    "```\n",
    "que es equivalente a:\n",
    "\n",
    "```python\n",
    "class Clase2(object):\n",
    "     pass\n",
    "```\n",
    "y equivalente a:\n",
    "\n",
    "```python\n",
    "class Clase3():\n",
    "    pass\n",
    "```"
   ]
  },
  {
   "cell_type": "markdown",
   "metadata": {
    "nbpresent": {
     "id": "7adaaf8f-a83e-456b-b99a-d3b3d4cb6d1a"
    }
   },
   "source": [
    "---\n",
    "### Ejemplo de una clase\n"
   ]
  },
  {
   "cell_type": "code",
   "execution_count": null,
   "metadata": {
    "nbpresent": {
     "id": "ae8725fa-30f7-4d7f-a2c2-5f86953d730b"
    }
   },
   "outputs": [],
   "source": [
    "class Mascota(object):\n",
    "    def __init__(self, nombre, especie):\n",
    "        self.nombre=nombre\n",
    "        self.especie=especie\n",
    "    \n",
    "    def darNombre(self):\n",
    "        return self.nombre\n",
    "    \n",
    "    def darEspecie(self):\n",
    "        return self.especie\n",
    "    \n",
    "    def __str__(self):\n",
    "        return \"{} es un {}\".format(self.nombre, self.especie) "
   ]
  },
  {
   "cell_type": "markdown",
   "metadata": {
    "nbpresent": {
     "id": "86423d42-e808-47e6-b1a7-e925e195f821"
    }
   },
   "source": [
    "```python\n",
    "class Mascota(object):\n",
    "```\n",
    "\n",
    "Aquí es donde empezamos a crear nuestra clase (lo hacemos con la palabra *class*). La segunda palabra *Mascota* es el nombre que le daremos a nuestra clase. La tercera palabra que se encuentra dentro de los paréntesis *object* se conoce con el nombre de herencia. Lo que debemos saber es que *object* es una variable especial en python que se utiliza de herencia cuando creamos una nueva clase en Python.\n",
    "\n",
    "```python\n",
    "def __init__(self, nombre, especie):\n",
    "    self.nombre = nombre\n",
    "    self.especie = especie\n",
    "```\n",
    "    \n",
    "Cuando creemos una nueva mascota, necesitamos inicializarla con un nombre y una especie. El método **__init__** ,método especial para las funciones que forman parte de una clase, es una función especial en python que inicializa la clase con los atributos que nosotros le pasemos. \n"
   ]
  },
  {
   "cell_type": "code",
   "execution_count": null,
   "metadata": {
    "nbpresent": {
     "id": "d0569bb0-fad8-48b7-8d48-0066bfb90401"
    }
   },
   "outputs": [],
   "source": [
    "# Al ejecutar el siguiente código, el método __init__ es llamado con los valores laica, \"Laica\" y \"Perro\" en \n",
    "# las variables self, nombre y especie, respectivamente.\n",
    "#\n",
    "laica = Mascota(\"Laica\", \"Perro\") "
   ]
  },
  {
   "cell_type": "markdown",
   "metadata": {},
   "source": [
    "La variable **self** es una instancia de la clase y es bueno aclarar que no es una palabra reservada de Python, cualquier etiqueta utilizada como primer parámetro tendría el mismo valor (se desaconseja el uso de otras etiquetas por un tema de convención). \n",
    "O sea que, cada vez que declaremos un método en python, vamos a tener que agregarle la variable *self* para que cuando sea invocado el método, Python pase el objeto instanciado y opere con los valores actuales de esa instancia.\n",
    "En la llamada anterior almacenamos el atributo nombre en el parámetro nombre (self.nombre = nombre) y también la especie (self.especie = especie).\n",
    "\n",
    "```python\n",
    "def darNombre(self):\n",
    "    return self.nombre\n",
    "\n",
    "def darEspecie(self):\n",
    "    return self.especie\n",
    "```\n",
    "\n",
    "Podemos definir métodos que necesitemos para mostrar e interactuar con los contenidos de las instancias. El método *darNombre* toma una instancia de la clase Mascota y nos devuelve el nombre de la misma. Lo mismo pasa con el método *darEspecie*. Una vez más necesitamos el parámetro *self* para que la función sepa con que instancia de Mascota trabajar y así poder averiguar su contenido.\n",
    "\n",
    "\n",
    "```python\n",
    "def __str__(self):\n",
    "    return \"{} es un {}\".format(self.nombre, self.especie)\n",
    "```\n",
    "\n",
    "El método **__str__** es una función especial de Python (nos podemos dar cuenta de que los métodos especiales de python comienzan y terminan con un doble guión bajo).\n",
    "Este método nos proporciona una cadena (informal) de la representación del objeto. En nuestro ejemplo \n",
    "\n",
    "```python\n",
    "laica = Mascota(\"Laica\", \"Perro\")\n",
    "```\n",
    "el método *__str__* nos va a devolver la cadena: Laica es un Perro.\n"
   ]
  },
  {
   "cell_type": "code",
   "execution_count": null,
   "metadata": {},
   "outputs": [],
   "source": [
    "# Obtener la especie de la mascota con el nombre de la instancia + el método:\n",
    "print (laica.darEspecie())\n",
    "\n",
    "# Obtener la especie llamando a la clase + el método y le pasamos entre paréntesis la instancia (laica)\n",
    "print (Mascota.darEspecie(laica))\n"
   ]
  },
  {
   "cell_type": "code",
   "execution_count": null,
   "metadata": {},
   "outputs": [],
   "source": [
    "# Creamos más mascotas\n",
    "buzy = Mascota(\"Buzy\", \"Perro\")\n",
    "\n",
    "lulu = Mascota(\"Lulu\", \"Gato\")"
   ]
  },
  {
   "cell_type": "markdown",
   "metadata": {},
   "source": [
    "### Herencia"
   ]
  },
  {
   "cell_type": "markdown",
   "metadata": {
    "nbpresent": {
     "id": "829150e0-712b-4739-92d6-37b9c3d789cb"
    }
   },
   "source": [
    "A veces no nos alcanza definiendo solo una clase como *Mascota*. Por ejemplo, algunas mascotas pueden ser perros y a la mayoría de ellos les gusta perseguir gatos, y tal vez nosotros queramos saber a que perro le gusta perseguir a los gatos y a que perro no. \n",
    "Podemos hacer otra clase *Perro* que va a heredar la clase Mascota.\n",
    "\n",
    "    "
   ]
  },
  {
   "cell_type": "code",
   "execution_count": null,
   "metadata": {},
   "outputs": [],
   "source": [
    "class Perro(Mascota):\n",
    "    def __init__(self, nombre, persigue_gatos):\n",
    "        Mascota.__init__(self, nombre, \"Perro\")\n",
    "        self.persigue_gatos=persigue_gatos\n",
    "    \n",
    "    def persigueGatos(self):\n",
    "        return self.persigue_gatos\n"
   ]
  },
  {
   "cell_type": "markdown",
   "metadata": {
    "nbpresent": {
     "id": "35a148d4-f201-4441-bf5e-8a07f93dea84"
    }
   },
   "source": [
    "**Clase Perro**:\n",
    "\n",
    "Definimos la clase con la palabra *class* seguido del nombre de la clase (en nuestro caso *Perro*) y luego entre paréntesis colocamos la clase que queremos heredar (en nuestro caso es la clase *Mascota*).\n",
    "Queremos especificar que toda la clase *Perro* va a tener como especie \"Perro\" y también si al perro le gusta perseguir a los gatos. \n",
    "Para ello debemos escribir la función de inicialización propia. También tenemos que llamar a la función de inicialización de la clase padre porque queremos que el nombre y la especie se inicialicen.\n",
    "\n",
    "Definimos también una clase Gato"
   ]
  },
  {
   "cell_type": "code",
   "execution_count": null,
   "metadata": {
    "nbpresent": {
     "id": "85d1ab90-cc65-4935-808b-a6f57ecc892e"
    }
   },
   "outputs": [],
   "source": [
    "class Gato(Mascota):\n",
    "    def __init__(self, nombre, odia_perros):\n",
    "        Mascota.__init__(self, nombre, \"Gato\")\n",
    "        self.odia_perros=odia_perros\n",
    "    \n",
    "    def odiaPerros(self):\n",
    "        return self.odia_perros\n"
   ]
  },
  {
   "cell_type": "markdown",
   "metadata": {},
   "source": [
    "Examinando diferencias entre Perro y Mascota:"
   ]
  },
  {
   "cell_type": "code",
   "execution_count": null,
   "metadata": {},
   "outputs": [],
   "source": [
    "mascota = Mascota(\"Juancho\", \"Perro\")\n",
    "perro = Perro(\"Juancho\", True)"
   ]
  },
  {
   "cell_type": "markdown",
   "metadata": {},
   "source": [
    "La función que se vamos a utilizar a continuación (**isinstance**), es una función especial que chequea si una instancia es de un determinado tipo de clase. Podemos ver que mascota es una instancia de Mascota, y perro es una instancia de las dos clases (Mascota, Perro)."
   ]
  },
  {
   "cell_type": "code",
   "execution_count": null,
   "metadata": {},
   "outputs": [],
   "source": [
    "isinstance(mascota, Mascota)\n"
   ]
  },
  {
   "cell_type": "code",
   "execution_count": null,
   "metadata": {},
   "outputs": [],
   "source": [
    "isinstance(mascota, Perro)"
   ]
  },
  {
   "cell_type": "code",
   "execution_count": null,
   "metadata": {},
   "outputs": [],
   "source": [
    "isinstance(perro, Mascota)"
   ]
  },
  {
   "cell_type": "code",
   "execution_count": null,
   "metadata": {},
   "outputs": [],
   "source": [
    "isinstance(perro, Perro)"
   ]
  },
  {
   "cell_type": "markdown",
   "metadata": {},
   "source": [
    "Esto se da porque *mascota* es una *Mascota*, pero no un *Perro*, no podemos llamar la función persigueGatos porque la clase Mascota no tiene este método. Pero si podemos llamar el método persigueGatos en perro porque se define para la clase Perro. Si podemos llamar el método darNombre  en mascota y perro porque los dos son una instancia de Mascota aunque darNombre no esté definido explícitamente en la clase Perro (hereda de Mascota sus métodos)."
   ]
  },
  {
   "cell_type": "markdown",
   "metadata": {},
   "source": [
    "La función que se vamos a utilizar a continuación (**issubclass(SubClase, ClaseSup)**), es una función especial que chequea si una clase (SubClase) es hija de otra superior (ClaseSup), devolviendo True o False según sea el caso."
   ]
  },
  {
   "cell_type": "code",
   "execution_count": null,
   "metadata": {},
   "outputs": [],
   "source": [
    "issubclass(Perro, Mascota)"
   ]
  },
  {
   "cell_type": "code",
   "execution_count": null,
   "metadata": {},
   "outputs": [],
   "source": [
    "issubclass(Mascota, Perro)"
   ]
  },
  {
   "cell_type": "markdown",
   "metadata": {},
   "source": [
    "### Herencia múltiple"
   ]
  },
  {
   "cell_type": "markdown",
   "metadata": {},
   "source": [
    "La herencia múltiple se refiere a la posibilidad de crear una clase a partir de múltiples clases superiores. Es importante nombrar adecuadamente los atributos y los métodos en cada clase para no crear conflictos:"
   ]
  },
  {
   "cell_type": "code",
   "execution_count": null,
   "metadata": {},
   "outputs": [],
   "source": [
    "class Telefono:\n",
    "    \"Clase teléfono\"\n",
    "    def __init__(self):\n",
    "        pass\n",
    "    def telefonear(self):\n",
    "        print('llamando')\n",
    "    def colgar(self):\n",
    "        print('colgando')        \n",
    "\n",
    "class Camara:\n",
    "    \"Clase camara fotográfica\"\n",
    "    def __init__(self):\n",
    "        pass\n",
    "    def fotografiar(self):\n",
    "        print('fotografiando')        \n",
    "\n",
    "class Reproductor:\n",
    "    \"Clase Reproductor\"\n",
    "    def __init__(self):\n",
    "        pass\n",
    "    def reproduciraudio(self):\n",
    "        print('reproduciendo audio')                  \n",
    "    def reproducirvideo(self):\n",
    "        print('reproduciendo video')                  \n",
    "\n",
    "class Movil(Telefono, Camara, Reproductor):\n",
    "    def __del__(self):\n",
    "        print('Móvil apagado')\n",
    "\n",
    "movil = Movil()\n",
    "movil.reproduciraudio()\n",
    "movil.telefonear()\n",
    "movil.fotografiar()\n",
    "del (movil)"
   ]
  },
  {
   "cell_type": "markdown",
   "metadata": {},
   "source": [
    "**_del_** se llama cuando se va a destruir una instancia."
   ]
  },
  {
   "cell_type": "markdown",
   "metadata": {
    "nbpresent": {
     "id": "d99a804c-9444-418b-bc94-3c2f064e2844"
    }
   },
   "source": [
    "---\n",
    "### Polimorfismo: Sobrecarga de métodos"
   ]
  },
  {
   "cell_type": "markdown",
   "metadata": {},
   "source": [
    "La sobrecarga de métodos se refiere a la posibilidad de que una subclase cuente con métodos con el mismo nombre que los de una clase superior pero que definan comportamientos diferentes.\n"
   ]
  },
  {
   "cell_type": "code",
   "execution_count": null,
   "metadata": {
    "nbpresent": {
     "id": "86172e20-fe16-447d-859f-24a81e563011"
    }
   },
   "outputs": [],
   "source": [
    "class Movil(Telefono, Camara, Reproductor):\n",
    "    def __init__(self):\n",
    "        print('Móvil encendido')\n",
    "    def reproduciraudio(self):\n",
    "        print('Reproduciendo lista mp3')\n",
    "    def __del__(self):\n",
    "        print('Móvil apagado')\n",
    "\n",
    "movil = Movil()  # Móvil encendido\n",
    "movil.reproduciraudio()  # Reproduciendo lista mp3\n",
    "del (movil)  # Móvil apagado"
   ]
  },
  {
   "cell_type": "markdown",
   "metadata": {},
   "source": [
    "### Ocultación de datos (Encapsulación)"
   ]
  },
  {
   "cell_type": "markdown",
   "metadata": {
    "nbpresent": {
     "id": "9659b1c1-9aed-4d71-b830-4a60d408ad71"
    }
   },
   "source": [
    "Los atributos de un objeto pueden ocultarse (superficialmente) para que no sean accedidos desde fuera de la definición de una clase. Para ello, es necesario nombrar los atributos con un prefijo de doble subrayado: **__atributo**"
   ]
  },
  {
   "cell_type": "code",
   "execution_count": null,
   "metadata": {},
   "outputs": [],
   "source": [
    "class Factura:\n",
    "    __tasa = 21\n",
    " \n",
    "    def __init__(self, unidad, precio):\n",
    "        self.unidad = unidad\n",
    "        self.precio = precio\n",
    "\n",
    "    def a_pagar(self):\n",
    "        total = self.unidad * self.precio\n",
    "        impuesto = total * Factura.__tasa / 100\n",
    "        return(total + impuesto)\n",
    " \n",
    "compra = Factura(12, 110)\n",
    "print (compra.unidad)\n",
    "print (compra.precio)\n",
    "print (compra.a_pagar(), \"euros\") \n",
    "print (Factura.__tasa)  \n",
    "\n"
   ]
  },
  {
   "cell_type": "markdown",
   "metadata": {},
   "source": [
    "Python protege estos atributos cambiando su nombre internamente. A sus nombres agrega el nombre de la clase:\n",
    "\n",
    "```python\n",
    "objeto._NombreClase__NombreAtributo.\n",
    "```"
   ]
  },
  {
   "cell_type": "code",
   "execution_count": null,
   "metadata": {},
   "outputs": [],
   "source": [
    "print(compra._Factura__tasa)\n"
   ]
  },
  {
   "cell_type": "markdown",
   "metadata": {},
   "source": [
    "Cuando se trabajan con clases es recomendable crear atributos ocultos y utilizar métodos específicos para acceder a los mismos para establecer, obtener o borrar la información:"
   ]
  },
  {
   "cell_type": "code",
   "execution_count": null,
   "metadata": {},
   "outputs": [],
   "source": [
    "class Empleado:\n",
    "    def __init__(self, nombre, salario):\n",
    "        self.__nombre = nombre\n",
    "        self.__salario = salario\n",
    "        \n",
    "    def getnombre(self):\n",
    "        return self.__nombre\n",
    "\n",
    "    def getsalario(self):\n",
    "        return self.__salario\n",
    "  \n",
    "    def setnombre(self, nombre):\n",
    "        self.__nombre = nombre\n",
    "\n",
    "    def setsalario(self, salario):\n",
    "        self.__salario = salario\n",
    "\n",
    "    def delnombre(self):\n",
    "        del self.__nombre\n",
    "\n",
    "    def delsalario(self):\n",
    "        del self.__salario\n",
    "\n",
    "empleado = Empleado(\"Francisco\", 30000)\n",
    "print (empleado.getnombre())\n",
    "empleado.setnombre(\"Francisco José\")\n",
    "print (empleado.getnombre(), \",\", empleado.getsalario())"
   ]
  },
  {
   "cell_type": "markdown",
   "metadata": {
    "collapsed": true,
    "nbpresent": {
     "id": "5a579720-fa62-4525-85e3-dd049cbd73be"
    }
   },
   "source": [
    "Estos métodos son útiles principalmente para los atributos más importantes de un objeto, generalmente aquellos que necesitan ser accedidos desde otros objetos.\n",
    "\n",
    "Pero hay otra alternativa al uso de estos métodos basada en las propiedades Python que simplifica la tarea. Las propiedades en Python son un tipo especial de atributo a los que se accede a través de llamadas a métodos. Con ello, es posible ocultar los métodos \"get\", \"set\" y \"del\" de manera que sólo es posible acceder mediante estas propiedades por ser públicas.\n",
    "\n",
    "No es obligatorio definir métodos \"get\", \"set\" y \"del\" para todas las propiedades. Es recomendable sólo para aquellos atributos en los que sea necesario algún tipo de validación anterior a establecer, obtener o borrar un valor. Para que una propiedad sea sólo de lectura hay que omitir las llamadas a los métodos \"set\" y \"del\"."
   ]
  },
  {
   "cell_type": "code",
   "execution_count": null,
   "metadata": {
    "nbpresent": {
     "id": "5d433d13-f44a-45bb-91fd-406f60b33b67"
    }
   },
   "outputs": [],
   "source": [
    "class Empleado():\n",
    "    def __init__(self, nombre, salario):\n",
    "        self.__nombre = nombre\n",
    "        self.__salario = salario\n",
    "        \n",
    "    def __getnombre(self):\n",
    "        return self.__nombre\n",
    "\n",
    "    def __getsalario(self):\n",
    "        return self.__salario\n",
    "  \n",
    "    def __setnombre(self, nombre):\n",
    "        self.__nombre = nombre\n",
    "\n",
    "    def __setsalario(self, salario):\n",
    "        self.__salario = salario\n",
    "\n",
    "    def __delnombre(self):\n",
    "        del self.__nombre\n",
    "\n",
    "    def __delsalario(self):\n",
    "        del self.__salario\n",
    "    \n",
    "    nombre = property(fget = __getnombre, \n",
    "                      fset = __setnombre, \n",
    "                      fdel = __delnombre, \n",
    "                      doc = \"Soy la propiedad 'nombre'\")\n",
    "    salario = property(fget = __getsalario, \n",
    "                       doc = \"Soy la propiedad 'salario'\")\n",
    "\n",
    "empleado = Empleado(\"Francisco José\", 30000)\n",
    "empleado.nombre = \"Rosa\"  # Realiza una llamada al método \"fset\"\n",
    "print(empleado.nombre, \n",
    "      empleado.salario)  # Realiza una llamada al método \"fget\""
   ]
  },
  {
   "cell_type": "markdown",
   "metadata": {},
   "source": [
    "**¿Que pásaría si intento ejecutar la siguiente instrucción?**\n",
    "\n",
    "```python\n",
    "empleado.salario = 33000\n",
    "```\n"
   ]
  },
  {
   "cell_type": "code",
   "execution_count": null,
   "metadata": {},
   "outputs": [],
   "source": [
    "empleado.salario = 33000\n"
   ]
  },
  {
   "cell_type": "markdown",
   "metadata": {},
   "source": [
    "### @Property en python\n"
   ]
  },
  {
   "cell_type": "markdown",
   "metadata": {},
   "source": [
    "La función integrada property() nos permitirá interceptar la escritura, lectura, borrado de los atributos y además nos permiten incorporar una documentación sobre los mismos. La sintaxis para invocarla es la siguiente:\n",
    "\n",
    "@property\n",
    "\n",
    "Si nosotros no pasamos alguno de los parámetros su valor por defecto sera None.\n",
    "\n",
    "**Getter**: Se encargará de interceptar la lectura del atributo. (get = obtener)\n",
    "\n",
    "**Setter** : Se encarga de interceptar cuando se escriba. (set = definir o escribir)\n",
    "\n",
    "**Deleter** : Se encarga de interceptar cuando es borrado. (delete = borrar)\n",
    "\n",
    "**doc** :  Recibirá una cadena para documentar el atributo. (doc = documentación)"
   ]
  },
  {
   "cell_type": "code",
   "execution_count": null,
   "metadata": {},
   "outputs": [],
   "source": [
    "class Perros(object): #Declaramos la clase principal Perros\n",
    "    def __init__(self, nombre, peso): #Definimos los parámetros \n",
    "        self.__nombre = nombre #Declaramos los atributos (privados ocultos)\n",
    "        self.__peso = peso\n",
    "        \n",
    "    @property\n",
    "    def nombre(self): #Definimos el método para obtener el nombre\n",
    "        \"Documentación del método nombre\" # Doc del método\n",
    "        return self.__nombre #Aquí simplemente estamos retornando el atributo\n",
    "\n",
    "\n",
    "#Hasta aquí definimos los métodos para obtener los atributos ocultos o privados getter.\n",
    "#Ahora vamos a utilizar setter y deleter para modificarlos\n",
    "\n",
    "    @nombre.setter #Propiedad SETTER\n",
    "    def nombre(self, nuevo):\n",
    "        print (\"Modificando nombre..\")\n",
    "        self.__nombre = nuevo\n",
    "        print (\"El nombre se ha modificado por\")\n",
    "        print (self.__nombre) #Aquí vuelvo a pedir que retorne el atributo para confirmar\n",
    "        \n",
    "    @nombre.deleter #Propiedad DELETER\n",
    "    def nombre(self): \n",
    "        print(\"Borrando nombre..\")\n",
    "        del self.__nombre\n",
    "        \n",
    "        #Hasta aquí property#\n",
    "\n",
    "    def peso(self):    #Definimos el método para obtener el peso\n",
    "        return self.__peso #Aquí simplemente estamos retornando el atributo\n",
    "\n",
    "#Instanciamos\n",
    "laica = Perros('Laica', 27)\n",
    "\n",
    "print (laica.nombre) #Imprimimos el nombre de laica. Se hace a través de getter\n",
    "#Que en este caso como esta luego de property lo toma como el primer método.\n",
    "\n",
    "laica.nombre = 'Lolita' #Cambiamos el atributo nombre que se hace a través de setter\n",
    "del laica.nombre #Borramos el nombre utilizando deleter\n"
   ]
  },
  {
   "cell_type": "markdown",
   "metadata": {},
   "source": [
    "Se define primero **property** y luego de ella el método mediante el cual retornamos el nombre (get) que en este caso al ser el primer método luego de property lo toma automáticamente como Getter. Luego especificamos el (set) que nos permite lanzar un print al modificar el atributo privado nombre. Y luego el (deleter) que nos permite lanzar otro print al borrarlo.\n",
    "\n",
    "Cuando llamemos, modifiquemos o eliminemos el atributo  \"__nombre\" se aplicaran dichas modificaciones según la acción que se realiza con el. ¿Me explico?. Las propiedades te permiten variar el resultado según la acción que se realiza con el atributo, si lo modificas sucede algo. Pero si lo borras sucede otra cosa.\n",
    "\n",
    "\n",
    "Recordamos que luego de property debes especificar el nombre del método seguido del punto y la propiedad de la que se trate(setter, getter, deleter).\n"
   ]
  },
  {
   "cell_type": "markdown",
   "metadata": {},
   "source": [
    "Ahora vamos a agregar el peso, permitirnos modificarlo u borrarlo. En ese caso no podemos colocarlo dentro del mismo, se debe crear otro decorador para dicho método."
   ]
  },
  {
   "cell_type": "code",
   "execution_count": null,
   "metadata": {},
   "outputs": [],
   "source": [
    "class Perros(object): #Declaramos la clase principal Perros\n",
    "    def __init__(self, nombre, peso): #Definimos los parámetros \n",
    "        self.__nombre = nombre #Declaramos los atributos\n",
    "        self.__peso = peso\n",
    "    @property\n",
    "    def nombre(self): #Definimos el método para obtener el nombre\n",
    "        \"Documentación del método nombre bla bla\" # Doc del método\n",
    "        return self.__nombre #Aquí simplemente estamos retornando el atributo \n",
    "\n",
    "\n",
    "#Hasta aquí definimos los métodos para obtener los atributos.\n",
    "#Ahora vamos a utilizar setter y deleter para modificarlos\n",
    "\n",
    "    @nombre.setter #Propiedad SETTER\n",
    "    def nombre(self, nuevo):\n",
    "        print (\"Modificando nombre..\")\n",
    "        self.__nombre = nuevo\n",
    "        print (\"El nombre se ha modificado por\")\n",
    "        print (self.__nombre) #Aquí vuelvo a pedir que retorne el atributo para confirmar\n",
    "   \n",
    "    @nombre.deleter #Propiedad DELETER\n",
    "    def nombre(self): \n",
    "        print(\"Borrando nombre..\")\n",
    "        del self.__nombre\n",
    "        \n",
    "    @property\n",
    "    def peso(self):    #Definimos el método para obtener el peso #Automáticamente GETTER\n",
    "        return self.__peso #Aquí simplemente estamos retornando el atributo\n",
    "\n",
    "    @peso.setter\n",
    "    def peso(self, nuevopeso):\n",
    "        self.__peso = nuevopeso\n",
    "        print (\"El peso ahora es\")\n",
    "        print (self.__peso)\n",
    "    \n",
    "    @peso.deleter #Propiedad DELETER\n",
    "    def peso(self): \n",
    "        print(\"Borrando peso..\")\n",
    "        del self.__peso\n",
    "\n",
    "#Instanciamos\n",
    "laica = Perros('Laica', 27)\n",
    "print (laica.nombre) #Imprimimos el nombre de laica. Se hace a través de getter\n",
    "#Que en este caso como esta luego de property lo toma como el primer método..\n",
    "\n",
    "laica.nombre = 'Lolita' #Cambiamos el atributo nombre que se hace a través de setter\n",
    "print (laica.nombre) #Volvemos a imprimir\n",
    "laica.peso = 28\n",
    "del laica.nombre #Borramos el nombre utilizando deleter"
   ]
  },
  {
   "cell_type": "markdown",
   "metadata": {},
   "source": [
    "### Orden de Resolución de Métodos"
   ]
  },
  {
   "cell_type": "markdown",
   "metadata": {
    "nbpresent": {
     "id": "ee1bdf03-6e13-4f1f-9dc9-22d4e344fdba"
    }
   },
   "source": [
    "Es importante conocer cómo funciona la herencia en Python cuando existe una jerarquía con varios niveles de clases que pueden tener definidos métodos que utilizan el mismo nombre. \n",
    "\n",
    "En el siguiente ejemplo se define un primer nivel de clases con una clase llamada Clase_A. A continuación, en un segundo nivel se definen dos clases más (Clase_A1 y Clase_A2) que heredan de la primera. Y en el tercer y último nivel, se define la clase Clase_X que hereda de las dos clases de segundo nivel. \n",
    "\n",
    "Teniendo en cuenta que en las clases mencionadas hay métodos con el mismo nombre, vamos a mostrar cómo calcula Python el orden de resolución de métodos."
   ]
  },
  {
   "cell_type": "code",
   "execution_count": null,
   "metadata": {
    "nbpresent": {
     "id": "14d1a927-b37f-4323-9404-17d453f3b487"
    }
   },
   "outputs": [],
   "source": [
    "class Clase_A(object):\n",
    "    def metodo1(self):\n",
    "        print(\"Clase_A.metodo1()\")\n",
    "        \n",
    "    def metodo3(self):\n",
    "        print(\"Clase_A.metodo3()\")\n",
    "        \n",
    "    def metodo4(self):\n",
    "        print(\"Clase_A.metodo4()\")\n",
    "\n",
    "class Clase_A1(Clase_A):\n",
    "    def metodo1(self):\n",
    "        print(\"Clase_A1.metodo1()\")\n",
    "\n",
    "    def metodo2(self):\n",
    "        print(\"Clase_A1.metodo2()\")\n",
    "\n",
    "class Clase_A2(Clase_A):\n",
    "    def metodo1(self):\n",
    "        print(\"Clase_A2.metodo1()\")\n",
    "\n",
    "    def metodo3(self):\n",
    "        print(\"Clase_A2.metodo3()\")\n",
    "\n",
    "class Clase_X(Clase_A1, Clase_A2):\n",
    "    def metodo1(self):\n",
    "        print(\"Clase_X.metodo1()\")\n",
    "\n",
    "objeto1 = Clase_X()  # Creación de una instancia (objeto) de Clase_X\n",
    "objeto1.metodo1()  # Clase_X.metodo1()\n",
    "objeto1.metodo2()  # Clase_A1.metodo2()\n",
    "objeto1.metodo3()  # Clase_A2.metodo3()\n",
    "objeto1.metodo4()  # Clase_A.metodo4()"
   ]
  },
  {
   "cell_type": "markdown",
   "metadata": {},
   "source": [
    "En el ejemplo se crea el objeto **objeto1** de la **Clase_X** y después se llama al método **objeto1.metodo1()**. Como dicho método existe en la propia **Clase_X** ese será al que se llame, con independencia de que exista en otra clase. \n",
    "\n",
    "Como puede comprobarse el método **metodo1()** existe en todas las clases. Si no existiera en la **Clase_X** se hubiera llamado al de la clase **Clase_A1** que tiene mayor prioridad, primero, porque se encuentra en el nivel inmediatamente anterior y, segundo, porque esa clase es nombrada antes que **Clase_A2** en la definición de **Clase_X**. \n",
    "\n",
    "A continuación, se invoca al método **objeto1.metodo2()** que no existe en la clase **Clase_X** pero si existe en la clase **Clase_A1**. Como dicho método no existe en otro lugar, ese será el llamado. \n",
    "\n",
    "Después, se invoca al método **objeto1.metodo3()** que existe tanto en **Clase_A2** como en **Clase_A**. Como la **Clase_A2** se encuentra en el nivel inmediatamente superior (con respecto a la **Clase_X**) ese será el llamado. \n",
    "\n",
    "Por último, se llama al método **objeto1.metodo4()** que no existe en ninguna clase del nivel inmediatamente superior. Como dicho método está presente en la clase **Clase_A**, ese será el invocado. \n",
    "\n",
    "En definitiva, dentro de una jerarquía de clases la sobrecarga se resuelve de abajo a arriba y de izquierda a derecha. Si una clase hereda de varias clases se considerará también el orden en que fueron declaradas en la propia definición, es decir, no es igual definir la clase así \n",
    "\n",
    "```python\n",
    "    class Clase_X(Clase_A1, Clase_A2)\n",
    "```\n",
    "que de esta otra forma\n",
    "```python\n",
    "    class Clase_X(Clase_A2, Clase_A1)\n",
    "```\n"
   ]
  },
  {
   "cell_type": "markdown",
   "metadata": {},
   "source": [
    "Para calcular el orden de resolución Python utiliza el método MRO (Method Resolution Order). \n",
    "\n",
    "El cálculo realizado se puede consultar accediendo al atributo especial __mro__, que devuelve una tupla con las clases por su orden de resolución de métodos (MRO).\n"
   ]
  },
  {
   "cell_type": "code",
   "execution_count": null,
   "metadata": {},
   "outputs": [],
   "source": [
    "print(Clase_X.__mro__)  "
   ]
  },
  {
   "cell_type": "markdown",
   "metadata": {},
   "source": [
    "### La función super()"
   ]
  },
  {
   "cell_type": "markdown",
   "metadata": {},
   "source": [
    "La función **super()** se utiliza para llamar a métodos definidos en alguna de las clases de las que se hereda sin nombrarla/s explícitamente, teniendo en cuenta el orden de resolución de métodos (MRO). No hay problemas cuando se hereda de sólo una clase, pero si la jerarquía de clases es extensa podemos obtener resultados inesperados si no se tiene un amplio conocimiento de todas las clases y de sus vínculos. \n",
    "\n",
    "En el siguiente ejemplo se definen las clases **Clase_I** y **Clase_II** con dos métodos cada una, siendo uno de ellos el método constructor o método **__init__**. \n",
    "\n",
    "A continuación, se definen las clases **Clase_III** y **Clase_IV** que heredan sus métodos y atributos de las clases **Clase_I** y **Clase_II**, pero en cada caso se han establecido con un orden distinto en la definición. \n",
    "\n",
    "Después, para probar el funcionamiento de la función super() se instancian dos objetos de la **Clase_III** y **Clase_IV**, se invocan métodos y se acceden a los atributos. En el propio código se analizan los resultados obtenidos.\n"
   ]
  },
  {
   "cell_type": "code",
   "execution_count": null,
   "metadata": {
    "nbpresent": {
     "id": "80be6133-d85a-4e43-9964-6578abcbaaac"
    }
   },
   "outputs": [],
   "source": [
    "class Clase_I(object):\n",
    "    def __init__(self):\n",
    "        self.var1 = 1\n",
    "        print('Clase_I.__init__')\n",
    "        \n",
    "    def metodo1(self):\n",
    "        self.var2 = 1\n",
    "        print('Clase_I.metodo1()')\n",
    "\n",
    "class Clase_II(object):\n",
    "    def __init__(self):\n",
    "        self.var1 = 2\n",
    "        print('Clase_II.__init__')\n",
    "        \n",
    "    def metodo1(self):\n",
    "        self.var2 = 2\n",
    "        print('Clase_II.metodo1()')\n",
    "        \n",
    "class Clase_III(Clase_I, Clase_II):\n",
    "    def __init__(self):\n",
    "        self.var1 = 3\n",
    "        print('Clase_III.__init__', end = ', ')\n",
    "        super().__init__()\n",
    "        \n",
    "    def metodo1(self):\n",
    "        print('Clase_III.metodo1()', end = ', ')\n",
    "        super().metodo1()\n",
    "        self.var2 = 3\n",
    "\n",
    "class Clase_IV(Clase_II, Clase_I):\n",
    "    def __init__(self):\n",
    "        self.var1 = 4\n",
    "        print('Clase_IV.__init__', end = ', ')\n",
    "        super().__init__()\n",
    "        \n",
    "    def metodo1(self):\n",
    "        print('Clase_IV.metodo1()', end = ', ')\n",
    "        super().metodo1()\n",
    "        self.var2 = 4\n",
    "\n",
    "# Al crear objeto1 y objeto2 en el método __init__ se \n",
    "# invoca también el método __init__ de su clase superior\n",
    "\n",
    "objeto1 = Clase_III()  # Clase_III.__init__, Clase_I.__init__\n",
    "objeto2 = Clase_IV()  # Clase_IV.__init__, Clase_II.__init__\n",
    "\n",
    "# El atributo especial __mro__ retorna una tupla\n",
    "# con las clases ordenadas de izquierda a derecha\n",
    "# que indican la prioridad en la herencia.\n",
    "# Mientras en la Clase_III tiene mayor prioridad en \n",
    "# la herencia la Clase_I que la Clase_II; en la Clase_IV\n",
    "# es al revés\n",
    "\n",
    "print(Clase_III.__mro__)\n",
    "# (class '__main__.Clase_III', class '__main__.Clase_I', \n",
    "#  class '__main__.Clase_II', class 'object')\n",
    " \n",
    "print(Clase_IV.__mro__)  \n",
    "# (class '__main__.Clase_IV', class '__main__.Clase_II', \n",
    "#  class '__main__.Clase_I', class 'object')\n",
    "\n",
    "# Al llamar al metodo1 de objeto1 y objeto2 se invoca \n",
    "# también el equivalente de su clase superior\n",
    "\n",
    "objeto1.metodo1()  # Clase_III.metodo1(), Clase_I.metodo1()\n",
    "objeto2.metodo1()  # Clase_IV.metodo1(), Clase_II.metodo1()\n",
    "\n",
    "# Al acceder a la variable var1 de objeto1 y objeto2\n",
    "# se obtiene el valor que tiene en la clase superior\n",
    "# porque en el método __init__ de su clase, DESPUÉS de\n",
    "# la asignación, se invoca con la función super() al \n",
    "# método __init__ de la clase superior donde se realiza\n",
    "# una asignación a la misma variable.\n",
    "\n",
    "print(objeto1.var1)  # 1\n",
    "print(objeto2.var1)  # 2\n",
    "\n",
    "# Al acceder a la variable var2 de objeto1 y objeto2\n",
    "# se obtiene el valor que tiene en su clase \n",
    "# porque aunque en el método metodo1() de su clase \n",
    "# se invoca con la función super() a su equivalente de\n",
    "# la clase superior, la invocación se realiza ANTES\n",
    "# de la asignación a dicha variable.\n",
    "\n",
    "print(objeto1.var2) # 3\n",
    "print(objeto2.var2) # 4"
   ]
  },
  {
   "cell_type": "code",
   "execution_count": null,
   "metadata": {},
   "outputs": [],
   "source": []
  }
 ],
 "metadata": {
  "anaconda-cloud": {},
  "celltoolbar": "Raw Cell Format",
  "kernelspec": {
   "display_name": "Python 3",
   "language": "python",
   "name": "python3"
  },
  "language_info": {
   "codemirror_mode": {
    "name": "ipython",
    "version": 3
   },
   "file_extension": ".py",
   "mimetype": "text/x-python",
   "name": "python",
   "nbconvert_exporter": "python",
   "pygments_lexer": "ipython3",
   "version": "3.8.3"
  },
  "nbpresent": {
   "slides": {
    "1390653e-bdb6-444a-b611-39c60ffb77a1": {
     "id": "1390653e-bdb6-444a-b611-39c60ffb77a1",
     "prev": "5c2c8cc8-3676-4c06-b94c-d3f866ade69b",
     "regions": {
      "620813b3-9326-41e6-9d30-f5ac4f858225": {
       "attrs": {
        "height": 0.8,
        "width": 0.8,
        "x": 0.1,
        "y": 0.1
       },
       "content": {
        "cell": "86423d42-e808-47e6-b1a7-e925e195f821",
        "part": "whole"
       },
       "id": "620813b3-9326-41e6-9d30-f5ac4f858225"
      }
     }
    },
    "21036f68-a492-4532-a832-b213435c0ad2": {
     "id": "21036f68-a492-4532-a832-b213435c0ad2",
     "prev": "2c1c7f11-e5ee-4a25-8975-f0b033ba739a",
     "regions": {
      "a3908958-0784-4faa-ac97-b9325abe8ede": {
       "attrs": {
        "height": 0.8,
        "width": 0.8,
        "x": 0.1,
        "y": 0.1
       },
       "content": {
        "cell": "9aa64747-dc13-4bd9-bf26-73606628ad1c",
        "part": "whole"
       },
       "id": "a3908958-0784-4faa-ac97-b9325abe8ede"
      }
     }
    },
    "2c1c7f11-e5ee-4a25-8975-f0b033ba739a": {
     "id": "2c1c7f11-e5ee-4a25-8975-f0b033ba739a",
     "prev": "f3f10f50-4cad-4149-b308-c66e6a493a72",
     "regions": {
      "9e2d820e-ec17-4915-b960-0e0d5f640379": {
       "attrs": {
        "height": 0.8,
        "width": 0.8,
        "x": 0.1,
        "y": 0.1
       },
       "content": {
        "cell": "0281a659-abae-4cb9-b30f-b552b9db399e",
        "part": "whole"
       },
       "id": "9e2d820e-ec17-4915-b960-0e0d5f640379"
      }
     }
    },
    "30509a9a-dbd8-4dbd-9fab-852a7266d894": {
     "id": "30509a9a-dbd8-4dbd-9fab-852a7266d894",
     "prev": "8b078b7a-c2c6-4129-a19f-2a4f5c4a26f3",
     "regions": {
      "7baa4379-8f84-4d8f-b002-5a5ffd051489": {
       "attrs": {
        "height": 0.8,
        "width": 0.8,
        "x": 0.1,
        "y": 0.1
       },
       "content": {
        "cell": "14d1a927-b37f-4323-9404-17d453f3b487",
        "part": "whole"
       },
       "id": "7baa4379-8f84-4d8f-b002-5a5ffd051489"
      }
     }
    },
    "42d1bd80-265e-4acf-bbc1-b202afddade3": {
     "id": "42d1bd80-265e-4acf-bbc1-b202afddade3",
     "prev": "9bfe6214-4631-45b5-a05e-8923f178bb57",
     "regions": {
      "f2340145-4108-4fed-a0bc-4b91ca6c10ae": {
       "attrs": {
        "height": 0.8,
        "width": 0.8,
        "x": 0.1,
        "y": 0.1
       },
       "content": {
        "cell": "80be6133-d85a-4e43-9964-6578abcbaaac",
        "part": "whole"
       },
       "id": "f2340145-4108-4fed-a0bc-4b91ca6c10ae"
      }
     }
    },
    "5c2c8cc8-3676-4c06-b94c-d3f866ade69b": {
     "id": "5c2c8cc8-3676-4c06-b94c-d3f866ade69b",
     "prev": "6c4bc874-f3fc-472c-a81c-cd415b91c24b",
     "regions": {
      "e1de7ab6-4ef2-4b14-92d7-b174bf32806e": {
       "attrs": {
        "height": 0.8,
        "width": 0.8,
        "x": 0.1,
        "y": 0.1
       },
       "content": {
        "cell": "ae8725fa-30f7-4d7f-a2c2-5f86953d730b",
        "part": "whole"
       },
       "id": "e1de7ab6-4ef2-4b14-92d7-b174bf32806e"
      }
     }
    },
    "5cab5674-74dc-4378-93d7-eaa79e90cdae": {
     "id": "5cab5674-74dc-4378-93d7-eaa79e90cdae",
     "prev": "ba274d18-2760-4e55-ad47-2727b824fd00",
     "regions": {
      "2178d7cf-bf1e-4850-95a2-1509f15febfa": {
       "attrs": {
        "height": 0.8,
        "width": 0.8,
        "x": 0.1,
        "y": 0.1
       },
       "content": {
        "cell": "5d433d13-f44a-45bb-91fd-406f60b33b67",
        "part": "whole"
       },
       "id": "2178d7cf-bf1e-4850-95a2-1509f15febfa"
      }
     }
    },
    "638df7e1-84d1-4fd4-a15c-c94b731d1bea": {
     "id": "638df7e1-84d1-4fd4-a15c-c94b731d1bea",
     "prev": "b9dddf99-da24-46e1-81d4-8ac33b6fc3a3",
     "regions": {
      "deba8b1f-d997-4426-8f1b-978df7f19b41": {
       "attrs": {
        "height": 0.8,
        "width": 0.8,
        "x": 0.1,
        "y": 0.1
       },
       "content": {
        "cell": "7adaaf8f-a83e-456b-b99a-d3b3d4cb6d1a",
        "part": "whole"
       },
       "id": "deba8b1f-d997-4426-8f1b-978df7f19b41"
      }
     }
    },
    "6bda9eb4-0724-4e53-9971-131d0cb5f9e2": {
     "id": "6bda9eb4-0724-4e53-9971-131d0cb5f9e2",
     "prev": "ee33e624-cd65-4b8c-b28b-c95623a56dbf",
     "regions": {
      "feffbbd2-27d1-4318-8359-7d57583ee2bc": {
       "attrs": {
        "height": 0.8,
        "width": 0.8,
        "x": 0.1,
        "y": 0.1
       },
       "content": {
        "cell": "8dce188c-36b7-41fa-9020-b5cb5502e452",
        "part": "whole"
       },
       "id": "feffbbd2-27d1-4318-8359-7d57583ee2bc"
      }
     }
    },
    "6c4bc874-f3fc-472c-a81c-cd415b91c24b": {
     "id": "6c4bc874-f3fc-472c-a81c-cd415b91c24b",
     "prev": null,
     "regions": {
      "c9eac7e8-d033-4b03-8bf7-abd58ffe8d41": {
       "attrs": {
        "height": 0.8,
        "width": 0.8,
        "x": 0.1,
        "y": 0.1
       },
       "content": {
        "cell": "71219fc3-c9cb-4700-9f0b-ab38b1b223da",
        "part": "whole"
       },
       "id": "c9eac7e8-d033-4b03-8bf7-abd58ffe8d41"
      }
     }
    },
    "6d7ab34f-9d99-4c74-9877-27b25abc73f0": {
     "id": "6d7ab34f-9d99-4c74-9877-27b25abc73f0",
     "prev": "febe7de9-9362-4079-bfe9-2d4dfddf00e2",
     "regions": {
      "2ee252de-db5f-43e7-b4b7-7f59bba29962": {
       "attrs": {
        "height": 0.8,
        "width": 0.8,
        "x": 0.1,
        "y": 0.1
       },
       "content": {
        "cell": "85d1ab90-cc65-4935-808b-a6f57ecc892e",
        "part": "whole"
       },
       "id": "2ee252de-db5f-43e7-b4b7-7f59bba29962"
      }
     }
    },
    "7ea582c3-439d-4ec2-9f27-dea18bcacc31": {
     "id": "7ea582c3-439d-4ec2-9f27-dea18bcacc31",
     "prev": "f0727a74-61a1-48c1-94a5-3e7490c29f0b",
     "regions": {
      "652960af-b61f-4c36-b122-3eacd714867b": {
       "attrs": {
        "height": 0.8,
        "width": 0.8,
        "x": 0.1,
        "y": 0.1
       },
       "content": {
        "cell": "86172e20-fe16-447d-859f-24a81e563011",
        "part": "whole"
       },
       "id": "652960af-b61f-4c36-b122-3eacd714867b"
      }
     }
    },
    "8b078b7a-c2c6-4129-a19f-2a4f5c4a26f3": {
     "id": "8b078b7a-c2c6-4129-a19f-2a4f5c4a26f3",
     "prev": "5cab5674-74dc-4378-93d7-eaa79e90cdae",
     "regions": {
      "dce1e605-9342-414d-b8c6-7dcb922fbf47": {
       "attrs": {
        "height": 0.8,
        "width": 0.8,
        "x": 0.1,
        "y": 0.1
       },
       "content": {
        "cell": "ee1bdf03-6e13-4f1f-9dc9-22d4e344fdba",
        "part": "whole"
       },
       "id": "dce1e605-9342-414d-b8c6-7dcb922fbf47"
      }
     }
    },
    "999513ad-b53e-4d84-b9ef-ed37967f74d6": {
     "id": "999513ad-b53e-4d84-b9ef-ed37967f74d6",
     "prev": "638df7e1-84d1-4fd4-a15c-c94b731d1bea",
     "regions": {
      "2e85c1b2-3c30-413e-9b0f-141281da3a2a": {
       "attrs": {
        "height": 0.8,
        "width": 0.8,
        "x": 0.1,
        "y": 0.1
       },
       "content": {
        "cell": "998dc7f5-ab6d-4fb8-866f-4fa96a06aaaa",
        "part": "whole"
       },
       "id": "2e85c1b2-3c30-413e-9b0f-141281da3a2a"
      }
     }
    },
    "9add3d79-8621-4167-8e1d-d4ae48fba71b": {
     "id": "9add3d79-8621-4167-8e1d-d4ae48fba71b",
     "prev": "7ea582c3-439d-4ec2-9f27-dea18bcacc31",
     "regions": {
      "d5f4537e-4d8c-4179-b14b-6c475f50b04e": {
       "attrs": {
        "height": 0.8,
        "width": 0.8,
        "x": 0.1,
        "y": 0.1
       },
       "content": {
        "cell": "9659b1c1-9aed-4d71-b830-4a60d408ad71",
        "part": "whole"
       },
       "id": "d5f4537e-4d8c-4179-b14b-6c475f50b04e"
      }
     }
    },
    "9bfe6214-4631-45b5-a05e-8923f178bb57": {
     "id": "9bfe6214-4631-45b5-a05e-8923f178bb57",
     "prev": "30509a9a-dbd8-4dbd-9fab-852a7266d894",
     "regions": {
      "aac53254-d149-49f2-8f92-670c6f2714bb": {
       "attrs": {
        "height": 0.8,
        "width": 0.8,
        "x": 0.1,
        "y": 0.1
       },
       "content": {
        "cell": "c71a78d7-9d0e-4825-9c84-9998f971317d",
        "part": "whole"
       },
       "id": "aac53254-d149-49f2-8f92-670c6f2714bb"
      }
     }
    },
    "b9dddf99-da24-46e1-81d4-8ac33b6fc3a3": {
     "id": "b9dddf99-da24-46e1-81d4-8ac33b6fc3a3",
     "prev": "1390653e-bdb6-444a-b611-39c60ffb77a1",
     "regions": {
      "0b31dbb4-f15b-4a16-9420-c5dc8ed4e871": {
       "attrs": {
        "height": 0.8,
        "width": 0.8,
        "x": 0.1,
        "y": 0.1
       },
       "content": {
        "cell": "d0569bb0-fad8-48b7-8d48-0066bfb90401",
        "part": "whole"
       },
       "id": "0b31dbb4-f15b-4a16-9420-c5dc8ed4e871"
      }
     }
    },
    "ba274d18-2760-4e55-ad47-2727b824fd00": {
     "id": "ba274d18-2760-4e55-ad47-2727b824fd00",
     "prev": "ed47079d-58cf-4b87-a9fa-a709d8a7c3c6",
     "regions": {
      "13000b51-bd66-4fb5-970b-20bfad440880": {
       "attrs": {
        "height": 0.8,
        "width": 0.8,
        "x": 0.1,
        "y": 0.1
       },
       "content": {
        "cell": "f6847886-4044-43a7-9edd-f18efddcb7a9",
        "part": "whole"
       },
       "id": "13000b51-bd66-4fb5-970b-20bfad440880"
      }
     }
    },
    "ed47079d-58cf-4b87-a9fa-a709d8a7c3c6": {
     "id": "ed47079d-58cf-4b87-a9fa-a709d8a7c3c6",
     "prev": "9add3d79-8621-4167-8e1d-d4ae48fba71b",
     "regions": {
      "a96aea94-1714-4020-83f9-dbc03e9fd55e": {
       "attrs": {
        "height": 0.8,
        "width": 0.8,
        "x": 0.1,
        "y": 0.1
       },
       "content": {
        "cell": "5a579720-fa62-4525-85e3-dd049cbd73be",
        "part": "whole"
       },
       "id": "a96aea94-1714-4020-83f9-dbc03e9fd55e"
      }
     }
    },
    "ee33e624-cd65-4b8c-b28b-c95623a56dbf": {
     "id": "ee33e624-cd65-4b8c-b28b-c95623a56dbf",
     "prev": "999513ad-b53e-4d84-b9ef-ed37967f74d6",
     "regions": {
      "325ae98d-0855-4d16-8408-6d12f47efa24": {
       "attrs": {
        "height": 0.8,
        "width": 0.8,
        "x": 0.1,
        "y": 0.1
       },
       "content": {
        "cell": "829150e0-712b-4739-92d6-37b9c3d789cb",
        "part": "whole"
       },
       "id": "325ae98d-0855-4d16-8408-6d12f47efa24"
      }
     }
    },
    "f0727a74-61a1-48c1-94a5-3e7490c29f0b": {
     "id": "f0727a74-61a1-48c1-94a5-3e7490c29f0b",
     "prev": "6d7ab34f-9d99-4c74-9877-27b25abc73f0",
     "regions": {
      "1666081e-448d-4f80-90f2-9f26f1568cdc": {
       "attrs": {
        "height": 0.8,
        "width": 0.8,
        "x": 0.1,
        "y": 0.1
       },
       "content": {
        "cell": "d99a804c-9444-418b-bc94-3c2f064e2844",
        "part": "whole"
       },
       "id": "1666081e-448d-4f80-90f2-9f26f1568cdc"
      }
     }
    },
    "f3f10f50-4cad-4149-b308-c66e6a493a72": {
     "id": "f3f10f50-4cad-4149-b308-c66e6a493a72",
     "prev": "42d1bd80-265e-4acf-bbc1-b202afddade3",
     "regions": {
      "4fc1185f-bdb8-46fc-99bd-b8d30defeca9": {
       "attrs": {
        "height": 0.8,
        "width": 0.8,
        "x": 0.1,
        "y": 0.1
       },
       "content": {
        "cell": "9b7597e9-aaa9-4d9f-ba0d-22f43d1a3900",
        "part": "whole"
       },
       "id": "4fc1185f-bdb8-46fc-99bd-b8d30defeca9"
      }
     }
    },
    "febe7de9-9362-4079-bfe9-2d4dfddf00e2": {
     "id": "febe7de9-9362-4079-bfe9-2d4dfddf00e2",
     "prev": "6bda9eb4-0724-4e53-9971-131d0cb5f9e2",
     "regions": {
      "42348103-1cd6-4bac-b346-33cd41aea444": {
       "attrs": {
        "height": 0.8,
        "width": 0.8,
        "x": 0.1,
        "y": 0.1
       },
       "content": {
        "cell": "35a148d4-f201-4441-bf5e-8a07f93dea84",
        "part": "whole"
       },
       "id": "42348103-1cd6-4bac-b346-33cd41aea444"
      }
     }
    }
   },
   "themes": {}
  }
 },
 "nbformat": 4,
 "nbformat_minor": 1
}
