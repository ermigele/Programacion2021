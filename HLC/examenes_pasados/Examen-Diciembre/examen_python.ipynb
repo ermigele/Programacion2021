{
 "cells": [
  {
   "cell_type": "markdown",
   "metadata": {},
   "source": [
    "# Examen Python \n",
    "**Fecha**: 9 de Diciembre 2020  **I.E.S. Velázquez:** Curso 2020-2021\n",
    "**Alumno**:"
   ]
  },
  {
   "cell_type": "markdown",
   "metadata": {},
   "source": [
    "## Índice de ejercicios\n",
    "* [Ejercicio 1](#ejercicio_uno)\n",
    "* [Ejercicio 2](#ejercicio_dos)\n",
    "* [Ejercicio 3](#ejercicio_tres)\n",
    "* [Ejercicio 4](#ejercicio_cuatro)\n",
    "* [Ejercicio 5](#ejercicio_cinco)\n",
    "* [Ejercicio 6](#ejercicio_seis)\n",
    "* [Ejercicio 7](#ejercicio_siete)\n",
    "* [Ejercicio 8](#ejercicio_ocho)"
   ]
  },
  {
   "cell_type": "markdown",
   "metadata": {},
   "source": [
    "## Ejercicio 1 <a name=\"ejercicio_uno\"/>"
   ]
  },
  {
   "cell_type": "markdown",
   "metadata": {},
   "source": [
    "Escribe una función que recibe un **conjunto de números enteros aleatorios** y devuelve **dos listas ordenadas**. La primera lista ordenada contiene los números pares y la segunda los números impares.\n",
    "\n",
    "El conjunto estará formado como máximo por 100 números enteros aleatorios comprendidos entre el 1 y 999.\n"
   ]
  },
  {
   "cell_type": "markdown",
   "metadata": {},
   "source": [
    "### ¡Prueba tú!"
   ]
  },
  {
   "cell_type": "code",
   "execution_count": 15,
   "metadata": {},
   "outputs": [
    {
     "name": "stdout",
     "output_type": "stream",
     "text": [
      "([4, 10, 12, 16, 18, 20, 28, 32, 34, 36, 38, 40, 42, 44, 46, 48, 52, 54, 56, 58, 62, 64, 66, 68, 70, 72, 74, 76, 84, 86, 88, 90, 92, 94, 100], [11, 13, 15, 17, 23, 25, 27, 29, 31, 33, 37, 39, 41, 43, 49, 51, 55, 59, 61, 65, 69, 71, 75, 77, 79, 81, 83, 87, 89, 91, 93, 97])\n"
     ]
    }
   ],
   "source": [
    "# importación de la librería random\n",
    "import random\n",
    "# randrange devuelve un número aleatorio en un rango\n",
    "\n",
    "def listasOrdenadas(conjunto):\n",
    "    listaPar = []\n",
    "    listaImpar = []\n",
    "    for n in conjunto:\n",
    "        if n % 2 == 0:\n",
    "            listaPar.append(n)\n",
    "        else:\n",
    "            listaImpar.append(n)\n",
    "\n",
    "    return listaPar, listaImpar\n",
    "\n",
    "conjunto = set()\n",
    "for _ in range(1,100):\n",
    "    conjunto.add(random.randrange(1,101))\n",
    "print(listasOrdenadas(conjunto))"
   ]
  },
  {
   "cell_type": "markdown",
   "metadata": {},
   "source": [
    "<hr>"
   ]
  },
  {
   "cell_type": "markdown",
   "metadata": {},
   "source": [
    "## Ejercicio 2 <a name=\"ejercicio_dos\"/>"
   ]
  },
  {
   "cell_type": "markdown",
   "metadata": {},
   "source": [
    "Escribe un programa que genere una lista, de la forma más eficiente, con los números del 1 al 10 y los muestre por pantalla en orden inverso separados por comas."
   ]
  },
  {
   "cell_type": "markdown",
   "metadata": {},
   "source": [
    "## ¡Prueba tú!"
   ]
  },
  {
   "cell_type": "code",
   "execution_count": 2,
   "metadata": {},
   "outputs": [
    {
     "name": "stdout",
     "output_type": "stream",
     "text": [
      "[10, 9, 8, 7, 6, 5, 4, 3, 2, 1]\n"
     ]
    }
   ],
   "source": [
    "lista = [1,2,3,4,5,6,7,8,9,10]\n",
    "print(list(reversed(lista)))"
   ]
  },
  {
   "cell_type": "markdown",
   "metadata": {},
   "source": [
    "<hr>"
   ]
  },
  {
   "cell_type": "markdown",
   "metadata": {},
   "source": [
    "## Ejercicio 3 <a name=\"ejercicio_tres\"/>"
   ]
  },
  {
   "cell_type": "markdown",
   "metadata": {},
   "source": [
    "Obtener múltiplos de \"tres\" y \"nueve\".\n",
    "\n",
    "Construye una lista de tuplas en el que cada tupla es de la forma (número con tres dígitos, mayor divisor entre tres y nueve) En las lista sólo se deben incluir los números desde el 1 hasta el 900 que sean múltiplos de tres o de nueve. \n",
    "[('003',\"tres\"), ('006',\"tres\"), ('009',\"nueve\"), ('012', \"tres\"), ('015', \"tres\"), ('018',\"nueve\"),....('900',\"nueve\")]\n",
    "\n",
    "Obtén mediante slicing las tuplas (número con tres dígitos, mayor divisor entre tres y nueve) de los 10 primeros números que acaben en número par (0,2,4,6 o 8) que sean múltiplos de 3 o de 9.<br>\n",
    "Obtén mediante slicing las tuplas (número con tres dígitos, mayor divisor entre tres y nueve) de los últimos 7 números multiplos de tres o de nueve que acaben en cero.<br>\n",
    "Obtén mediante slicing las tuplas (número con tres dígitos, mayor divisor entre tres y nueve) de todos los múltiplos de nueve."
   ]
  },
  {
   "cell_type": "markdown",
   "metadata": {},
   "source": [
    "## ¡Prueba tú!"
   ]
  },
  {
   "cell_type": "code",
   "execution_count": null,
   "metadata": {},
   "outputs": [],
   "source": []
  },
  {
   "cell_type": "markdown",
   "metadata": {},
   "source": [
    "<hr>"
   ]
  },
  {
   "cell_type": "markdown",
   "metadata": {},
   "source": [
    "## Ejercicio 4 <a name=\"ejercicio_cuatro\"/>"
   ]
  },
  {
   "cell_type": "markdown",
   "metadata": {},
   "source": [
    "Escribe un programa que simule un juego de dados entre dos jugadores (Juan y Ana). Cada jugador lanza dos dados. Si no coincide ningún dado, gana Juan. Si coincide uno de los dados, gana Ana. Si coinciden los dos dados, empatan.\n",
    "\n",
    "Ejemplos<br>\n",
    "JUEGO DE DADOS<br>\n",
    "Juan ha sacado 3 y 5.<br>\n",
    "Ana ha sacado 1 y 3.<br>\n",
    "Ha ganado Ana.<br>\n",
    "\n",
    "JUEGO DE DADOS<br>\n",
    "Juan ha sacado 5 y 3,<br>\n",
    "Ana ha sacado 6 y 1.<br>\n",
    "Ha ganado Juan.<br>\n",
    "\n",
    "JUEGO DE DADOS<br>\n",
    "Juan ha sacado 3 y 3.<br>\n",
    "Ana ha sacado 3 y 1.<br>\n",
    "Ha ganado Ana.<br>\n",
    "\n",
    "JUEGO DE DADOS<br>\n",
    "Juan ha sacado 5 y 2.<br>\n",
    "Ana ha sacado 2 y 5.<br>\n",
    "Han empatado.<br>"
   ]
  },
  {
   "cell_type": "markdown",
   "metadata": {},
   "source": [
    "### ¡Prueba tú!\n"
   ]
  },
  {
   "cell_type": "code",
   "execution_count": null,
   "metadata": {},
   "outputs": [],
   "source": [
    "# importación de la librería random\n",
    "import random\n",
    "# randrange devuelve un número aleatorio en un rango\n",
    "print(\"JUEGO DE DADOS\")\n",
    "juan1 = random.randrange(1, 7)\n",
    "juan2 = random.randrange(1, 7)\n",
    "ana1 = random.randrange(1, 7)\n",
    "ana2 = random.randrange(1, 7)\n",
    "print(\"Juan ha sacado\", end=\" \")\n",
    "print(juan1, end=\" y \")\n",
    "print(juan2)\n",
    "print(\"Ana ha sacado\", end=\" \")\n",
    "print(ana1, end=\" y \")\n",
    "print(ana2)\n",
    "if (juan1 != ana1 and juan1 != ana2) and (juan2 != ana1 and juan2 != ana2):\n",
    "    print(\"Ha ganado Juan\")\n",
    "elif juan1 == ana1 or juan1 == ana2 or juan2 == ana1 or juan2 == ana2:\n",
    "    print(\"Ha ganado Ana\")\n",
    "else:\n",
    "    print(\"Han empatado\")"
   ]
  },
  {
   "cell_type": "markdown",
   "metadata": {},
   "source": [
    "<hr>"
   ]
  },
  {
   "cell_type": "markdown",
   "metadata": {},
   "source": [
    "## Ejercicio 5 <a name=\"ejercicio_cinco\"/>"
   ]
  },
  {
   "cell_type": "markdown",
   "metadata": {},
   "source": [
    "Escribe un programa que permita encriptar un texto que sólo contenga letras y espacios. La regla seguida para la encriptación es que a cada letra del abecedario independientemente de que esté en minúscula o mayúscula le corresponde un número cardinal empezando en el 1. Al espacio en blanco le corresponde el 0. \n",
    "\n",
    "Tras la encriptación de una letra irá un guión medio salvo que sea la última letra, que no irá nada. El texto encriptado se tendrá que guardar en un fichero txt, con encoding utf-8, con el nombre **ejercicio5.txt**\n",
    "\n",
    "Correspondencia de letras y números:\n",
    "\n",
    "* Al espacio \" \" le corresponde el 0.\n",
    "* A la letra \"A\" le corresponde el 1.\n",
    "* A la letra \"B\" le corresponde el 2.\n",
    "* A la letra \"C\" le corresponde el 3.\n",
    "* ....\n",
    "* A la letra \"Y\" le corresponde el 26.\n",
    "* A la letra \"Z\" le corresponde el 27.\n",
    "\n",
    "\n",
    "Utilizar el siguiente texto para probar el programa\n",
    "\"_Este año mi amigo Juan cursa un ciclo superior_\"\n"
   ]
  },
  {
   "cell_type": "markdown",
   "metadata": {},
   "source": [
    "### ¡Prueba tú!"
   ]
  },
  {
   "cell_type": "code",
   "execution_count": 20,
   "metadata": {},
   "outputs": [
    {
     "name": "stdout",
     "output_type": "stream",
     "text": [
      "5-20-21-5-0-1-15-16-0-13-9-0-1-13-9-7-16-0-10-22-1-14-0-3-22-19-20-1-0-22-14-0-3-9-3-12-16-0-20-22-17-5-19-9-16-19\n"
     ]
    }
   ],
   "source": [
    "frase = \"Este año mi amigo Juan cursa un ciclo superior\"\n",
    "\n",
    "abc = dict()\n",
    "abc = {\" \": 0, \"A\": 1, \"B\": 2, \"C\": 3, \"D\": 4, \"E\": 5, \"F\": 6, \"G\": 7, \"H\": 8, \"I\": 9, \"J\": 10, \"K\": 11, \"L\": 12, \"M\": 13,\n",
    "       \"N\": 14, \"Ñ\": 15, \"O\": 16, \"P\": 17, \"Q\": 18, \"R\": 19, \"S\": 20, \"T\": 21, \"U\": 22, \"V\": 23, \"W\": 24, \"X\": 25, \"Y\": 26, \"Z\": 27}\n",
    "\n",
    "frase = frase.upper()\n",
    "fraseCodi = \"\"\n",
    "separador = \"\"\n",
    "for caracter in frase:\n",
    "    fraseCodi += str(separador) + str(abc[caracter])\n",
    "    separador = \"-\"\n",
    "\n",
    "with open('./ejercicio5.txt', mode='w', encoding='utf-8') as f:\n",
    "    f.write(fraseCodi)\n"
   ]
  },
  {
   "cell_type": "markdown",
   "metadata": {},
   "source": [
    "<hr>"
   ]
  },
  {
   "cell_type": "markdown",
   "metadata": {},
   "source": [
    "# Ejercicio 6 <a name=\"ejercicio_seis\"/>"
   ]
  },
  {
   "cell_type": "markdown",
   "metadata": {},
   "source": [
    "Escribe un programa que lea el contenido del fichero \"fichero6.txt\" y cree un diccionario con todas las palabras que aparecen en él. Si una palabra aparece más de una vez, aunque esté en mayúscula y en minúscula, sólo se debe incorporar al diccionario en una ocasión salvo que la misma palabra esté acentuada y sin acentuar en cuyo caso sí debe aparecer dos veces (Ejemplo \"que\" y \"qué\").\n",
    "\n",
    "El diccionario tiene que estar ordenado alfabéticamente tanto por las letras, claves del diccionario, como por los valores, lista asociada a cada letra.\n",
    "\n",
    "**NOTA**: En una ordenación alfabética en Python las letras acentuadas **á,é,í,ó,ú** y la **ñ** van tras la **z**. (Ejemplo \n",
    "'variada', 'viene', 'válidas')\n",
    "\n",
    "Para el contenido del fichero anterior, fichero6.txt, el resultado debe ser:\n",
    "\n",
    "\n",
    "{'a': ['a', 'acciones', 'al', 'alfabeto', 'algoritmos', 'almacenados', 'aplicando', 'artificial'], 'b': ['bajo', 'bien', 'básicamente'], 'c': ['capacidad', 'característica', 'caso', 'circunstancias', 'clases', 'codificación', 'colaborativa', 'comandos', 'como', 'compilación', 'comportamiento', 'comprendidas', 'computadora', 'común', 'con', 'conjunto', 'construcción', 'contenido', 'controlar', 'convertirlo', 'crear', 'código', 'cómo'], 'd': ['datos', 'de', 'debe', 'deben', 'define', 'definen', 'definidas', 'del', 'denomina', 'depuración', 'desarrollo', 'determinadas', 'dicho', 'dichos', 'diversas', 'documentación', 'documentos'], 'e': ['ejecutar', 'ejemplo', 'el', 'ellos', 'empleando', 'en', 'engloban', 'entre', 'error', 'es', 'escribir', 'escritos', 'escritura', 'especificar', 'específico', 'estar', 'este', 'esto', 'estructurar', 'estructuras', 'están', 'existe'], 'f': ['fiable', 'fin', 'forma', 'formados', 'formal', 'fuente', 'físico'], 'g': ['gama', 'gramaticales'], 'h': ['hasta', 'html', 'humano'], 'i': ['informático', 'informáticos', 'instrucciones', 'intenta', 'interpretación'], 'l': ['la', 'las', 'le', 'lenguaje', 'lenguajes', 'llamado', 'los', 'lógica', 'lógicamente', 'lógico'], 'm': ['manera', 'mantenimiento', 'marcado', 'mediante', 'máquina', 'más'], 'n': ['natural', 'no'], 'o': ['o', 'obtener', 'operar', 'otros'], 'p': ['para', 'particular', 'pasos', 'permite', 'permiten', 'persona', 'por', 'precisa', 'precisamente', 'problema', 'proceso', 'programa', 'programación', 'programador', 'programar', 'propiamente', 'proporciona', 'prueba', 'próximo', 'pueda', 'puedan', 'páginas'], 'q': ['que', 'qué'], 'r': ['realizar', 'reglas', 'relativamente', 'relevante', 'resolver'], 's': ['se', 'sean', 'secuencias', 'semánticas', 'ser', 'serie', 'significado', 'siguientes', 'sino', 'sinónimos', 'sobre', 'software', 'su', 'símbolos'], 't': ['tareas', 'todo', 'tomar', 'transmitidos', 'tratar', 'través', 'términos'], 'u': ['un', 'una', 'usar'], 'v': ['variada', 'viene', 'válidas'], 'w': ['web'], 'y': ['y']}"
   ]
  },
  {
   "cell_type": "markdown",
   "metadata": {},
   "source": [
    "### ¡Prueba tú!"
   ]
  },
  {
   "cell_type": "code",
   "execution_count": null,
   "metadata": {},
   "outputs": [],
   "source": []
  },
  {
   "cell_type": "markdown",
   "metadata": {},
   "source": [
    "<hr>"
   ]
  },
  {
   "cell_type": "markdown",
   "metadata": {},
   "source": [
    "# Ejercicio 7 <a name=\"ejercicio_siete\"/>"
   ]
  },
  {
   "cell_type": "markdown",
   "metadata": {},
   "source": [
    "Escribe una función con nombre **obtenerInfo** que reciba dos parámetros:\n",
    "* El primer parámetro es una cadena de texto con valor por defecto a cadena vacía que recibe una dirección que no tiene que estar completa.\n",
    "* Un segundo parámetro que es un booleano con valor por defecto a **False** que indica si queremos o no información detallada.\n",
    "\n",
    "La función debe devolver:\n",
    "<ul>\n",
    "    <li>En el caso de que la información detalla sea <b>False</b> un diccionario con la siguiente información:</li>\n",
    "    <ul>\n",
    "        <li>Dirección recibida en la función y de la que se desea obtener información.</li>\n",
    "        <li>El número total de bicicletas cuya dirección contiene la cadena recibida.</li>\n",
    "        <li>El número total de bicicletas libres cuya dirección contiene la cadena recibida.</li>\n",
    "    </ul>\n",
    "    <li>En el caso de que la información detalla sea <b>True</b> una lista de diccionarios:</li>\n",
    "        En cada elemento de la lista debe ir un diccionario con:\n",
    "        <ul>\n",
    "            <li>Dirección dentro del fichero json que cumple con la dirección recibida.</li>\n",
    "            <li>El número total de bicicletas para esa dirección.</li>\n",
    "            <li>El número total de bicicletas libres para esa dirección.</li>\n",
    "        </ul>\n",
    "\n",
    "\n",
    "</ul>\n",
    "\n",
    "La información sobre las direcciones y las bicicletas se puede consultar en el fichero **sevici.json** que debe ser cargado en la función.\n",
    "\n",
    "Dentro del fichero json la información necesaria se encuentra en las siguientes claves:\n",
    "* 'address': Dirección de la estación\n",
    "* 'slots': Número de bicicletas\n",
    "* 'free_bikes': Bicicletas libres\n",
    "\n",
    "**Ejemplos**<br>\n",
    "Para la siguiente llamada a la función  <b>obtenerInfo(\"REINA MERCEDES\")</b> se obtiene<br>\n",
    "[{'Direccion': 'REINA MERCEDES', 'Total': 122, 'Libres': 25}]\n",
    "\n",
    "Para la siguiente llamada a la función  <b>obtenerInfo(\"REINA MERCEDES\", True)</b> se obtiene<br>\n",
    "[{'Direccion': 'AVENIDA REINA MERCEDES - Aprox. Facultad de Informática', 'Total': 25, 'Libres': 17}, {'Direccion': 'AVENIDA REINA MERCEDES - Aprox. Escuela de arquitectura', 'Total': 27, 'Libres': 1}, {'Direccion': 'AVENIDA REINA MERCEDES - Aprox. C/ Profesor García González', 'Total ': 20, 'Libres': 2}, {'Direccion': 'AVENIDA REINA MERCEDES - Aprox. Glorieta Alcalde de Parias Merry', 'Total': 30, 'Libres': 0}, {'Direccion': 'AVENIDA REINA MERCEDES - Aprox. C/ Profesor García González', 'Total': 20, 'Libres': 5}]"
   ]
  },
  {
   "cell_type": "markdown",
   "metadata": {},
   "source": [
    "### ¡Prueba tú!"
   ]
  },
  {
   "cell_type": "code",
   "execution_count": null,
   "metadata": {},
   "outputs": [],
   "source": [
    "import json\n"
   ]
  },
  {
   "cell_type": "markdown",
   "metadata": {},
   "source": [
    "<hr>"
   ]
  },
  {
   "cell_type": "markdown",
   "metadata": {},
   "source": [
    "## Ejercicio 8 <a name=\"ejercicio_ocho\"/>"
   ]
  },
  {
   "cell_type": "markdown",
   "metadata": {},
   "source": [
    "Escribe una función **realizarOperacion** que recibe dos números enteros introducidos por el usuario y la operación a realizar.\n",
    "\n",
    "La operación a realizar también es un número entero que introduce el usuario entre los siguientes posibles valores:\n",
    "<ul>\n",
    "    <li>1 - SUMA</li>\n",
    "    <li>2 - RESTA</li>\n",
    "    <li>3 - MULTIPLICACIÓN</li>\n",
    "    <li>4 - DIVISIÓN</li>\n",
    "</ul>\n",
    "\n",
    "\n",
    "Capturar la excepción si el usuario no introduce un número entero o una operación válida y no terminar el programa hasta que se hayan introducido valores válidos.\n",
    " \n",
    "Capturar también la excepción en la función **realizarOperacion** en el caso de que la operación a realizar sea la de  dividir y el segundo número sea un cero (excepción de dividir por cero). En este caso propagar la excepción al programa principal mostrando el siguiente mensaje \"No se puede dividir los números introducidos\".\n",
    "\n",
    "Ejemplos<br>\n",
    "Usuario introduce:<br>\n",
    "Primer número: 10<br>\n",
    "Segundo número 5<br>\n",
    "Operacion: 1<br>\n",
    "Resultado 15<br><br>\n",
    "\n",
    "Usuario introduce:<br>\n",
    "Primer número: 10<br>\n",
    "Segundo número 5<br>\n",
    "Operacion: 2<br>\n",
    "Resultado 5<br><br>\n",
    "\n",
    "Usuario introduce:<br>\n",
    "Primer número: 10<br>\n",
    "Segundo número 5<br>\n",
    "Operacion: 3<br>\n",
    "Resultado 50<br><br>\n",
    "\n",
    "Usuario introduce:<br>\n",
    "Primer número: 10<br>\n",
    "Segundo número 5<br>\n",
    "Operacion: 4<br>\n",
    "Resultado 2<br><br>\n",
    "\n",
    "Usuario introduce:<br>\n",
    "Primer número: 10<br>\n",
    "Segundo número 0<br>\n",
    "No se puede dividir los números introducidos\n"
   ]
  },
  {
   "cell_type": "markdown",
   "metadata": {},
   "source": [
    "### ¡Prueba tú!"
   ]
  },
  {
   "cell_type": "code",
   "execution_count": null,
   "metadata": {},
   "outputs": [],
   "source": [
    "def realizarOperacion(num1, num2, opc):\n",
    "    if opc == 1:\n",
    "        return num1 + num2\n",
    "    elif opc == 2:\n",
    "        return num1 - num2\n",
    "    elif opc == 3:\n",
    "        return num1 * num2\n",
    "    elif opc == 4:\n",
    "        try:\n",
    "            return num1/num2\n",
    "        except ZeroDivisionError:\n",
    "            raise\n",
    "\n",
    "while True:\n",
    "    try:\n",
    "        num1 = int(input(\"Primer número: \"))\n",
    "        break\n",
    "    except ValueError:\n",
    "        print (\"Debes introducir un número\")\n",
    "\n",
    "while True:\n",
    "    try:\n",
    "        num2 = int(input(\"Segundo número: \"))\n",
    "        break\n",
    "    except ValueError:\n",
    "        print (\"Debes introducir un número\")\n",
    "\n",
    "print(\"Usuario introduce:\")\n",
    "num1 = int(input(\"Primer número: \"))\n",
    "num2 = int(input(\"Segundo número: \"))\n",
    "operacion = int(input(\"Operacion: \"))\n",
    "try:\n",
    "    print(\"Resultado\", end=\" \")\n",
    "    print(realizarOperacion(num1,num2,operacion))\n",
    "except:\n",
    "    print(\"No se puede dividir los números introducidos\")"
   ]
  }
 ],
 "metadata": {
  "kernelspec": {
   "display_name": "Python 3",
   "language": "python",
   "name": "python3"
  },
  "language_info": {
   "codemirror_mode": {
    "name": "ipython",
    "version": 3
   },
   "file_extension": ".py",
   "mimetype": "text/x-python",
   "name": "python",
   "nbconvert_exporter": "python",
   "pygments_lexer": "ipython3",
   "version": "3.8.3"
  }
 },
 "nbformat": 4,
 "nbformat_minor": 4
}
