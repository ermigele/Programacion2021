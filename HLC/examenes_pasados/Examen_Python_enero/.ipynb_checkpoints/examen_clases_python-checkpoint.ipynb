{
 "cells": [
  {
   "cell_type": "markdown",
   "metadata": {},
   "source": [
    "# Examen de Clases Python\n",
    "**Docente**: Antonio Gago.  **I.E.S. Velázquez:** Curso 2020-2021"
   ]
  },
  {
   "cell_type": "markdown",
   "metadata": {},
   "source": [
    "## Índice de ejercicios\n",
    "* [Ejercicio 1](#ejercicio_uno)\n",
    "* [Ejercicio 2](#ejercicio_dos)\n",
    "* [Ejercicio 3](#ejercicio_tres)\n",
    "* [Ejercicio 4](#ejercicio_cuatro)"
   ]
  },
  {
   "cell_type": "markdown",
   "metadata": {},
   "source": [
    "## Ejercicio 1 <a name=\"ejercicio_uno\"/>"
   ]
  },
  {
   "cell_type": "markdown",
   "metadata": {},
   "source": [
    "Crear una clase que almacene los siguientes datos de un alumno\n",
    "* nombre\n",
    "* lista de notas\n",
    "* nota final\n",
    "\n",
    "La nota final tendrá un valor por defecto a cero y sólo se podrá establecer a través de un método **establecerNota** y sólo se podrá recuperar a través del método **recuperarNota**.\n",
    "\n",
    "Una vez creada la clase, crea una aplicación que pide al usuario el número de alumnos y los datos de cada uno de ellos, nombre y conjunto de notas separadas por espacios. Es posible que no se introduzca ninguna nota de un alumno o que éstas tengan decimales.\n",
    "\n",
    "Sólo hay que controlar que la entrada del número de alumnos sea un número y mayor que cero.\n",
    "\n",
    "Con los datos introducidos calcula la nota final de cada alumno, guarda la misma en el atributo correspondeinte de cada alumno y muestra por pantalla el nombre y la nota final de los alumnos introducidos. \n",
    "\n",
    "La nota final se calcula como el resultado de dividir la suma de las notas entre el total de notas de ese alumno.\n",
    "\n",
    "**NOTA**: Utiliza el método split(' ') para convertir la cadena de notas separadas por espacios en una lista. \n",
    "\n",
    "Ejemplo:\n",
    "\n",
    "Si se insertan 3 alumnos con los siguientes datos:\n",
    "- nombre: Antonio  notas: 7.5 8 8.5\n",
    "- nombre: Marta    notas:\n",
    "- nombre. Carmen   notas: 9 7 6 8\n",
    "\n",
    "El resultado sería:\n",
    "\n",
    "Informe de notas finales<br>\n",
    "Antonio: 8.0<br>\n",
    "Marta: sin notas<br>\n",
    "Carmen: 7.5\n"
   ]
  },
  {
   "cell_type": "markdown",
   "metadata": {
    "nbpresent": {
     "id": "7adaaf8f-a83e-456b-b99a-d3b3d4cb6d1a"
    }
   },
   "source": [
    "### ¡Prueba tú!\n"
   ]
  },
  {
   "cell_type": "code",
   "execution_count": null,
   "metadata": {
    "nbpresent": {
     "id": "ae8725fa-30f7-4d7f-a2c2-5f86953d730b"
    }
   },
   "outputs": [
    {
     "name": "stdout",
     "output_type": "stream",
     "text": [
      "Introduce número de alumnos\n"
     ]
    }
   ],
   "source": [
    "class Alumno():\n",
    "    def __init__(self, nombre, notas, notaFinal=0):\n",
    "        self.nombre = nombre\n",
    "        self.notas = notas\n",
    "        self.notaFinal = notaFinal\n",
    "        \n",
    "    def establecerNota(self, nota):\n",
    "        self.notaFinal = nota\n",
    "    \n",
    "    def recuperarNota(self):\n",
    "        return self.notaFinal\n",
    "\n",
    "print(\"Introduce número de alumnos\")\n",
    "num = input()\n",
    "for __ in range(num):\n",
    "    print(\"Introduce nombre del alumno\")\n",
    "    nombre = input()\n",
    "    print(\"Introduce notas del alumno\")\n",
    "    notas = input().split(' ', ',')\n",
    "    "
   ]
  },
  {
   "cell_type": "markdown",
   "metadata": {},
   "source": [
    "***"
   ]
  },
  {
   "cell_type": "markdown",
   "metadata": {},
   "source": [
    "## Ejercicio 2 <a name=\"ejercicio_dos\"/>"
   ]
  },
  {
   "cell_type": "markdown",
   "metadata": {},
   "source": [
    "Crear una clase electrodomésticos con los siguientes atributos públicos\n",
    "* nombre\n",
    "* año de fabricación\n",
    "* estado (valor Booleano con valor por defecto a Falso)\n",
    "\n",
    "y los métodos \n",
    "- **encender** que hace lo siguiente:\n",
    "    - Si el valor de estado es Falso lo pone a Verdadero y muestra un mensaje indicando que el electrodoméstico con nombre, nombre del electrodoméstico se ha encendido.\n",
    "    - Si el valor de estado es Verdadero muestra un mensaje indicando que ya estaba encendido.\n",
    "- **apagar** que hace lo siguiente:\n",
    "    - Si el valor de estado es Verdadero lo pone a Falso y muestra un mensaje indicando que el electrodoméstico con nombre, nombre del electrodoméstico se ha apagado.\n",
    "    - Si el valor de estado es Falso muestra un mensaje indicando que ya está apagado\n",
    "- Y un método que muestre el nombre y año de fabricación del electrodoméstico cuando hacemos print de una instancia. \n",
    "    \n",
    "Crear una clase teléfono sin atributos y con los siguientes métodos:\n",
    "- **llamar** que muestra un mensaje de llamando\n",
    "- **colgar** que muestra un mensaje de colgar\n",
    "\n",
    "Crear una clase televisión que herede de electrodoméstico con un atributo \"privado\" del número de pulgadas y \n",
    "los métodos:\n",
    "- **cambiarCanal** que muestre un mensaje indicando que se está cambiando de canal, si la televisión está encendida (estado igual a True) y nada en caso contario.\n",
    "- Y un método que muestre el nombre, pulgadas y año de fabricación del dispositivo cuando hacemos un print de una instancia. \n",
    "\n",
    "Crear una clase móvil que herede tanto de electrodoméstico como de teléfono y que tenga un atributo \"privado\" que indique el sistema operativo y los métodos: \n",
    "- Mandar un mensaje que muestre el texto de \"Mensaje Enviado\" cuando el móvil está encendido (estado igual a True) y nada en caso contrario.\n",
    "- Método para mostrar sólo el dato del sistema operativo.\n",
    "- Método para mostrar los datos del dispositivo cuando hacemos un print de una instancia.\n",
    "\n",
    "Tras crear las clases realizar lo siguiente:\n",
    "\n",
    "* Crear una lista que contenga al menos cuuatro elementos, una instancia de cada una de las clases creadas. \n",
    "* Comprorbar los distintos métedos creados de cada una de las instancias.\n",
    "* Crear una función verEstadoDispositivos que reciba la lista de dispositivos y devuelva un diccionario con dos claves, una el número de dispotivos encendidos (estado a True) y otra con los nombres de los dispostivos encendidos. Tened en cuenta que el teléfono no tiene el atributo estado.\n",
    "\n",
    "Ejemplo de diccionario devuelto con dos dispositivos encendidos:\n",
    "\n",
    "{\"encendidos\": 2, \"dispositivos\": [\"Lavadora BOSH\",\"Televisor LG\"]}\n",
    "\n",
    "\n"
   ]
  },
  {
   "cell_type": "markdown",
   "metadata": {},
   "source": [
    "### ¡Prueba tú!"
   ]
  },
  {
   "cell_type": "code",
   "execution_count": null,
   "metadata": {},
   "outputs": [],
   "source": [
    "class Electrodomestisco():\n",
    "    def __init__(self, nombre, anioFabricacion, estado=False):\n",
    "        self.nombre = nombre\n",
    "        self.anioFabricacion = anioFabricacion\n",
    "        self.estado = estado\n",
    "        \n",
    "    def encender(self):\n",
    "        if self.estado:\n",
    "            return \"Ya estaba encendido\"\n",
    "        else:\n",
    "            self.estado=True\n",
    "            return \"El electrodomestico con nombre: \"+self.nombre+\" se ha encendido\"\n",
    "    \n",
    "    def apagar(self):\n",
    "        if self.estado:\n",
    "            return \"Ya está apagado\"\n",
    "        else:\n",
    "            self.estado=False\n",
    "            return \"El electrodomestico con nombre: \"+self.nombre+\" se ha apagado\"   \n",
    "        \n",
    "    def __str__(self):\n",
    "        return \"Nombre: \"+self.nombre+\" Año de fabricacion: \"+str(self.anioFabricacion)\n",
    "    \n",
    "class Telefono():\n",
    "    def llamar(self):\n",
    "        return \"Llamando....\"\n",
    "    \n",
    "    def colgar(self):\n",
    "        return \"Colgando....\"\n",
    "    \n",
    "class Television(Electrodomestisco):\n",
    "    def __init__(self, numPulgadas):\n",
    "        super().__init__(nombre, anioFabricacion, estado=False)\n",
    "        self.__numPulgadas = numPulgadas\n",
    "    \n",
    "    def cambiarCanal(self):\n",
    "        if self.estado:\n",
    "            return \"Cambiado de canal...\"\n",
    "    \n",
    "    def __str__(self):\n",
    "        return \"Nombre: \"+self.nombre+\" Pulgadas: \"+str(self.__numPulgadas)+\" Año de fabricacion: \"+str(self.anioFabricacion)\n",
    "\n",
    "class Movil(Electrodomestisco, Telefono):\n",
    "    def __init__(self, sistemaOp):\n",
    "        super().__init__(nombre, anioFabricacion, estado=False)\n",
    "        self.__sistemaOp = sistemaOp\n",
    "    \n",
    "    def mandarMensaje(self):\n",
    "        if self.estado:\n",
    "            return \"Mensaje Enviado...\"\n",
    "    \n",
    "    def mostrarSistemaOperativo(self):\n",
    "        return self.__sistemaOp\n",
    "    \n",
    "    def __str__(self):\n",
    "        return \"Nombre: \"+self.nombre+\" Pulgadas: \"+str(self.__numPulgadas)+\" Año de fabricacion: \"+str(self.anioFabricacion)\n",
    "\n",
    "e1 = Electrodomestisco(\"lavadora\", 2010)\n",
    "e2 = Electrodomestisco(\"microodas\", 2011)\n",
    "e3 = Electrodomestisco(\"lavavajillas\", 2012)\n",
    "\n",
    "t1 = Telefono()\n",
    "t1.llamar()\n",
    "t1.colgar()"
   ]
  },
  {
   "cell_type": "markdown",
   "metadata": {},
   "source": [
    "***"
   ]
  },
  {
   "cell_type": "markdown",
   "metadata": {},
   "source": [
    "## Ejercicio 3 <a name=\"ejercicio_tres\"/>"
   ]
  },
  {
   "cell_type": "markdown",
   "metadata": {},
   "source": [
    "Queremos representar distintos tipos de sorteos, para lo cual definiremos las siguientes clases:\n",
    "* Una clase abstracta Sorteo, con un método abstracto lanzar(), el método no abstracto probabilidad () que devuelve un número obtenido al dividir 1 entre el nº de posibilidades del sorteo y el método verDatos() que muestra las posibilidades de cada sorteo y la probabilidad del mismo.\n",
    "* Una clase hija Dado, que redefinirá el método lanzar() generando una opción aleatoria entre las opciones del dado (del 1 al 6). La opción que haya salido se tiene que mostrar  por pantalla.\n",
    "* Una clase hija Moneda, que redefinirá el método lanzar() generando una opción aleatoria entre cara o cruz. La opción que haya salido se muestra por pantalla.\n",
    "* Una clase hija Carta, que redefinirá el método lanzar() generando aleatoriamente un palo entre picas, trébol, diamantes o corazones. La opción que haya salido se muestra por pantalla.\n",
    "\n",
    "Cada una de las clases hijas tienen que tener un contructor con dos atributos públicos:\n",
    "* Uno con las opciones de ese sorteo.\n",
    "* Otro con el número de posibilidades de ese sorteo, que es el número de opciones posibles.\n",
    "\n",
    "**NOTA**: Utiliza el código mostrado más abajo para probar el ejercicio o define tus propias pruebas."
   ]
  },
  {
   "cell_type": "markdown",
   "metadata": {},
   "source": [
    "### ¡Prueba tú!"
   ]
  },
  {
   "cell_type": "code",
   "execution_count": null,
   "metadata": {},
   "outputs": [],
   "source": [
    "from abc import ABC, abstractmethod\n",
    "#importación de la librería random\n",
    "import random\n",
    "# randrange devuelve un número aleatorio en un rango\n",
    "class sorteo(ABC):\n",
    "    @abstractmethod\n",
    "    def lanzar(self):\n",
    "        pass\n",
    "    \n",
    "    def probabilidad(self):\n",
    "        \n",
    "    def verDatos(self):\n",
    " "
   ]
  },
  {
   "cell_type": "code",
   "execution_count": null,
   "metadata": {},
   "outputs": [],
   "source": [
    "# Código Para probar ejercicio 3\n",
    "print()\n",
    "opcionesDados=[1,2,3,4,5,6]\n",
    "dado = Dado(opcionesDados)\n",
    "dado.lanzar()\n",
    "dado.verDatos()\n",
    "print()\n",
    "opcionesMonedas=[\"cara\",\"cruz\"]\n",
    "moneda = Moneda(opcionesMonedas)\n",
    "moneda.lanzar()\n",
    "moneda.verDatos()\n",
    "print()\n",
    "opcionesCartas=[\"picas\",\"corazón\",\"diamantes\",\"trebol\"]\n",
    "carta = Carta(opcionesCartas)\n",
    "carta.lanzar()\n",
    "carta.verDatos()"
   ]
  },
  {
   "cell_type": "markdown",
   "metadata": {},
   "source": [
    "***"
   ]
  },
  {
   "cell_type": "markdown",
   "metadata": {},
   "source": [
    "## Ejercicio 4 <a name=\"ejercicio_cuatro\"/>"
   ]
  },
  {
   "cell_type": "markdown",
   "metadata": {},
   "source": [
    "Crear una clase producto con los siguientes atributos \"privados\":\n",
    "* código\n",
    "* nombre\n",
    "* precio\n",
    "\n",
    "Crea el constructor y los métdodos getter y setter con el decorador @property.\n",
    "Añade también un método calcularTotal que recibe el número de unidades de un producto y devuelve el precio total de los mismos.\n",
    "\n",
    "Crea una segunda clase Pedido que tiene dos atributos \"privados\":\n",
    "* Una lista de productos\n",
    "* Una lista de cantidades\n",
    "\n",
    "Y dos métodos:\n",
    "* Uno para calcular el precio total del pedido \n",
    "* Uno para mostrar los productos del pedido \n",
    "\n",
    "\n",
    "**NOTA**: Utiliza el código mostrado más abajo para probar el ejercicio o define tus propias pruebas.\n"
   ]
  },
  {
   "cell_type": "markdown",
   "metadata": {},
   "source": [
    "### ¡Prueba tú!"
   ]
  },
  {
   "cell_type": "code",
   "execution_count": null,
   "metadata": {},
   "outputs": [],
   "source": [
    "class Producto():\n",
    "    def __init__(self, codigo, nombre, precio):\n",
    "        self.__codigo = codigo\n",
    "        self.__nombre = nombre\n",
    "        self.__precio = precio\n",
    "        \n",
    "    @property\n",
    "    def codigo(self):\n",
    "        return self.__codigo\n",
    "    \n",
    "    @codigo.setter\n",
    "    def codigo(self, codigo):\n",
    "        self.__codigo = codigo\n",
    "    \n",
    "    @property\n",
    "    def nombre(self):\n",
    "        return self.__nombre\n",
    "    \n",
    "    @nombre.setter\n",
    "    def nombre(self, __nombre):\n",
    "        self.__nombre = nombre\n",
    "    \n",
    "    @property\n",
    "    def precio(self):\n",
    "        return self.__precio\n",
    "    \n",
    "    @precio.setter\n",
    "    def precio(self, precio):\n",
    "        self.__precio = precio\n",
    "    \n",
    "        \n",
    "    def calcularTotal(self, num):\n",
    "        return num * self.__precio\n",
    "\n",
    "class Pedido():\n",
    "    def __init__(self, productos:Producto, cantidades):\n",
    "        self.productos = productos\n",
    "        self.cantidades = cantidades\n",
    "        \n",
    "    def calcularTotalPedido(self):\n",
    "        total = 0\n",
    "        for i in self.productos:\n",
    "            total+=i.precio\n",
    "        return total\n",
    "    \n",
    "    def mostraProductos(self):\n",
    "        return self.__productos"
   ]
  },
  {
   "cell_type": "code",
   "execution_count": null,
   "metadata": {},
   "outputs": [],
   "source": []
  },
  {
   "cell_type": "code",
   "execution_count": null,
   "metadata": {},
   "outputs": [],
   "source": [
    "# Código Para probar ejercicio 4\n",
    "\n",
    "p1 = Producto(1,'Producto 1', 10)\n",
    "p2 = Producto(2,'Producto 2', 15)\n",
    "p3 = Producto(3,'Producto 3', 20)\n",
    "\n",
    "productos = [p1 ,p2, p3]\n",
    "cantidades = [6, 2, 3]\n",
    "\n",
    "pedidio = Pedido(productos, cantidades)\n",
    "print (pedido.calcularPrecio())\n",
    "pedido.mostraProductos()"
   ]
  },
  {
   "cell_type": "code",
   "execution_count": null,
   "metadata": {},
   "outputs": [],
   "source": []
  }
 ],
 "metadata": {
  "anaconda-cloud": {},
  "celltoolbar": "Raw Cell Format",
  "kernelspec": {
   "display_name": "Python 3",
   "language": "python",
   "name": "python3"
  },
  "language_info": {
   "codemirror_mode": {
    "name": "ipython",
    "version": 3
   },
   "file_extension": ".py",
   "mimetype": "text/x-python",
   "name": "python",
   "nbconvert_exporter": "python",
   "pygments_lexer": "ipython3",
   "version": "3.8.3"
  },
  "nbpresent": {
   "slides": {
    "1390653e-bdb6-444a-b611-39c60ffb77a1": {
     "id": "1390653e-bdb6-444a-b611-39c60ffb77a1",
     "prev": "5c2c8cc8-3676-4c06-b94c-d3f866ade69b",
     "regions": {
      "620813b3-9326-41e6-9d30-f5ac4f858225": {
       "attrs": {
        "height": 0.8,
        "width": 0.8,
        "x": 0.1,
        "y": 0.1
       },
       "content": {
        "cell": "86423d42-e808-47e6-b1a7-e925e195f821",
        "part": "whole"
       },
       "id": "620813b3-9326-41e6-9d30-f5ac4f858225"
      }
     }
    },
    "21036f68-a492-4532-a832-b213435c0ad2": {
     "id": "21036f68-a492-4532-a832-b213435c0ad2",
     "prev": "2c1c7f11-e5ee-4a25-8975-f0b033ba739a",
     "regions": {
      "a3908958-0784-4faa-ac97-b9325abe8ede": {
       "attrs": {
        "height": 0.8,
        "width": 0.8,
        "x": 0.1,
        "y": 0.1
       },
       "content": {
        "cell": "9aa64747-dc13-4bd9-bf26-73606628ad1c",
        "part": "whole"
       },
       "id": "a3908958-0784-4faa-ac97-b9325abe8ede"
      }
     }
    },
    "2c1c7f11-e5ee-4a25-8975-f0b033ba739a": {
     "id": "2c1c7f11-e5ee-4a25-8975-f0b033ba739a",
     "prev": "f3f10f50-4cad-4149-b308-c66e6a493a72",
     "regions": {
      "9e2d820e-ec17-4915-b960-0e0d5f640379": {
       "attrs": {
        "height": 0.8,
        "width": 0.8,
        "x": 0.1,
        "y": 0.1
       },
       "content": {
        "cell": "0281a659-abae-4cb9-b30f-b552b9db399e",
        "part": "whole"
       },
       "id": "9e2d820e-ec17-4915-b960-0e0d5f640379"
      }
     }
    },
    "30509a9a-dbd8-4dbd-9fab-852a7266d894": {
     "id": "30509a9a-dbd8-4dbd-9fab-852a7266d894",
     "prev": "8b078b7a-c2c6-4129-a19f-2a4f5c4a26f3",
     "regions": {
      "7baa4379-8f84-4d8f-b002-5a5ffd051489": {
       "attrs": {
        "height": 0.8,
        "width": 0.8,
        "x": 0.1,
        "y": 0.1
       },
       "content": {
        "cell": "14d1a927-b37f-4323-9404-17d453f3b487",
        "part": "whole"
       },
       "id": "7baa4379-8f84-4d8f-b002-5a5ffd051489"
      }
     }
    },
    "42d1bd80-265e-4acf-bbc1-b202afddade3": {
     "id": "42d1bd80-265e-4acf-bbc1-b202afddade3",
     "prev": "9bfe6214-4631-45b5-a05e-8923f178bb57",
     "regions": {
      "f2340145-4108-4fed-a0bc-4b91ca6c10ae": {
       "attrs": {
        "height": 0.8,
        "width": 0.8,
        "x": 0.1,
        "y": 0.1
       },
       "content": {
        "cell": "80be6133-d85a-4e43-9964-6578abcbaaac",
        "part": "whole"
       },
       "id": "f2340145-4108-4fed-a0bc-4b91ca6c10ae"
      }
     }
    },
    "5c2c8cc8-3676-4c06-b94c-d3f866ade69b": {
     "id": "5c2c8cc8-3676-4c06-b94c-d3f866ade69b",
     "prev": "6c4bc874-f3fc-472c-a81c-cd415b91c24b",
     "regions": {
      "e1de7ab6-4ef2-4b14-92d7-b174bf32806e": {
       "attrs": {
        "height": 0.8,
        "width": 0.8,
        "x": 0.1,
        "y": 0.1
       },
       "content": {
        "cell": "ae8725fa-30f7-4d7f-a2c2-5f86953d730b",
        "part": "whole"
       },
       "id": "e1de7ab6-4ef2-4b14-92d7-b174bf32806e"
      }
     }
    },
    "5cab5674-74dc-4378-93d7-eaa79e90cdae": {
     "id": "5cab5674-74dc-4378-93d7-eaa79e90cdae",
     "prev": "ba274d18-2760-4e55-ad47-2727b824fd00",
     "regions": {
      "2178d7cf-bf1e-4850-95a2-1509f15febfa": {
       "attrs": {
        "height": 0.8,
        "width": 0.8,
        "x": 0.1,
        "y": 0.1
       },
       "content": {
        "cell": "5d433d13-f44a-45bb-91fd-406f60b33b67",
        "part": "whole"
       },
       "id": "2178d7cf-bf1e-4850-95a2-1509f15febfa"
      }
     }
    },
    "638df7e1-84d1-4fd4-a15c-c94b731d1bea": {
     "id": "638df7e1-84d1-4fd4-a15c-c94b731d1bea",
     "prev": "b9dddf99-da24-46e1-81d4-8ac33b6fc3a3",
     "regions": {
      "deba8b1f-d997-4426-8f1b-978df7f19b41": {
       "attrs": {
        "height": 0.8,
        "width": 0.8,
        "x": 0.1,
        "y": 0.1
       },
       "content": {
        "cell": "7adaaf8f-a83e-456b-b99a-d3b3d4cb6d1a",
        "part": "whole"
       },
       "id": "deba8b1f-d997-4426-8f1b-978df7f19b41"
      }
     }
    },
    "6bda9eb4-0724-4e53-9971-131d0cb5f9e2": {
     "id": "6bda9eb4-0724-4e53-9971-131d0cb5f9e2",
     "prev": "ee33e624-cd65-4b8c-b28b-c95623a56dbf",
     "regions": {
      "feffbbd2-27d1-4318-8359-7d57583ee2bc": {
       "attrs": {
        "height": 0.8,
        "width": 0.8,
        "x": 0.1,
        "y": 0.1
       },
       "content": {
        "cell": "8dce188c-36b7-41fa-9020-b5cb5502e452",
        "part": "whole"
       },
       "id": "feffbbd2-27d1-4318-8359-7d57583ee2bc"
      }
     }
    },
    "6c4bc874-f3fc-472c-a81c-cd415b91c24b": {
     "id": "6c4bc874-f3fc-472c-a81c-cd415b91c24b",
     "prev": null,
     "regions": {
      "c9eac7e8-d033-4b03-8bf7-abd58ffe8d41": {
       "attrs": {
        "height": 0.8,
        "width": 0.8,
        "x": 0.1,
        "y": 0.1
       },
       "content": {
        "cell": "71219fc3-c9cb-4700-9f0b-ab38b1b223da",
        "part": "whole"
       },
       "id": "c9eac7e8-d033-4b03-8bf7-abd58ffe8d41"
      }
     }
    },
    "6d7ab34f-9d99-4c74-9877-27b25abc73f0": {
     "id": "6d7ab34f-9d99-4c74-9877-27b25abc73f0",
     "prev": "febe7de9-9362-4079-bfe9-2d4dfddf00e2",
     "regions": {
      "2ee252de-db5f-43e7-b4b7-7f59bba29962": {
       "attrs": {
        "height": 0.8,
        "width": 0.8,
        "x": 0.1,
        "y": 0.1
       },
       "content": {
        "cell": "85d1ab90-cc65-4935-808b-a6f57ecc892e",
        "part": "whole"
       },
       "id": "2ee252de-db5f-43e7-b4b7-7f59bba29962"
      }
     }
    },
    "7ea582c3-439d-4ec2-9f27-dea18bcacc31": {
     "id": "7ea582c3-439d-4ec2-9f27-dea18bcacc31",
     "prev": "f0727a74-61a1-48c1-94a5-3e7490c29f0b",
     "regions": {
      "652960af-b61f-4c36-b122-3eacd714867b": {
       "attrs": {
        "height": 0.8,
        "width": 0.8,
        "x": 0.1,
        "y": 0.1
       },
       "content": {
        "cell": "86172e20-fe16-447d-859f-24a81e563011",
        "part": "whole"
       },
       "id": "652960af-b61f-4c36-b122-3eacd714867b"
      }
     }
    },
    "8b078b7a-c2c6-4129-a19f-2a4f5c4a26f3": {
     "id": "8b078b7a-c2c6-4129-a19f-2a4f5c4a26f3",
     "prev": "5cab5674-74dc-4378-93d7-eaa79e90cdae",
     "regions": {
      "dce1e605-9342-414d-b8c6-7dcb922fbf47": {
       "attrs": {
        "height": 0.8,
        "width": 0.8,
        "x": 0.1,
        "y": 0.1
       },
       "content": {
        "cell": "ee1bdf03-6e13-4f1f-9dc9-22d4e344fdba",
        "part": "whole"
       },
       "id": "dce1e605-9342-414d-b8c6-7dcb922fbf47"
      }
     }
    },
    "999513ad-b53e-4d84-b9ef-ed37967f74d6": {
     "id": "999513ad-b53e-4d84-b9ef-ed37967f74d6",
     "prev": "638df7e1-84d1-4fd4-a15c-c94b731d1bea",
     "regions": {
      "2e85c1b2-3c30-413e-9b0f-141281da3a2a": {
       "attrs": {
        "height": 0.8,
        "width": 0.8,
        "x": 0.1,
        "y": 0.1
       },
       "content": {
        "cell": "998dc7f5-ab6d-4fb8-866f-4fa96a06aaaa",
        "part": "whole"
       },
       "id": "2e85c1b2-3c30-413e-9b0f-141281da3a2a"
      }
     }
    },
    "9add3d79-8621-4167-8e1d-d4ae48fba71b": {
     "id": "9add3d79-8621-4167-8e1d-d4ae48fba71b",
     "prev": "7ea582c3-439d-4ec2-9f27-dea18bcacc31",
     "regions": {
      "d5f4537e-4d8c-4179-b14b-6c475f50b04e": {
       "attrs": {
        "height": 0.8,
        "width": 0.8,
        "x": 0.1,
        "y": 0.1
       },
       "content": {
        "cell": "9659b1c1-9aed-4d71-b830-4a60d408ad71",
        "part": "whole"
       },
       "id": "d5f4537e-4d8c-4179-b14b-6c475f50b04e"
      }
     }
    },
    "9bfe6214-4631-45b5-a05e-8923f178bb57": {
     "id": "9bfe6214-4631-45b5-a05e-8923f178bb57",
     "prev": "30509a9a-dbd8-4dbd-9fab-852a7266d894",
     "regions": {
      "aac53254-d149-49f2-8f92-670c6f2714bb": {
       "attrs": {
        "height": 0.8,
        "width": 0.8,
        "x": 0.1,
        "y": 0.1
       },
       "content": {
        "cell": "c71a78d7-9d0e-4825-9c84-9998f971317d",
        "part": "whole"
       },
       "id": "aac53254-d149-49f2-8f92-670c6f2714bb"
      }
     }
    },
    "b9dddf99-da24-46e1-81d4-8ac33b6fc3a3": {
     "id": "b9dddf99-da24-46e1-81d4-8ac33b6fc3a3",
     "prev": "1390653e-bdb6-444a-b611-39c60ffb77a1",
     "regions": {
      "0b31dbb4-f15b-4a16-9420-c5dc8ed4e871": {
       "attrs": {
        "height": 0.8,
        "width": 0.8,
        "x": 0.1,
        "y": 0.1
       },
       "content": {
        "cell": "d0569bb0-fad8-48b7-8d48-0066bfb90401",
        "part": "whole"
       },
       "id": "0b31dbb4-f15b-4a16-9420-c5dc8ed4e871"
      }
     }
    },
    "ba274d18-2760-4e55-ad47-2727b824fd00": {
     "id": "ba274d18-2760-4e55-ad47-2727b824fd00",
     "prev": "ed47079d-58cf-4b87-a9fa-a709d8a7c3c6",
     "regions": {
      "13000b51-bd66-4fb5-970b-20bfad440880": {
       "attrs": {
        "height": 0.8,
        "width": 0.8,
        "x": 0.1,
        "y": 0.1
       },
       "content": {
        "cell": "f6847886-4044-43a7-9edd-f18efddcb7a9",
        "part": "whole"
       },
       "id": "13000b51-bd66-4fb5-970b-20bfad440880"
      }
     }
    },
    "ed47079d-58cf-4b87-a9fa-a709d8a7c3c6": {
     "id": "ed47079d-58cf-4b87-a9fa-a709d8a7c3c6",
     "prev": "9add3d79-8621-4167-8e1d-d4ae48fba71b",
     "regions": {
      "a96aea94-1714-4020-83f9-dbc03e9fd55e": {
       "attrs": {
        "height": 0.8,
        "width": 0.8,
        "x": 0.1,
        "y": 0.1
       },
       "content": {
        "cell": "5a579720-fa62-4525-85e3-dd049cbd73be",
        "part": "whole"
       },
       "id": "a96aea94-1714-4020-83f9-dbc03e9fd55e"
      }
     }
    },
    "ee33e624-cd65-4b8c-b28b-c95623a56dbf": {
     "id": "ee33e624-cd65-4b8c-b28b-c95623a56dbf",
     "prev": "999513ad-b53e-4d84-b9ef-ed37967f74d6",
     "regions": {
      "325ae98d-0855-4d16-8408-6d12f47efa24": {
       "attrs": {
        "height": 0.8,
        "width": 0.8,
        "x": 0.1,
        "y": 0.1
       },
       "content": {
        "cell": "829150e0-712b-4739-92d6-37b9c3d789cb",
        "part": "whole"
       },
       "id": "325ae98d-0855-4d16-8408-6d12f47efa24"
      }
     }
    },
    "f0727a74-61a1-48c1-94a5-3e7490c29f0b": {
     "id": "f0727a74-61a1-48c1-94a5-3e7490c29f0b",
     "prev": "6d7ab34f-9d99-4c74-9877-27b25abc73f0",
     "regions": {
      "1666081e-448d-4f80-90f2-9f26f1568cdc": {
       "attrs": {
        "height": 0.8,
        "width": 0.8,
        "x": 0.1,
        "y": 0.1
       },
       "content": {
        "cell": "d99a804c-9444-418b-bc94-3c2f064e2844",
        "part": "whole"
       },
       "id": "1666081e-448d-4f80-90f2-9f26f1568cdc"
      }
     }
    },
    "f3f10f50-4cad-4149-b308-c66e6a493a72": {
     "id": "f3f10f50-4cad-4149-b308-c66e6a493a72",
     "prev": "42d1bd80-265e-4acf-bbc1-b202afddade3",
     "regions": {
      "4fc1185f-bdb8-46fc-99bd-b8d30defeca9": {
       "attrs": {
        "height": 0.8,
        "width": 0.8,
        "x": 0.1,
        "y": 0.1
       },
       "content": {
        "cell": "9b7597e9-aaa9-4d9f-ba0d-22f43d1a3900",
        "part": "whole"
       },
       "id": "4fc1185f-bdb8-46fc-99bd-b8d30defeca9"
      }
     }
    },
    "febe7de9-9362-4079-bfe9-2d4dfddf00e2": {
     "id": "febe7de9-9362-4079-bfe9-2d4dfddf00e2",
     "prev": "6bda9eb4-0724-4e53-9971-131d0cb5f9e2",
     "regions": {
      "42348103-1cd6-4bac-b346-33cd41aea444": {
       "attrs": {
        "height": 0.8,
        "width": 0.8,
        "x": 0.1,
        "y": 0.1
       },
       "content": {
        "cell": "35a148d4-f201-4441-bf5e-8a07f93dea84",
        "part": "whole"
       },
       "id": "42348103-1cd6-4bac-b346-33cd41aea444"
      }
     }
    }
   },
   "themes": {}
  }
 },
 "nbformat": 4,
 "nbformat_minor": 1
}
