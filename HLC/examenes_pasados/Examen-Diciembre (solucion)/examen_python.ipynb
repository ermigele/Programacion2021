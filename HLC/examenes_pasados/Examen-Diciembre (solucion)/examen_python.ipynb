{
 "cells": [
  {
   "cell_type": "markdown",
   "metadata": {},
   "source": [
    "# Examen Python \n",
    "**Fecha**: 9 de Diciembre 2020  **I.E.S. Velázquez:** Curso 2020-2021\n",
    "**Alumno**:"
   ]
  },
  {
   "cell_type": "markdown",
   "metadata": {},
   "source": [
    "## Índice de ejercicios\n",
    "* [Ejercicio 1](#ejercicio_uno)\n",
    "* [Ejercicio 2](#ejercicio_dos)\n",
    "* [Ejercicio 3](#ejercicio_tres)\n",
    "* [Ejercicio 4](#ejercicio_cuatro)\n",
    "* [Ejercicio 5](#ejercicio_cinco)\n",
    "* [Ejercicio 6](#ejercicio_seis)\n",
    "* [Ejercicio 7](#ejercicio_siete)\n",
    "* [Ejercicio 8](#ejercicio_ocho)"
   ]
  },
  {
   "cell_type": "markdown",
   "metadata": {},
   "source": [
    "## Ejercicio 1 <a name=\"ejercicio_uno\"/>"
   ]
  },
  {
   "cell_type": "markdown",
   "metadata": {},
   "source": [
    "Escribe una función que recibe un **conjunto de números enteros aleatorios** y devuelve **dos listas ordenadas**. La primera lista ordenada contiene los números pares y la segunda los números impares.\n",
    "\n",
    "El conjunto estará formado como máximo por 100 números enteros aleatorios comprendidos entre el 1 y 999.\n"
   ]
  },
  {
   "cell_type": "markdown",
   "metadata": {},
   "source": [
    "### ¡Prueba tú!"
   ]
  },
  {
   "cell_type": "code",
   "execution_count": null,
   "metadata": {},
   "outputs": [],
   "source": [
    "#importación de la librería random\n",
    "import random\n",
    "# randrange devuelve un número aleatorio en un rango\n",
    "\n",
    "conjunto = set()\n",
    "for i in range(0,100):\n",
    "    conjunto.add (random.randrange(1,1000))\n",
    "    \n",
    "def pares_impares(conjunto):\n",
    "    '''Función que recibe un conjunto de números enteros y devuelve dos listas ordenadas con los números impares y pares de la lista dada.\n",
    "\n",
    "    Parámetros:\n",
    "        - conjunto: Es un conjunto de números enteros.\n",
    "    Devuelve: Dos listas ordenadas con los números impares y pares de la lista dada.\n",
    "    '''\n",
    "\n",
    "    # Definimos dos listas vacías para guardar los números pares e impares.\n",
    "    pares = []\n",
    "    impares = []\n",
    "    # Bucle para recorrer la lista de números.\n",
    "    for i in conjunto:\n",
    "        # Condicional para ver si el número es par o impar.\n",
    "        if i%2 == 0:\n",
    "            # Si el resto de la división entera por 2 es 0, el número es par y se añade a la lista de pares. \n",
    "            pares.append(i)\n",
    "        else:\n",
    "            # Si el resto de la división entera por 2 no es 0, el número es impar y se añade a la lista de impares.\n",
    "            impares.append(i)\n",
    "    # Ordenamos las listas.\n",
    "    pares.sort()\n",
    "    impares.sort()\n",
    "    # Devolvemos las listas de pares e impares.\n",
    "    return pares, impares\n",
    "\n",
    "# Ejemplo\n",
    "pares, impares = pares_impares(conjunto)\n",
    "print('Pares: ', pares)\n",
    "print('Impares: ', impares)\n",
    "    "
   ]
  },
  {
   "cell_type": "markdown",
   "metadata": {},
   "source": [
    "<hr>"
   ]
  },
  {
   "cell_type": "markdown",
   "metadata": {},
   "source": [
    "## Ejercicio 2 <a name=\"ejercicio_dos\"/>"
   ]
  },
  {
   "cell_type": "markdown",
   "metadata": {},
   "source": [
    "Escribe un programa que genere una lista, de la forma más eficiente, con los números del 1 al 10 y los muestre por pantalla en orden inverso separados por comas."
   ]
  },
  {
   "cell_type": "markdown",
   "metadata": {},
   "source": [
    "## ¡Prueba tú!"
   ]
  },
  {
   "cell_type": "code",
   "execution_count": null,
   "metadata": {},
   "outputs": [],
   "source": [
    "numeros = list(range(1,11))\n",
    "numeros.reverse()\n",
    "for i in numeros:\n",
    "    print(i, end=\", \")\n"
   ]
  },
  {
   "cell_type": "markdown",
   "metadata": {},
   "source": [
    "<hr>"
   ]
  },
  {
   "cell_type": "markdown",
   "metadata": {},
   "source": [
    "## Ejercicio 3 <a name=\"ejercicio_tres\"/>"
   ]
  },
  {
   "cell_type": "markdown",
   "metadata": {},
   "source": [
    "Obtener múltiplos de \"tres\" y \"nueve\".\n",
    "\n",
    "Construye una lista de tuplas en el que cada tupla es de la forma (número con tres dígitos, mayor divisor entre tres y nueve) En las lista sólo se deben incluir los números desde el 1 hasta el 900 que sean múltiplos de tres o de nueve. \n",
    "[('003',\"tres\"), ('006',\"tres\"), ('009',\"nueve\"), ('012', \"tres\"), ('015', \"tres\"), ('018',\"nueve\"),....('900',\"nueve\")]\n",
    "\n",
    "Obtén mediante slicing las tuplas (número con tres dígitos, mayor divisor entre tres y nueve) de los 10 primeros números que acaben en número par (0,2,4,6 o 8) que sean múltiplos de 3 o de 9.<br>\n",
    "Obtén mediante slicing las tuplas (número con tres dígitos, mayor divisor entre tres y nueve) de los últimos 7 números multiplos de tres o de nueve que acaben en cero.<br>\n",
    "Obtén mediante slicing las tuplas (número con tres dígitos, mayor divisor entre tres y nueve) de todos los múltiplos de nueve."
   ]
  },
  {
   "cell_type": "markdown",
   "metadata": {},
   "source": [
    "## ¡Prueba tú!"
   ]
  },
  {
   "cell_type": "code",
   "execution_count": null,
   "metadata": {},
   "outputs": [],
   "source": [
    "# Creamos una lista \n",
    "multiplos=[];\n",
    "# Como vamos a introducir todos los números multiplos de tres, nos creamos un rango que empiece en tres, llegue al 901 y vaya de tres en tres\n",
    "for i in range(3,901,3):\n",
    "    if (i%9) == 0:\n",
    "        multiplos.append(('{0:03d}'.format(i),\"nueve\"))\n",
    "    else:\n",
    "        multiplos.append(('{0:03d}'.format(i),\"tres\"))\n",
    "print (multiplos)\n",
    "print ()\n",
    "# Para sacar los primeros 10 números que acaben en número par hay que sacar desde el segundo hasta el 20 y en saltos de dos\n",
    "print (multiplos[1:20:2])\n",
    "print()\n",
    "# Para sacar los 7 últimos números que acaben en cero primero tenemos que saber que la secuencia\n",
    "# se repite de 10 en 10, con lo cual el salto es de 10.\n",
    "# El última índice cuyo último número acabe en cero es el 299. Si queremos sacar 6 más, tendremos que restar a ese número\n",
    "# 6 x 10 (el salto) = 60\n",
    "# Luedo el índice de inicio será el 299-60 = 239 o en el -61\n",
    "print (multiplos[239::10])\n",
    "print()\n",
    "# Para sacar todos los múltiplos de nueve tenemos que saber que los múltiplos de 9 empiezan en el segundo índice\n",
    "# Como la secuencia se repite de tres en tres tenemos que llegar hasta el final en saltos de tres.\n",
    "print (multiplos[2::3])\n",
    "print()\n"
   ]
  },
  {
   "cell_type": "markdown",
   "metadata": {},
   "source": [
    "<hr>"
   ]
  },
  {
   "cell_type": "markdown",
   "metadata": {},
   "source": [
    "## Ejercicio 4 <a name=\"ejercicio_cuatro\"/>"
   ]
  },
  {
   "cell_type": "markdown",
   "metadata": {},
   "source": [
    "Escribe un programa que simule un juego de dados entre dos jugadores (Juan y Ana). Cada jugador lanza dos dados. Si no coincide ningún dado, gana Juan. Si coincide uno de los dados, gana Ana. Si coinciden los dos dados, empatan.\n",
    "\n",
    "Ejemplos<br>\n",
    "JUEGO DE DADOS<br>\n",
    "Juan ha sacado 3 y 5.<br>\n",
    "Ana ha sacado 1 y 3.<br>\n",
    "Ha ganado Ana.<br>\n",
    "\n",
    "JUEGO DE DADOS<br>\n",
    "Juan ha sacado 5 y 3,<br>\n",
    "Ana ha sacado 6 y 1.<br>\n",
    "Ha ganado Juan.<br>\n",
    "\n",
    "JUEGO DE DADOS<br>\n",
    "Juan ha sacado 3 y 3.<br>\n",
    "Ana ha sacado 3 y 1.<br>\n",
    "Ha ganado Ana.<br>\n",
    "\n",
    "JUEGO DE DADOS<br>\n",
    "Juan ha sacado 5 y 2.<br>\n",
    "Ana ha sacado 2 y 5.<br>\n",
    "Han empatado.<br>"
   ]
  },
  {
   "cell_type": "markdown",
   "metadata": {},
   "source": [
    "### ¡Prueba tú!\n"
   ]
  },
  {
   "cell_type": "code",
   "execution_count": null,
   "metadata": {},
   "outputs": [],
   "source": [
    "#importación de la librería random\n",
    "import random\n",
    "# randrange devuelve un número aleatorio en un rango\n",
    "\n",
    "dadosJuan = []\n",
    "dadosAna = []\n",
    "for _ in range(1,3):\n",
    "    dadosJuan.append(random.randrange(1,7))\n",
    "    dadosAna.append(random.randrange(1,7))\n",
    "\n",
    "print (\"JUEGO DE DADOS\")\n",
    "print (\"Juan ha sacado\",dadosJuan[0],\"y\",dadosJuan[1])\n",
    "print (\"Ana ha sacado\",dadosAna[0],\"y\",dadosAna[1])\n",
    "\n",
    "ganadoJuan = True\n",
    "# Sacamos todos los dados de Juna\n",
    "for x in dadosJuan:\n",
    "    #Si el dado de Juan se encuentra entre los que ha sacado Ana pierde \n",
    "    if x in dadosAna:\n",
    "        ganadoJuan = False\n",
    "        \n",
    "# Ordeno la lista para comprobar si son iguales\n",
    "if sorted(dadosJuan)==sorted(dadosAna):\n",
    "    print (\"Han empatado\")\n",
    "elif ganadoJuan:\n",
    "    print (\"Ha ganado Juan\")\n",
    "else:\n",
    "    print (\"Ha ganado Ana\")\n",
    "    "
   ]
  },
  {
   "cell_type": "markdown",
   "metadata": {},
   "source": [
    "<hr>"
   ]
  },
  {
   "cell_type": "markdown",
   "metadata": {},
   "source": [
    "## Ejercicio 5 <a name=\"ejercicio_cinco\"/>"
   ]
  },
  {
   "cell_type": "markdown",
   "metadata": {},
   "source": [
    "Escribe un programa que permita encriptar un texto que sólo contenga letras y espacios. La regla seguida para la encriptación es que a cada letra del abecedario independientemente de que esté en minúscula o mayúscula le corresponde un número cardinal empezando en el 1. Al espacio en blanco le corresponde el 0. \n",
    "\n",
    "Tras la encriptación de una letra irá un guión medio salvo que sea la última letra, que no irá nada. El texto encriptado se tendrá que guardar en un fichero txt, con encoding utf-8, con el nombre **ejercicio5.txt**\n",
    "\n",
    "Correspondencia de letras y números:\n",
    "\n",
    "* A la letra \"A\" le corresponde el 1.\n",
    "* A la letra \"B\" le corresponde el 2.\n",
    "* A la letra \"C\" le corresponde el 3.\n",
    "* ....\n",
    "* A la letra \"Y\" le corresponde el 26.\n",
    "* A la letra \"Z\" le corresponde el 27.\n",
    "\n",
    "\n",
    "Utilizar el siguiente texto para probar el programa\n",
    "\"_Este año mi amigo Juan cursa un ciclo superior_\"\n"
   ]
  },
  {
   "cell_type": "markdown",
   "metadata": {},
   "source": [
    "### ¡Prueba tú!"
   ]
  },
  {
   "cell_type": "code",
   "execution_count": null,
   "metadata": {},
   "outputs": [],
   "source": [
    "conversion = {' ': '0', 'A': '1', 'B': '2', 'C': '3', 'D': '4', 'E': '5', 'F': '6', 'G': '7', 'H': '8', \n",
    "         'I': '9', 'J': '10', 'K': '11', 'L': '12', 'M': '13', 'N': '14', 'Ñ': '15', 'O': '16', 'P': '17', 'Q': '18', \n",
    "         'R': '19', 'S': '20', 'T': '21', 'U': '22', 'V': '23', 'W': '24', 'X': '25', 'Y': '26', 'Z': '27' }\n",
    "\n",
    "textoEncriptado = \"\"\n",
    "texto = \"Este año mi amigo Juan cursa un ciclo superior\"\n",
    "\n",
    "for letra in texto.upper():\n",
    "    textoEncriptado +=conversion[letra]+\"-\"\n",
    "\n",
    "# Quitamos el último guión \n",
    "textoEncriptado = textoEncriptado[:-1]\n",
    "\n",
    "with open('ejercicio5.txt', mode='w', encoding='utf-8') as f:\n",
    "   f.write(textoEncriptado) \n",
    "\n",
    "\n",
    "# Código para desencriptar\n",
    "#desencriptar =  {'0': ' ', '1': 'A', '2': 'B', '3': 'C', '4': 'D', '5': 'E', '6': 'F', '7': 'G', '8': 'H', \n",
    "#         '9': 'I', '10': 'J', '11': 'K', '12': 'L', '13': 'M', '14': 'N', '15': 'Ñ', '16': 'O', '17': 'P', '18': 'Q', \n",
    "#         '19': 'R', '20': 'S', '21': 'T', '22': 'U', '23': 'V', '24': 'W', '25': 'X', '26': 'Y', '27': 'Z' }\n",
    "\n",
    "#mensaje = \"\"\n",
    "#for numero in textoEncriptado.split(\"-\"):\n",
    "#    mensaje +=desencriptar[numero]\n",
    "    \n",
    "#print (mensaje)\"\"\""
   ]
  },
  {
   "cell_type": "markdown",
   "metadata": {},
   "source": [
    "<hr>"
   ]
  },
  {
   "cell_type": "markdown",
   "metadata": {},
   "source": [
    "# Ejercicio 6 <a name=\"ejercicio_seis\"/>"
   ]
  },
  {
   "cell_type": "markdown",
   "metadata": {},
   "source": [
    "Escribe un programa que lea el contenido del fichero \"fichero6.txt\" y cree un diccionario con todas las palabras que aparecen en él. Si una palabra aparece más de una vez, aunque esté en mayúscula y en minúscula, sólo se debe incorporar al diccionario en una ocasión salvo que la misma palabra esté acentuada y sin acentuar en cuyo caso sí debe aparecer dos veces (Ejemplo \"que\" y \"qué\").\n",
    "\n",
    "El diccionario tiene que estar ordenado alfabéticamente tanto por las letras, claves del diccionario, como por los valores, lista asociada a cada letra.\n",
    "\n",
    "**NOTA**: En una ordenación alfabética en Python las letras acentuadas **á,é,í,ó,ú** y la **ñ** van tras la **z**. (Ejemplo \n",
    "'variada', 'viene', 'válidas')\n",
    "\n",
    "Para el contenido del fichero anterior el resultado debe ser:\n",
    "\n",
    "\n",
    "{'a': ['a', 'acciones', 'al', 'alfabeto', 'algoritmos', 'almacenados', 'aplicando', 'artificial'], 'b': ['bajo', 'bien', 'básicamente'], 'c': ['capacidad', 'característica', 'caso', 'circunstancias', 'clases', 'codificación', 'colaborativa', 'comandos', 'como', 'compilación', 'comportamiento', 'comprendidas', 'computadora', 'común', 'con', 'conjunto', 'construcción', 'contenido', 'controlar', 'convertirlo', 'crear', 'código', 'cómo'], 'd': ['datos', 'de', 'debe', 'deben', 'define', 'definen', 'definidas', 'del', 'denomina', 'depuración', 'desarrollo', 'determinadas', 'dicho', 'dichos', 'diversas', 'documentación', 'documentos'], 'e': ['ejecutar', 'ejemplo', 'el', 'ellos', 'empleando', 'en', 'engloban', 'entre', 'error', 'es', 'escribir', 'escritos', 'escritura', 'especificar', 'específico', 'estar', 'este', 'esto', 'estructurar', 'estructuras', 'están', 'existe'], 'f': ['fiable', 'fin', 'forma', 'formados', 'formal', 'fuente', 'físico'], 'g': ['gama', 'gramaticales'], 'h': ['hasta', 'html', 'humano'], 'i': ['informático', 'informáticos', 'instrucciones', 'intenta', 'interpretación'], 'l': ['la', 'las', 'le', 'lenguaje', 'lenguajes', 'llamado', 'los', 'lógica', 'lógicamente', 'lógico'], 'm': ['manera', 'mantenimiento', 'marcado', 'mediante', 'máquina', 'más'], 'n': ['natural', 'no'], 'o': ['o', 'obtener', 'operar', 'otros'], 'p': ['para', 'particular', 'pasos', 'permite', 'permiten', 'persona', 'por', 'precisa', 'precisamente', 'problema', 'proceso', 'programa', 'programación', 'programador', 'programar', 'propiamente', 'proporciona', 'prueba', 'próximo', 'pueda', 'puedan', 'páginas'], 'q': ['que', 'qué'], 'r': ['realizar', 'reglas', 'relativamente', 'relevante', 'resolver'], 's': ['se', 'sean', 'secuencias', 'semánticas', 'ser', 'serie', 'significado', 'siguientes', 'sino', 'sinónimos', 'sobre', 'software', 'su', 'símbolos'], 't': ['tareas', 'todo', 'tomar', 'transmitidos', 'tratar', 'través', 'términos'], 'u': ['un', 'una', 'usar'], 'v': ['variada', 'viene', 'válidas'], 'w': ['web'], 'y': ['y']}"
   ]
  },
  {
   "cell_type": "markdown",
   "metadata": {},
   "source": [
    "### ¡Prueba tú!"
   ]
  },
  {
   "cell_type": "code",
   "execution_count": null,
   "metadata": {},
   "outputs": [],
   "source": [
    "# Creamos el diccionario vacío\n",
    "diccionario = dict()\n",
    "with open('ejercicio6.txt', encoding='utf-8') as f:\n",
    "    for linea in f:\n",
    "        # Por cada línea\n",
    "        palabras = set(linea.lower().split())\n",
    "        # Por cada palabra\n",
    "        for palabra in palabras:\n",
    "            # Sacamos la inicial de la palabra\n",
    "            inicial = palabra[0]\n",
    "            # Miramos si la inicial ya está en el diccionario\n",
    "            if inicial not in diccionario:\n",
    "                # Si no está creamos una clave con esa inicial y metemos un diccionario vacío\n",
    "                diccionario[inicial]=list()\n",
    "            if palabra not in diccionario[inicial]:\n",
    "                diccionario[inicial].append(palabra)\n",
    "\n",
    "#Ordenamos las claves del diccionario\n",
    "diccionario = {key: value for key, value in sorted(diccionario.items(), key=lambda item: item[1])}\n",
    "\n",
    "#print({key: value for key, value in sorted(diccionario.items(), key=lambda item: item[1])})\n",
    "\n",
    "#Ordenamos las listas de nuestro diccionario\n",
    "for clave, valor in diccionario.items():\n",
    "    diccionario[clave] = sorted(list(valor))\n",
    "\n",
    "print(diccionario)\n",
    "print()"
   ]
  },
  {
   "cell_type": "markdown",
   "metadata": {},
   "source": [
    "<hr>"
   ]
  },
  {
   "cell_type": "markdown",
   "metadata": {},
   "source": [
    "# Ejercicio 7 <a name=\"ejercicio_siete\"/>"
   ]
  },
  {
   "cell_type": "markdown",
   "metadata": {},
   "source": [
    "Escribe una función con nombre **obtenerInfo** que reciba dos parámetros:\n",
    "* El primer parámetro es una cadena de texto con valor por defecto a cadena vacía que recibe una dirección que no tiene que estar completa.\n",
    "* Un segundo parámetro que es un booleano con valor por defecto a **False** que indica si queremos o no información detallada.\n",
    "\n",
    "La función debe devolver:\n",
    "<ul>\n",
    "    <li>En el caso de que la información detalla sea <b>False</b> un diccionario con la siguiente información:</li>\n",
    "    <ul>\n",
    "        <li>Dirección recibida en la función y de la que se desea obtener información.</li>\n",
    "        <li>El número total de bicicletas cuya dirección contiene la cadena recibida.</li>\n",
    "        <li>El número total de bicicletas libres cuya dirección contiene la cadena recibida.</li>\n",
    "    </ul>\n",
    "    <li>En el caso de que la información detalla sea <b>True</b> una lista de diccionarios:</li>\n",
    "        En cada elemento de la lista debe ir un diccionario con:\n",
    "        <ul>\n",
    "            <li>Dirección dentro del fichero json que cumple con la dirección recibida.</li>\n",
    "            <li>El número total de bicicletas para esa dirección.</li>\n",
    "            <li>El número total de bicicletas libres para esa dirección.</li>\n",
    "        </ul>\n",
    "\n",
    "\n",
    "</ul>\n",
    "\n",
    "La información sobre las direcciones y las bicicletas se puede consultar en el fichero **sevici.json** que debe ser cargado en la función.\n",
    "\n",
    "Dentro del fichero json la información necesaria se encuentra en las siguientes claves:\n",
    "* 'address': Dirección de la estación\n",
    "* 'slots': Número de bicicletas\n",
    "* 'free_bikes': Bicicletas libres\n",
    "\n",
    "**Ejemplos**<br>\n",
    "Para la siguiente llamada a la función  <b>obtenerInfo(\"REINA MERCEDES\")</b> se obtiene<br>\n",
    "[{'Direccion': 'REINA MERCEDES', 'Total': 122, 'Libres': 25}]\n",
    "\n",
    "Para la siguiente llamada a la función  <b>obtenerInfo(\"REINA MERCEDES\", True)</b> se obtiene<br>\n",
    "[{'Direccion': 'AVENIDA REINA MERCEDES - Aprox. Facultad de Informática', 'Total': 25, 'Libres': 17}, {'Direccion': 'AVENIDA REINA MERCEDES - Aprox. Escuela de arquitectura', 'Total': 27, 'Libres': 1}, {'Direccion': 'AVENIDA REINA MERCEDES - Aprox. C/ Profesor García González', 'Total ': 20, 'Libres': 2}, {'Direccion': 'AVENIDA REINA MERCEDES - Aprox. Glorieta Alcalde de Parias Merry', 'Total': 30, 'Libres': 0}, {'Direccion': 'AVENIDA REINA MERCEDES - Aprox. C/ Profesor García González', 'Total': 20, 'Libres': 5}]"
   ]
  },
  {
   "cell_type": "markdown",
   "metadata": {},
   "source": [
    "### ¡Prueba tú!"
   ]
  },
  {
   "cell_type": "code",
   "execution_count": null,
   "metadata": {},
   "outputs": [],
   "source": [
    "import json\n",
    "\n",
    "\n",
    "def obtenerInfo(direccion=\"\",detalle=False):\n",
    "    '''Función que recibe una cadena de texto y una variable booleana para saber si se quiere mostrar información más detallada y devuelve una lista de diccionarios con información de la dirección, bicicletas disponibles y bicicletas libres.\n",
    "\n",
    "    Parámetros:\n",
    "        - direccion: Es una cadena de texto.\n",
    "        - detalles: Es un valor booleano\n",
    "    Devuelve: Una lista de dieccionarios con dirección e información de bicicletas totales y libres.\n",
    "    '''\n",
    "\n",
    "    lista=[]\n",
    "    # Cargamos el JSON\n",
    "    with open(\"sevici.json\") as f:\n",
    "        sevici_json = f.read()\n",
    "        estaciones = json.loads(sevici_json)\n",
    "        \n",
    "        #Inicializamos las variables a usar\n",
    "        bicis = 0\n",
    "        libres = 0\n",
    "        direccionEstacion = \"\"\n",
    "        #Por cada estación\n",
    "        for estacion in estaciones['network']['stations']:\n",
    "            #Si la dirección recibida en la función está en la dirección de la estación\n",
    "            if (direccion in estacion['extra']['address']):\n",
    "                direccionEstacion = estacion['extra']['address']\n",
    "                bicis += estacion['extra']['slots']\n",
    "                libres += estacion['free_bikes']\n",
    "                # Si queremos detalle\n",
    "                if (detalle):\n",
    "                    lista.append({'Direccion':direccionEstacion,'Total':bicis,'Libres':libres})\n",
    "                    direccionEstacion = \"\"\n",
    "                    bicis = 0\n",
    "                    libres = 0\n",
    "        # Si no queremos detalle metemos en la lista un único diccionario\n",
    "        if (not detalle):\n",
    "            lista.append({'Direccion':direccion,'Total':bicis,'Libres':libres})\n",
    "    return lista\n",
    "\n",
    "print(obtenerInfo(\"REINA MERCEDES\"))\n",
    "print() \n",
    "print(obtenerInfo(\"REINA MERCEDES\", True))\n",
    "print()"
   ]
  },
  {
   "cell_type": "markdown",
   "metadata": {},
   "source": [
    "<hr>"
   ]
  },
  {
   "cell_type": "markdown",
   "metadata": {},
   "source": [
    "## Ejercicio 8 <a name=\"ejercicio_ocho\"/>"
   ]
  },
  {
   "cell_type": "markdown",
   "metadata": {},
   "source": [
    "Escribe una función **realizarOperacion** que recibe dos números enteros introducidos por el usuario y la operación a realizar.\n",
    "\n",
    "La operación a realizar también es un número entero que introduce el usuario entre los siguientes posibles valores:\n",
    "<ul>\n",
    "    <li>1 - SUMA</li>\n",
    "    <li>2 - RESTA</li>\n",
    "    <li>3 - MULTIPLICACIÓN</li>\n",
    "    <li>4 - DIVISIÓN</li>\n",
    "</ul>\n",
    "\n",
    "\n",
    "Capturar la excepción si el usuario no introduce un número entero o una operación válida y no terminar el programa hasta que se hayan introducido valores válidos.\n",
    " \n",
    "Capturar también la excepción en la función **realizarOperacion** en el caso de que la operación a realizar sea la de  dividir y el segundo número sea un cero (excepción de dividir por cero). En este caso propagar la excepción al programa principal mostrando el siguiente mensaje \"No se puede dividir los números introducidos\".\n",
    "\n",
    "Ejemplos<br>\n",
    "Usuario introduce:<br>\n",
    "Primer número: 10<br>\n",
    "Segundo número 5<br>\n",
    "Operacion: 1<br>\n",
    "Resultado 15<br><br>\n",
    "\n",
    "Usuario introduce:<br>\n",
    "Primer número: 10<br>\n",
    "Segundo número 5<br>\n",
    "Operacion: 2<br>\n",
    "Resultado 5<br><br>\n",
    "\n",
    "Usuario introduce:<br>\n",
    "Primer número: 10<br>\n",
    "Segundo número 5<br>\n",
    "Operacion: 3<br>\n",
    "Resultado 50<br><br>\n",
    "\n",
    "Usuario introduce:<br>\n",
    "Primer número: 10<br>\n",
    "Segundo número 5<br>\n",
    "Operacion: 4<br>\n",
    "Resultado 2<br><br>\n",
    "\n",
    "Usuario introduce:<br>\n",
    "Primer número: 10<br>\n",
    "Segundo número 0<br>\n",
    "No se puede dividir los números introducidos\n"
   ]
  },
  {
   "cell_type": "markdown",
   "metadata": {},
   "source": [
    "### ¡Prueba tú!"
   ]
  },
  {
   "cell_type": "code",
   "execution_count": null,
   "metadata": {},
   "outputs": [],
   "source": [
    "numeroNoValido = True\n",
    "while numeroNoValido:\n",
    "    try:\n",
    "        numero1 = int(input(\"Introduce un primer número:\"))\n",
    "        numeroNoValido = False\n",
    "    except ValueError:\n",
    "        print (\"Debes introducir un número\")\n",
    "\n",
    "numeroNoValido = True\n",
    "while numeroNoValido:\n",
    "    try:\n",
    "        numero2 = int(input(\"Introduce un segundo número:\"))\n",
    "        numeroNoValido = False\n",
    "    except ValueError:\n",
    "        print (\"Debes introducir un número\")\n",
    "\n",
    "numeroNoValido= True\n",
    "while numeroNoValido:\n",
    "    try:\n",
    "        operacion = int(input(\"Introduce una operación (1- Suma, 2 - Resta, 3 - Multiplicación, 4 - División)\"))\n",
    "        if operacion <5:\n",
    "            numeroNoValido = False\n",
    "    except ValueError:\n",
    "        print (\"Debes introducir un número\")\n",
    "        \n",
    "def realizarOperacion(numero1,numero2, opc):\n",
    "    if opc ==1:\n",
    "        return numero1+numero2\n",
    "    elif opc == 2:\n",
    "        return numero1-numero2\n",
    "    elif opc == 3:    \n",
    "        return  numero1*numero2\n",
    "    else:\n",
    "        try:\n",
    "            return numero1/numero2\n",
    "        except ZeroDivisionError:\n",
    "            raise \n",
    "\n",
    "try:\n",
    "    print(\"Resultado\",realizarOperacion(numero1,numero2,operacion)) \n",
    "except:\n",
    "    print(\"No se puede dividir los números introducidos\")"
   ]
  },
  {
   "cell_type": "code",
   "execution_count": null,
   "metadata": {},
   "outputs": [],
   "source": []
  }
 ],
 "metadata": {
  "kernelspec": {
   "display_name": "Python 3",
   "language": "python",
   "name": "python3"
  },
  "language_info": {
   "codemirror_mode": {
    "name": "ipython",
    "version": 3
   },
   "file_extension": ".py",
   "mimetype": "text/x-python",
   "name": "python",
   "nbconvert_exporter": "python",
   "pygments_lexer": "ipython3",
   "version": "3.8.5"
  }
 },
 "nbformat": 4,
 "nbformat_minor": 4
}
