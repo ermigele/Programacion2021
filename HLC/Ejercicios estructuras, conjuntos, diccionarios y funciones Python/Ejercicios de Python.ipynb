{
 "cells": [
  {
   "cell_type": "markdown",
   "metadata": {},
   "source": [
    "# Ejercicios de estructuras, conjuntos, diccionarios y funciones de Python\n",
    "**Docente**: Antonio Gago.  **I.E.S. Velázquez:** Curso 2020-2021\n",
    "**Alumno**: Miguel Ángel Martín Martín"
   ]
  },
  {
   "cell_type": "markdown",
   "metadata": {},
   "source": [
    "## Índice de ejercicios\n",
    "* [Ejercicio 1](#ejercicio_uno)\n",
    "* [Ejercicio 2](#ejercicio_dos)\n",
    "* [Ejercicio 3](#ejercicio_tres)\n",
    "* [Ejercicio 4](#ejercicio_cuatro)\n",
    "* [Ejercicio 5](#ejercicio_cinco)\n",
    "* [Ejercicio 6](#ejercicio_seis)"
   ]
  },
  {
   "cell_type": "markdown",
   "metadata": {},
   "source": [
    "## Ejercicio 1 <a name=\"ejercicio_uno\"/>"
   ]
  },
  {
   "cell_type": "markdown",
   "metadata": {},
   "source": [
    "Escriba un programa que pida un número de tiradas de un dado mayor que una. Si no salen dos dados iguales seguidos, el jugador gana. Si salen iguales, pierde.\n",
    "\n",
    "Número de tiradas de dados: 1 ¡Imposible!\n",
    "\n",
    "Número de tiradas de dados: 6 Dados: 3 1 1 4 6 2 El jugador ha perdido.\n",
    "\n",
    "Número de tiradas de dados: 4 Dados: 4 2 5 3 El jugador ha ganado."
   ]
  },
  {
   "cell_type": "markdown",
   "metadata": {},
   "source": [
    "### ¡Prueba tú!"
   ]
  },
  {
   "cell_type": "code",
   "execution_count": 59,
   "metadata": {},
   "outputs": [
    {
     "ename": "SyntaxError",
     "evalue": "invalid syntax (<ipython-input-59-323c3f4ab565>, line 11)",
     "output_type": "error",
     "traceback": [
      "\u001b[1;36m  File \u001b[1;32m\"<ipython-input-59-323c3f4ab565>\"\u001b[1;36m, line \u001b[1;32m11\u001b[0m\n\u001b[1;33m    if(i in tirada)\u001b[0m\n\u001b[1;37m                   ^\u001b[0m\n\u001b[1;31mSyntaxError\u001b[0m\u001b[1;31m:\u001b[0m invalid syntax\n"
     ]
    }
   ],
   "source": [
    "#importación de la librería random\n",
    "import random\n",
    "# randrange devuelve un número aleatorio en un rango dentro de random\n",
    "haGanado = true\n",
    "print(\"Introduce un número de tiradas:\")\n",
    "numTiradas = int(input())\n",
    "tirada = []\n",
    "if(numTiradas > 1):\n",
    "    for i in range(numTiradas):\n",
    "        tirada.append(random.randrange(1,7))\n",
    "        if(i in tirada)\n",
    "            haGanado = false\n",
    "        print(i)\n",
    "if(haGanado)\n",
    "    print(\"El juegador ha ganado\")\n",
    "else\n",
    "    print(\"El jugador ha perdido\")\n"
   ]
  },
  {
   "cell_type": "markdown",
   "metadata": {},
   "source": [
    "<hr>"
   ]
  },
  {
   "cell_type": "markdown",
   "metadata": {},
   "source": [
    "## Ejercicio 2 <a name=\"ejercicio_dos\"/>"
   ]
  },
  {
   "cell_type": "markdown",
   "metadata": {},
   "source": [
    "Dados dos listados independientes de nombres de los alumnos de 1º ESO y 2º ESO. \n",
    "\n",
    "| 1º ESO | 2º ESO |                \n",
    "|:-|:-:|\n",
    "|Antonio | Jaime|\n",
    "|María | Marta|\n",
    "|Juan | José|\n",
    "|Marina | Antonio|\n",
    "|Andrés | Marcos|\n",
    "|Jaime | Alba|\n",
    "|Lucía | Maite|\n",
    "|Belén | Esther|\n",
    "|Jorge | Paula|\n",
    "|Pedro | Alonso|\n",
    "|Ana | Lucía|\n",
    "|Violeta | Antonio|\n",
    "\n",
    "Mostrar:\n",
    "* Mostrar los nombres de todos los alumnos de 1º ESO y de 2º ESO (los repetidos sólo deben aparecer una vez)\n",
    "* Mostrar los nombres que se repiten entre los alumnos de 1º ESO y de 2º ESO. \n",
    "* Mostrar los nombres de los alumnos de 1º ESO que no se repiten en 2º ESO. "
   ]
  },
  {
   "cell_type": "markdown",
   "metadata": {},
   "source": [
    "### ¡Prueba tú!"
   ]
  },
  {
   "cell_type": "code",
   "execution_count": 62,
   "metadata": {},
   "outputs": [
    {
     "name": "stdout",
     "output_type": "stream",
     "text": [
      "True\n"
     ]
    }
   ],
   "source": [
    "pESO = [\"Antonio\", \"Maria\", \"Juan\", \"Marina\", \"Andrés\", \"Jaime\", \"Lucia\", \"Belén\", \"Jorge\", \"Pedro\", \"Ana\", \"Violeta\"]\n",
    "sESO = [\"Jaime\", \"Marta\", \"José\", \"Antonio\", \"Marcos\", \"Alba\", \"Maite\", \"Esther\", \"Paula\", \"Alonso\", \"Lucía\", \"Antonio\"]\n",
    "\n",
    "\n",
    "\n"
   ]
  },
  {
   "cell_type": "markdown",
   "metadata": {},
   "source": [
    "<hr>"
   ]
  },
  {
   "cell_type": "markdown",
   "metadata": {},
   "source": [
    "## Ejercicio 3 <a name=\"ejercicio_tres\"/>"
   ]
  },
  {
   "cell_type": "markdown",
   "metadata": {},
   "source": [
    "Suponer una lista de datos con las compras hechas por clientes de una empresa a lo largo de un mes, la cual contiene tuplas con información de cada venta:\n",
    "\n",
    "\n",
    "| Cliente | Día del Mes | Montaje | Dirección |                \n",
    "|:-|:-:| :-| :-|\n",
    "|Juan José | 5| 1234.50€ | Calle Sol nº 15 | \n",
    "|María Canto | 6| 875.15€ | Calle Luna nº 3 |\n",
    "|Juan José | 8| 294.86€ | Calle Sol nº 15 |  \n",
    "|Marta López | 10 | 594.86€ | Calle León nº 15 | \n",
    "|María Canto | 13| 475.85€ | Calle Luna nº 3 |\n",
    "|Adriano | 17| 715.25€ | Calle Miel nº 30 |\n",
    "|Marta López | 20 | 1095.30€ | Calle León nº 15 | \n",
    "|Valeria | 25 | 745.30€ | Calle Pio nº 25 | \n",
    "\n",
    "Escribir una función que reciba como parámetro una lista con el fomato indicado anteriormente y devuelva las direcciones de cada cliente al que se le debe enviar una factura.\n",
    "\n",
    "**Nota:** Cada cliente puede haber hecho más de una compra durante el mes, por lo que la función dede develover uns estructura que contenga cada dirección sólo una vez."
   ]
  },
  {
   "cell_type": "markdown",
   "metadata": {},
   "source": [
    "### ¡Prueba tú!"
   ]
  },
  {
   "cell_type": "code",
   "execution_count": 100,
   "metadata": {},
   "outputs": [
    {
     "ename": "TypeError",
     "evalue": "list indices must be integers or slices, not str",
     "output_type": "error",
     "traceback": [
      "\u001b[1;31m---------------------------------------------------------------------------\u001b[0m",
      "\u001b[1;31mTypeError\u001b[0m                                 Traceback (most recent call last)",
      "\u001b[1;32m<ipython-input-100-5ae70f1d5a54>\u001b[0m in \u001b[0;36m<module>\u001b[1;34m\u001b[0m\n\u001b[0;32m      8\u001b[0m     \u001b[1;32mreturn\u001b[0m \u001b[0mdire\u001b[0m\u001b[1;33m\u001b[0m\u001b[1;33m\u001b[0m\u001b[0m\n\u001b[0;32m      9\u001b[0m \u001b[1;33m\u001b[0m\u001b[0m\n\u001b[1;32m---> 10\u001b[1;33m \u001b[0mprint\u001b[0m\u001b[1;33m(\u001b[0m\u001b[0mdireccion\u001b[0m\u001b[1;33m(\u001b[0m\u001b[0mlista\u001b[0m\u001b[1;33m)\u001b[0m\u001b[1;33m)\u001b[0m\u001b[1;33m\u001b[0m\u001b[1;33m\u001b[0m\u001b[0m\n\u001b[0m",
      "\u001b[1;32m<ipython-input-100-5ae70f1d5a54>\u001b[0m in \u001b[0;36mdireccion\u001b[1;34m(lista)\u001b[0m\n\u001b[0;32m      5\u001b[0m     \u001b[1;32mfor\u001b[0m \u001b[0mi\u001b[0m \u001b[1;32min\u001b[0m \u001b[0mlista\u001b[0m\u001b[1;33m:\u001b[0m\u001b[1;33m\u001b[0m\u001b[1;33m\u001b[0m\u001b[0m\n\u001b[0;32m      6\u001b[0m         \u001b[1;32mfor\u001b[0m \u001b[0mj\u001b[0m \u001b[1;32min\u001b[0m \u001b[0mi\u001b[0m\u001b[1;33m:\u001b[0m\u001b[1;33m\u001b[0m\u001b[1;33m\u001b[0m\u001b[0m\n\u001b[1;32m----> 7\u001b[1;33m             \u001b[0mdire\u001b[0m\u001b[1;33m.\u001b[0m\u001b[0mappend\u001b[0m\u001b[1;33m(\u001b[0m\u001b[0mlista\u001b[0m\u001b[1;33m[\u001b[0m\u001b[0mj\u001b[0m\u001b[1;33m]\u001b[0m\u001b[1;33m)\u001b[0m\u001b[1;33m\u001b[0m\u001b[1;33m\u001b[0m\u001b[0m\n\u001b[0m\u001b[0;32m      8\u001b[0m     \u001b[1;32mreturn\u001b[0m \u001b[0mdire\u001b[0m\u001b[1;33m\u001b[0m\u001b[1;33m\u001b[0m\u001b[0m\n\u001b[0;32m      9\u001b[0m \u001b[1;33m\u001b[0m\u001b[0m\n",
      "\u001b[1;31mTypeError\u001b[0m: list indices must be integers or slices, not str"
     ]
    }
   ],
   "source": [
    "lista=[(\"Juan José\",5,\"1234.50€\",\"Calle Sol nº 15\"), (\"María Canto\",6,\"875.15€\",\"Calle Luna nº 3\"), (\"María Canto\",13,\"475.85€\",\"Calle Luna nº 3\"), (\"Valeria\",25,\"745.30€\",\"Calle Pio nº 25\")]\n",
    "\n",
    "def direccion(lista):\n",
    "    dire = []\n",
    "    for i in lista:\n",
    "        for j in i:\n",
    "            dire.append(lista[j])\n",
    "    return dire\n",
    "\n",
    "print(direccion(lista))"
   ]
  },
  {
   "cell_type": "markdown",
   "metadata": {},
   "source": [
    "<hr>"
   ]
  },
  {
   "cell_type": "markdown",
   "metadata": {},
   "source": [
    "## Ejercicio 4 <a name=\"ejercicio_cuatro\"/>"
   ]
  },
  {
   "cell_type": "markdown",
   "metadata": {},
   "source": [
    "Obtener múltiplos de \"dos\", \"cuatro\" y \"ocho\".\n",
    "\n",
    "Construye un lista de tuplas en el que cada tupla es de la forma (numero, mayor divisor entre dos, cuatro y ocho)\n",
    "En las lista sólo se den incluir los números desde el 1 hasta el 1600 que sean múltiplos de dos cuatro u ocho.\n",
    "\n",
    "[(2,\"dos\"), (4,\"cuatro\"), (6,\"dos\"), (8, \"ocho\"), (10, \"dos\"), (12,\"cuatro\"), (14,\"dos\"), (16,\"ocho\"),....(1600,\"ocho\")]\n",
    "\n",
    "\n",
    "* Obtén mediante slicing las tuplas (numero, mayor divisor entre dos, cuatro y ocho) de los primeros 15 números cuyo mayor divisor sea dos.\n",
    "* Obtén mediante slicing las tuplas (numero, mayor divisor entre dos, cuatro y ocho) de los últimos 10 números cuyo mayor divisor sea ocho.\n",
    "* Obtén mediante slicing las tuplas (numero, mayor divisor entre dos, cuatro y ocho) todos los múltiplos de cuatro."
   ]
  },
  {
   "cell_type": "markdown",
   "metadata": {},
   "source": [
    "### ¡Prueba tú!"
   ]
  },
  {
   "cell_type": "code",
   "execution_count": null,
   "metadata": {},
   "outputs": [],
   "source": []
  },
  {
   "cell_type": "markdown",
   "metadata": {},
   "source": [
    "<hr>"
   ]
  },
  {
   "cell_type": "markdown",
   "metadata": {},
   "source": [
    "## Ejercicio 5 <a name=\"ejercicio_cinco\"/>"
   ]
  },
  {
   "cell_type": "markdown",
   "metadata": {},
   "source": [
    "Escriba un programa que permita convertir un texto a código Morse.\n",
    "\n",
    "El texto a convertir a morse sólo estará compuesto por letras y espacios."
   ]
  },
  {
   "cell_type": "markdown",
   "metadata": {},
   "source": [
    "### ¡Prueba tú!"
   ]
  },
  {
   "cell_type": "code",
   "execution_count": null,
   "metadata": {},
   "outputs": [],
   "source": [
    "MORSE = {' ': '_', 'A': '.-', 'B': '-...', 'C': '-.-.', 'D': '-..', 'E': '.', 'F': '..-.', 'G': '--.', 'H': '....', \n",
    "         'I': '..', 'J': '.---', 'K': '-.-', 'L': '.-..', 'M': '--', 'N': '-.', 'O': '---', 'P': '.--.', 'Q': '--.-', \n",
    "         'R': '.-.', 'S': '...', 'T': '-', 'U': '..-', 'V': '...-', 'W': '.--', 'X': '-..-', 'Y': '-.--', 'Z': '--..' }\n"
   ]
  },
  {
   "cell_type": "markdown",
   "metadata": {},
   "source": [
    "<hr>"
   ]
  },
  {
   "cell_type": "markdown",
   "metadata": {},
   "source": [
    "## Ejercicio 6 <a name=\"ejercicio_seis\"/>"
   ]
  },
  {
   "cell_type": "markdown",
   "metadata": {},
   "source": [
    "Escribir un programa que dado un texto cree un diccionario en el que las claves sean las vocales y los valores las palabras que \n",
    "que empiecen por esa vocal. Las palabras repetidas sólo deben aparecer una vez.\n",
    "Se valorará el uso de la definición de diccionarios por comprensión para la creación del diccionario.\n",
    "\n",
    "Para el siguiente:\n",
    "\n",
    "*'Hoy estamos en otoño y aún no hace frío, pero en algo más de un mes empieza el invierno y el clima tendrá que cambiar'*\n",
    "\n",
    "El resultado debe ser:\n",
    "\n",
    "{'a': ['aún', 'algo'], 'e': ['en', 'estamos', 'empieza', 'el'], 'i': ['invierno'], 'o': ['otoño'], 'u': ['un']}"
   ]
  },
  {
   "cell_type": "markdown",
   "metadata": {},
   "source": [
    "### ¡Prueba tú!"
   ]
  },
  {
   "cell_type": "code",
   "execution_count": null,
   "metadata": {},
   "outputs": [],
   "source": []
  },
  {
   "cell_type": "markdown",
   "metadata": {},
   "source": [
    "<hr>"
   ]
  }
 ],
 "metadata": {
  "kernelspec": {
   "display_name": "Python 3",
   "language": "python",
   "name": "python3"
  },
  "language_info": {
   "codemirror_mode": {
    "name": "ipython",
    "version": 3
   },
   "file_extension": ".py",
   "mimetype": "text/x-python",
   "name": "python",
   "nbconvert_exporter": "python",
   "pygments_lexer": "ipython3",
   "version": "3.8.3"
  }
 },
 "nbformat": 4,
 "nbformat_minor": 4
}
