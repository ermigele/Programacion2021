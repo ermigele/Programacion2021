{
 "cells": [
  {
   "cell_type": "markdown",
   "metadata": {},
   "source": [
    "# Errores y excepciones\n",
    "**Docente**: Antonio Gago.  **I.E.S. Velázquez:** Curso 2020-2021"
   ]
  },
  {
   "cell_type": "markdown",
   "metadata": {},
   "source": [
    "## Índice de contenidos\n",
    "* [1. Errores y Excepciones](#sec_1)\n",
    " * [1.1. Errores de sintáxis](#sec_1_1)\n",
    " * [1.2. Excepciones](#sec_1_2)\n",
    " * [1.3. Gestionando excepciones](#sec_1_3)\n",
    " * [1.4. Obteniendo información de las excepciones](#sec_1_4)\n",
    " * [1.5. Propagando excepciones. raise](#sec_1_5)"
   ]
  },
  {
   "cell_type": "markdown",
   "metadata": {},
   "source": [
    "# 1. Errores y Excepciones <a name=\"sec_1\"/>"
   ]
  },
  {
   "cell_type": "markdown",
   "metadata": {},
   "source": [
    "Hasta ahora los mensajes de error apenas han sido mencionados, pero si has probado los ejemplos de los notebook anteriores probablemente hayas visto algunos. Hay (al menos) dos tipos diferentes de errores: errores de sintaxis y excepciones.\n",
    "\n",
    "Una excepción es un error que se produce durante la ejecución del programa. Cuando se produce una excepción el programa finaliza y por tanto tenemos que aprender a tratar estas excepciones para que cuando se produzcan no se termine el programa y se ejecute algún otro código que nosotros queramos. "
   ]
  },
  {
   "cell_type": "markdown",
   "metadata": {},
   "source": [
    "## 1.1. Errores de sintáxis <a name=\"sec_1_1\"/>"
   ]
  },
  {
   "cell_type": "markdown",
   "metadata": {},
   "source": [
    "Los errores de sintaxis, también conocidos como errores de interpretación, son quizás el tipo de error más común cuando se está aprendiendo Python:\n"
   ]
  },
  {
   "cell_type": "code",
   "execution_count": null,
   "metadata": {},
   "outputs": [],
   "source": [
    "while True print('Hello world')"
   ]
  },
  {
   "cell_type": "markdown",
   "metadata": {},
   "source": [
    "El intérprete reproduce la línea responsable del error y muestra una pequeña \"flecha\" que apunta al primer lugar donde se detectó el error. El error ha sido provocado (o al menos detectado) en el elemento que precede a la flecha: en el ejemplo, el error se detecta en la función **print**, ya que faltan dos puntos (':') antes del mismo. \n",
    "\n",
    "En este notebook nos van a interesar los errores que se producen a la hora de ejecutar una instrucción que está bien escriba desde el punto de vista de la sintaxis, pero que produce un error."
   ]
  },
  {
   "cell_type": "markdown",
   "metadata": {},
   "source": [
    "## 1.2. Excepciones <a name=\"sec_1_2\"/>"
   ]
  },
  {
   "cell_type": "markdown",
   "metadata": {},
   "source": [
    "Los errores detectados durante la ejecución se llaman **excepciones**, y no son incondicionalmente fatales: pronto aprenderás a gestionarlos en programas Python. Sin embargo, la mayoría de las excepciones no son gestionadas por el código, y resultan en mensajes de error. Por ejemplo:"
   ]
  },
  {
   "cell_type": "code",
   "execution_count": null,
   "metadata": {},
   "outputs": [],
   "source": [
    "# Error división por cero\n",
    "4/0"
   ]
  },
  {
   "cell_type": "code",
   "execution_count": null,
   "metadata": {},
   "outputs": [],
   "source": [
    "# Error por no tener definida una variable\n",
    "4 + spam"
   ]
  },
  {
   "cell_type": "code",
   "execution_count": null,
   "metadata": {},
   "outputs": [],
   "source": [
    "# Error dos tipos de datos distintos \n",
    "'3' + 2"
   ]
  },
  {
   "cell_type": "code",
   "execution_count": null,
   "metadata": {},
   "outputs": [],
   "source": [
    "# Error de valor\n",
    "num = int(input(\"Numero:\"))"
   ]
  },
  {
   "cell_type": "markdown",
   "metadata": {},
   "source": [
    "La última línea de los mensajes de error se indica qué ha sucedido. Hay excepciones de diferentes tipos, y el tipo se imprime como parte del mensaje: los tipos en los ejemplos anteriores son: **ZeroDivisionError**, **NameError**, **TypeError** y **ValueError**.\n",
    "La cadena mostrada como tipo de la excepción es el nombre de la excepción predefinida que ha ocurrido. Esto es válido para todas las excepciones predefinidas del intérprete. Los nombres de las excepciones estándar son identificadores incorporados al intérprete (no son palabras clave reservadas).\n",
    "\n",
    "Lista de las excepciones predefinidas y sus significados (<a href=\"https://docs.python.org/es/3/library/exceptions.html#bltin-exceptions\" target=\"_blank\">Excepciones incorporadas</a>)."
   ]
  },
  {
   "cell_type": "markdown",
   "metadata": {},
   "source": [
    "## 1.3. Gestionando excepciones <a name=\"sec_1_3\"/>"
   ]
  },
  {
   "cell_type": "markdown",
   "metadata": {},
   "source": [
    "Véase el siguiente ejemplo, que le pide al usuario una entrada hasta que ingrese un entero válido.\n",
    "Veamos con este ejemplo simple como podemos tratar la excepción:"
   ]
  },
  {
   "cell_type": "code",
   "execution_count": null,
   "metadata": {},
   "outputs": [],
   "source": [
    "while True:\n",
    "    try:\n",
    "        x = int(input(\"Introduce un número:\"))\n",
    "        break\n",
    "    except ValueError:\n",
    "        print (\"Debes introducir un número\")"
   ]
  },
  {
   "cell_type": "markdown",
   "metadata": {},
   "source": [
    "La declaración try funciona de la siguiente manera:\n",
    "\n",
    "<ul>\n",
    "    <li>Primero, se ejecuta la cláusula <b>try</b> (la(s) linea(s) entre las palabras reservadas <b>try</b> y la <b>except</b>).</li>\n",
    "    <li>Si no ocurre ninguna excepción, la cláusula <b>except</b> se omite y la ejecución de la cláusula <b>try</b> finaliza.</li>\n",
    "    <li>Si ocurre una excepción durante la ejecución de la cláusula <b>try</b> el resto de la cláusula se omite. Entonces, si el tipo de excepción coincide con la excepción indicada después de la <b>except</b>, la cláusula <b>except</b> se ejecuta, y la ejecución continua después de la <b>try</b>.</li>\n",
    "<li>Si ocurre una excepción que no coincide con la indicada en la cláusula except se pasa a los <b>try</b> más externos; si no se encuentra un gestor, nos dará un error y el programa terminará.</li>\n",
    "    </ul>\n"
   ]
  },
  {
   "cell_type": "markdown",
   "metadata": {},
   "source": [
    "### ¡Prueba tú!\n",
    "\n",
    "Escribe el código para pedir a un usuario que introduzca un número flotante.\n",
    "En caso de que el valor introducido por el usuario no sea un número flotante, solictar que lo introduzca de nuevo."
   ]
  },
  {
   "cell_type": "code",
   "execution_count": null,
   "metadata": {},
   "outputs": [],
   "source": []
  },
  {
   "cell_type": "markdown",
   "metadata": {},
   "source": [
    "Una declaración **try** puede tener más de un **except**, para especificar distintas excepciones. A lo sumo se ejecutará un bloque. "
   ]
  },
  {
   "cell_type": "code",
   "execution_count": null,
   "metadata": {},
   "outputs": [],
   "source": [
    "cad = input(\"Introduce un número:\")\n",
    "try:\n",
    "    print (10/int(cad))\n",
    "except ValueError:\n",
    "    print(\"No se puede convertir a entero\")\n",
    "except ZeroDivisionError:\n",
    "    print(\"No se puede dividir por cero\")"
   ]
  },
  {
   "cell_type": "markdown",
   "metadata": {},
   "source": [
    "También podemos poner un último **except** en el que se puede omitir el nombre de la excepción capturada y servir como comodín. Se debe usar esta posibilidad con extremo cuidado, ya que de esta manera es fácil ocultar un error real de programación."
   ]
  },
  {
   "cell_type": "code",
   "execution_count": null,
   "metadata": {},
   "outputs": [],
   "source": [
    "cad = input(\"Introduce un número:\")\n",
    "try:\n",
    "    print (10/int(cad))\n",
    "except ValueError:\n",
    "    print(\"No se puede convertir a entero\")\n",
    "except ZeroDivisionError:\n",
    "    print(\"No se puede dividir por cero\")\n",
    "except: \n",
    "    print (\"Se ha producido otro error\")"
   ]
  },
  {
   "cell_type": "markdown",
   "metadata": {},
   "source": [
    "El último **except** también se puede sustituir por **else**."
   ]
  },
  {
   "cell_type": "code",
   "execution_count": null,
   "metadata": {},
   "outputs": [],
   "source": [
    "cad = input(\"Introduce un número:\")\n",
    "try:\n",
    "    print (10/int(cad))\n",
    "except ValueError:\n",
    "    print(\"No se puede convertir a entero\")\n",
    "except ZeroDivisionError:\n",
    "    print(\"No se puede dividir por cero\")\n",
    "else: \n",
    "    print (\"Se ha producido otro error\")"
   ]
  },
  {
   "cell_type": "markdown",
   "metadata": {},
   "source": [
    "También podemos poner una claúsula **finally** que se ejecute simpre independientemente de que se produzca una excepción o no."
   ]
  },
  {
   "cell_type": "code",
   "execution_count": null,
   "metadata": {},
   "outputs": [],
   "source": [
    "cad = input(\"Introduce un número:\")\n",
    "try:\n",
    "    print (10/int(cad))\n",
    "except ValueError:\n",
    "    print(\"No se puede convertir a entero\")\n",
    "except ZeroDivisionError:\n",
    "    print(\"No se puede dividir por cero\")\n",
    "else: \n",
    "    print (\"Se ha producido otro error\")\n",
    "finally:\n",
    "    print (\"Siempre se ejecuta está instrucción\")"
   ]
  },
  {
   "cell_type": "markdown",
   "metadata": {
    "collapsed": true
   },
   "source": [
    "# 1.4. Obteniendo información de las excepciones <a name=\"sec_1_4\"/>"
   ]
  },
  {
   "cell_type": "markdown",
   "metadata": {},
   "source": [
    "Las excepciones son objectos de la clase **Exception**. Cuando ocurre una excepción, puede tener un valor asociado, también conocido como el argumento de la excepción. La presencia y el tipo de argumento depende del tipo de excepción.\n",
    "\n",
    "La cláusula **except** puede especificar una variable después del nombre de excepción. La variable se vincula a una instancia de la excepción con los argumentos almacenados en instance.args. "
   ]
  },
  {
   "cell_type": "code",
   "execution_count": null,
   "metadata": {},
   "outputs": [],
   "source": [
    "cad = \"a\"\n",
    "try:\n",
    "    i = int(cad)\n",
    "except ValueError as error:\n",
    "    print(type(error))           # Tipo de la excepción, que es una clase\n",
    "    print(error.args)            # Argumentos de la excepción\n",
    "    print(error)                 # Imprime el error"
   ]
  },
  {
   "cell_type": "markdown",
   "metadata": {},
   "source": [
    "Los gestores de excepciones no se encargan solamente de las excepciones que ocurren en el bloque **try**, también gestionan las excepciones que ocurren dentro de las funciones que se llaman dentro del bloque **try**. Por ejemplo:"
   ]
  },
  {
   "cell_type": "code",
   "execution_count": null,
   "metadata": {},
   "outputs": [],
   "source": [
    "def esto_falla():\n",
    "    x = 1/0\n",
    "\n",
    "try:\n",
    "    esto_falla()\n",
    "except ZeroDivisionError as error:\n",
    "    print('Gestionando el error:', error)"
   ]
  },
  {
   "cell_type": "markdown",
   "metadata": {},
   "source": [
    " # 1.5. Propagando excepciones. raise <a name=\"sec_1_5\"/>"
   ]
  },
  {
   "cell_type": "markdown",
   "metadata": {},
   "source": [
    "Si construimos una función donde se puede producir una excepción, lo deseable es propagar esta excepción para que el programa principal que está usando esta función se entere y poder manejarla también.  Veamos algunos ejemplos:"
   ]
  },
  {
   "cell_type": "code",
   "execution_count": null,
   "metadata": {},
   "outputs": [],
   "source": [
    "def dividir(x,y):\n",
    "    try:\n",
    "        return x/y\n",
    "    except ZeroDivisionError:\n",
    "        return \"No se puede dividir\"\n",
    "\n",
    "print(dividir(2,0)) \n",
    "        \n"
   ]
  },
  {
   "cell_type": "code",
   "execution_count": null,
   "metadata": {},
   "outputs": [],
   "source": [
    "def dividir(x,y):\n",
    "    try:\n",
    "        return x/y\n",
    "    except ZeroDivisionError:\n",
    "        raise \n",
    "\n",
    "print(dividir(2,0)) "
   ]
  },
  {
   "cell_type": "markdown",
   "metadata": {},
   "source": [
    "Con el segundo ejemplo, con **raise** el programa principal se entera"
   ]
  },
  {
   "cell_type": "markdown",
   "metadata": {},
   "source": [
    "Ya podríamos gestionar la excepción desde el programa principal"
   ]
  },
  {
   "cell_type": "code",
   "execution_count": null,
   "metadata": {},
   "outputs": [],
   "source": [
    "def dividir(x,y):\n",
    "    try:\n",
    "        return x/y\n",
    "    except ZeroDivisionError:\n",
    "        raise \n",
    "\n",
    "try:\n",
    "    print(dividir(2,0)) \n",
    "except:\n",
    "    print(\"No se puede dividir\")"
   ]
  },
  {
   "cell_type": "markdown",
   "metadata": {},
   "source": [
    "### ¡Prueba tú!\n",
    "\n",
    "Escribe el código de una función que genere una excepción y que se propague al programa principal"
   ]
  },
  {
   "cell_type": "code",
   "execution_count": null,
   "metadata": {},
   "outputs": [],
   "source": []
  },
  {
   "cell_type": "markdown",
   "metadata": {},
   "source": [
    "Con la sentencia **raise** también podemos forzar a que ocurra una excepción específica.\n",
    "\n",
    "El único argumento a **raise** tiene que ser o una instancia de excepción, o una clase de excepción (una clase que hereda de Exception)."
   ]
  },
  {
   "cell_type": "code",
   "execution_count": null,
   "metadata": {},
   "outputs": [],
   "source": [
    "def nivel(numero):\n",
    "    if numero<0:\n",
    "        raise ValueError(\"El número debe ser positivo:\"+str(numero))\n",
    "    else:\n",
    "        return numero\n",
    "    \n",
    "print(nivel(3))\n",
    "print(nivel(-1))"
   ]
  },
  {
   "cell_type": "code",
   "execution_count": null,
   "metadata": {},
   "outputs": [],
   "source": [
    "def nivel(numero):\n",
    "    if numero<0:\n",
    "        raise ValueError(\"El número debe ser positivo:\"+str(numero))\n",
    "    else:\n",
    "        return numero\n",
    "    \n",
    "print(nivel(3))\n",
    "\n",
    "try:\n",
    "    print(nivel(-1)) \n",
    "except:\n",
    "    print(\"Nivel debe ser positivo\")"
   ]
  }
 ],
 "metadata": {
  "anaconda-cloud": {},
  "kernelspec": {
   "display_name": "Python 3",
   "language": "python",
   "name": "python3"
  },
  "language_info": {
   "codemirror_mode": {
    "name": "ipython",
    "version": 3
   },
   "file_extension": ".py",
   "mimetype": "text/x-python",
   "name": "python",
   "nbconvert_exporter": "python",
   "pygments_lexer": "ipython3",
   "version": "3.8.3"
  }
 },
 "nbformat": 4,
 "nbformat_minor": 2
}
