{
 "cells": [
  {
   "cell_type": "markdown",
   "metadata": {},
   "source": [
    "# Ejercicios de estructuras, conjuntos, diccionarios y funciones de Python\n",
    "**Docente**: Antonio Gago.  **I.E.S. Velázquez:** Curso 2020-2021\n",
    "**Alumno**:"
   ]
  },
  {
   "cell_type": "markdown",
   "metadata": {},
   "source": [
    "## Índice de ejercicios\n",
    "* [Ejercicio 1](#ejercicio_uno)\n",
    "* [Ejercicio 2](#ejercicio_dos)\n",
    "* [Ejercicio 3](#ejercicio_tres)\n",
    "* [Ejercicio 4](#ejercicio_cuatro)\n",
    "* [Ejercicio 5](#ejercicio_cinco)\n",
    "* [Ejercicio 6](#ejercicio_seis)\n",
    "* [Ejercicio 7](#ejercicio_siete)\n"
   ]
  },
  {
   "cell_type": "markdown",
   "metadata": {},
   "source": [
    "## Ejercicio 1 <a name=\"ejercicio_uno\"/>"
   ]
  },
  {
   "cell_type": "markdown",
   "metadata": {},
   "source": [
    "Escriba un programa que pida un número de tiradas de un dado mayor que una. Si no salen dos dados iguales seguidos, el jugador gana. Si salen iguales, pierde.\n",
    "\n",
    "Número de tiradas de dados: 1 ¡Imposible!\n",
    "\n",
    "Número de tiradas de dados: 6 Dados: 3 1 1 4 6 2 El jugador ha perdido.\n",
    "\n",
    "Número de tiradas de dados: 4 Dados: 4 2 5 3 El jugador ha ganado."
   ]
  },
  {
   "cell_type": "markdown",
   "metadata": {},
   "source": [
    "### ¡Prueba tú!"
   ]
  },
  {
   "cell_type": "code",
   "execution_count": null,
   "metadata": {},
   "outputs": [],
   "source": [
    "#importación de la librería random\n",
    "import random\n",
    "# randrange devuelve un número aleatorio en un rango\n",
    "\n",
    "print(\"DADOS IGUALES\")\n",
    "# Recogemos en la variable el número de dados\n",
    "numero = int(input(\"Número de dados: \"))\n",
    "# Si el número de dados es menor de dos el juego es imposible\n",
    "if numero < 2:\n",
    "    print(\"¡Imposible!\")\n",
    "else:\n",
    "    print(\"Dados: \", end=\"\")\n",
    "    repetido = False\n",
    "    # Sacamos un dado de forma aletoria\n",
    "    anterior = random.randrange(1, 7)\n",
    "    # Pintamos el primer dado\n",
    "    print(anterior, end=\" \")\n",
    "    # Generamos un rango para sacar un dado menos del introducido, ya que anteriormente hemos sacado uno\n",
    "    for _ in range(1, numero):\n",
    "        dado = random.randrange(1, 7)\n",
    "        print(dado, end=\" \")\n",
    "        # Si el dado es igual al anterior, tenemos dos repetidos\n",
    "        if dado == anterior:\n",
    "            repetido = True\n",
    "        # Asignamos al dado anterior el último sacado\n",
    "        anterior = dado\n",
    "    print()\n",
    "    # Mostramos mensaje en función de si han salido dos dados iguales o no\n",
    "    if repetido:\n",
    "        print(\"El jugador ha perdido.\")\n",
    "    else:\n",
    "        print(\"El jugador ha ganado.\")"
   ]
  },
  {
   "cell_type": "markdown",
   "metadata": {},
   "source": [
    "<hr>"
   ]
  },
  {
   "cell_type": "markdown",
   "metadata": {},
   "source": [
    "## Ejercicio 2 <a name=\"ejercicio_dos\"/>"
   ]
  },
  {
   "cell_type": "markdown",
   "metadata": {},
   "source": [
    "Dados dos listados independientes de nombres de los alumnos de 1º ESO y 2º ESO. \n",
    "\n",
    "| 1º ESO | 2º ESO |                \n",
    "|:-|:-:|\n",
    "|Antonio | Jaime|\n",
    "|María | Marta|\n",
    "|Juan | José|\n",
    "|Marina | Antonio|\n",
    "|Andrés | Marcos|\n",
    "|Jaime | Alba|\n",
    "|Lucía | Maite|\n",
    "|Belén | Esther|\n",
    "|Jorge | Paula|\n",
    "|Pedro | Alonso|\n",
    "|Ana | Lucía|\n",
    "|Violeta | Antonio|\n",
    "\n",
    "Mostrar:\n",
    "* Mostrar los nombres de todos los alumnos de 1º ESO y de 2º ESO (los repetidos sólo deben aparecer una vez)\n",
    "* Mostrar los nombres que se repiten entre los alumnos de 1º ESO y de 2º ESO. \n",
    "* Mostrar los nombres de los alumnos de 1º ESO que no se repiten en 2º ESO. "
   ]
  },
  {
   "cell_type": "markdown",
   "metadata": {},
   "source": [
    "### ¡Prueba tú!"
   ]
  },
  {
   "cell_type": "code",
   "execution_count": null,
   "metadata": {},
   "outputs": [],
   "source": [
    "# Generamos los dos conjuntos\n",
    "conjunto_1 = {'Antonio', 'María', 'Juan', 'Marina', 'Andrés', 'Jaime', 'Lucía', 'Belén', 'Jorge', 'Pedro', 'Ana', 'Violeta'}\n",
    "conjunto_2 = {'Jaime', 'Marta', 'José', 'Antonio', 'Marcos', 'Alba', 'Maite', 'Esther', 'Paula', 'Alonso', 'Lucía', 'Antonio'}\n",
    "\n",
    "print (\"NOMBRES DE TODOS LOS ALUMNOS\")\n",
    "# Mostramos la unión de ambos conjuntos, que nos da el listado de todos los alumnos\n",
    "for nombre in conjunto_1|conjunto_2:\n",
    "    print (nombre)\n",
    "   \n",
    "print()\n",
    "# Mostramos la intersección de ambos conjuntos, que nos da el listado de alumnos repetidos en ambos listados\n",
    "print (\"NOMBRES DE ALUMNOS REPETIDOS\")\n",
    "for nombre in conjunto_1&conjunto_2:\n",
    "    print (nombre)\n",
    "\n",
    "print()\n",
    "# Mostramos la diferencia de ambos conjuntos, que nos da el listado de alumnos cuyo nombre no se repite en el segundo conjunto\n",
    "print (\"NOMBRES DE ALUMNOS DE 1º ESO que no se repiten\")\n",
    "for nombre in conjunto_1-conjunto_2:\n",
    "    print (nombre)\n",
    "\n"
   ]
  },
  {
   "cell_type": "markdown",
   "metadata": {},
   "source": [
    "<hr>"
   ]
  },
  {
   "cell_type": "markdown",
   "metadata": {},
   "source": [
    "## Ejercicio 3 <a name=\"ejercicio_tres\"/>"
   ]
  },
  {
   "cell_type": "markdown",
   "metadata": {},
   "source": [
    "Suponer una lista de datos con las compras hechas por clientes de una empresa a lo largo de un mes, la cual contiene tuplas con información de cada venta:\n",
    "\n",
    "\n",
    "| Cliente | Día del Mes | Montaje | Dirección |                \n",
    "|:-|:-:| :-| :-|\n",
    "|Juan José | 5| 1234.50€ | Calle Sol nº 15 | \n",
    "|María Canto | 6| 875.15€ | Calle Luna nº 3 |\n",
    "|Juan José | 8| 294.86€ | Calle Sol nº 15 |  \n",
    "|Marta López | 10 | 594.86€ | Calle León nº 15 | \n",
    "|María Canto | 13| 475.85€ | Calle Luna nº 3 |\n",
    "|Adriano | 17| 715.25€ | Calle Miel nº 30 |\n",
    "|Marta López | 20 | 1095.30€ | Calle León nº 15 | \n",
    "|Valeria | 25 | 745.30€ | Calle Pio nº 25 | \n",
    "\n",
    "Escribir una función que reciba como parámetro una lista con el fomato indicado anteriormente y devuelva las direcciones de cada cliente al que se le debe enviar una factura.\n",
    "\n",
    "**Nota:** Cada cliente puede haber hecho más de una compra durante el mes, por lo que la función dede develover uns estructura que contenga cada dirección sólo una vez."
   ]
  },
  {
   "cell_type": "markdown",
   "metadata": {},
   "source": [
    "### ¡Prueba tú!"
   ]
  },
  {
   "cell_type": "code",
   "execution_count": null,
   "metadata": {},
   "outputs": [],
   "source": [
    "# Creamos nuestra lista de tuplas\n",
    "ventas = [\n",
    "(\"Juan José\", 5, 1234.50, \"Calle Sol nº 15\"),\n",
    "(\"María Canto\", 6, 875.15, \"Calle Luna nº 3\"),\n",
    "(\"Juan José\", 8, 294.86, \"Calle Sol nº 15\"),\n",
    "(\"Marta López\", 10, 594.86, \"Calle León nº 15\"),\n",
    "(\"María Canto\", 13, 475.85, \"Calle Luna nº 3\"),\n",
    "(\"Adriano\", 17, 715.25, \"Calle Miel nº 30\"),\n",
    "(\"Marta López\", 20, 1095.30, \"Calle León nº 15\"),\n",
    "(\"Valeria\", 25, 745.30, \"Calle Pio nº 25\")\n",
    "]\n",
    "\n",
    "# Creamos una función que recibe la lista\n",
    "def direcciones_lista(ventas):\n",
    "    # Creamos una lista\n",
    "    domicilios = list()\n",
    "    for venta in ventas:\n",
    "        domicilios.append(venta[3])\n",
    "    return set(domicilios)\n",
    "\n",
    "# Creamos una función que recibe la lista\n",
    "def direcciones_conjunto(ventas):\n",
    "    # Creamos un conjunto\n",
    "    domicilios = set()\n",
    "    for venta in ventas:\n",
    "        domicilios.add(venta[3])\n",
    "    return domicilios\n",
    "\n",
    "print (direcciones_lista(ventas))\n",
    "print()\n",
    "print (direcciones_conjunto(ventas))"
   ]
  },
  {
   "cell_type": "markdown",
   "metadata": {},
   "source": [
    "<hr>"
   ]
  },
  {
   "cell_type": "markdown",
   "metadata": {},
   "source": [
    "## Ejercicio 4 <a name=\"ejercicio_cuatro\"/>"
   ]
  },
  {
   "cell_type": "markdown",
   "metadata": {},
   "source": [
    "Obtener múltiplos de \"dos\", \"cuatro\" y \"ocho\".\n",
    "\n",
    "Construye un lista de tuplas en el que cada tupla es de la forma (numero, mayor divisor entre dos, cuatro y ocho)\n",
    "En las lista sólo se den incluir los números desde el 1 hasta el 1600 que sean múltiplos de dos cuatro u ocho.\n",
    "\n",
    "[(2,\"dos\"), (4,\"cuatro\"), (6,\"dos\"), (8, \"ocho\"), (10, \"dos\"), (12,\"cuatro\"), (14,\"dos\"), (16,\"ocho\"),....(1600,\"ocho\")]\n",
    "\n",
    "\n",
    "* Obtén mediante slicing las tuplas (numero, mayor divisor entre dos, cuatro y ocho) de los primeros 15 números cuyo mayor divisor sea dos.\n",
    "* Obtén mediante slicing las tuplas (numero, mayor divisor entre dos, cuatro y ocho) de los últimos 10 números cuyo mayor divisor sea ocho.\n",
    "* Obtén mediante slicing las tuplas (numero, mayor divisor entre dos, cuatro y ocho) todos los múltiplos de cuatro."
   ]
  },
  {
   "cell_type": "markdown",
   "metadata": {},
   "source": [
    "### ¡Prueba tú!"
   ]
  },
  {
   "cell_type": "code",
   "execution_count": null,
   "metadata": {},
   "outputs": [],
   "source": [
    "# Creamos una matriz de numeros con las cadenas a insertar. \n",
    "# Como la secuencia siempre es la misma \"dos\", \"cuatro\", \"dos\", \"ocho\", se ha creado de cuatro términos\n",
    "\n",
    "\n",
    "numeros=[\"dos\", \"cuatro\", \"dos\", \"ocho\"]\n",
    "# Creamos una lista \n",
    "multiplos=[];\n",
    "# Como vamos a introducir todos los números pares, nos creamos un rango que empiece en dos, llegue al 1601 y vaya de dos en dos\n",
    "for i in range(2,1601,2):\n",
    "    # Tenemos que ir sacando el índice de la lista numeros, que va desde el 0 hasta el 3\n",
    "    # El módulo de la división entre ocho siempre va a ser 0, 2, 4 o 6 ya que estamos recorriendo sólo los números pares\n",
    "    # Para obtener por tanto el elemento de la lista a ese resto lo tenemos que dividir entre 2 (0->0, 2->1, 4->2, 6->8)\n",
    "    indice = int((i%8)/2);\n",
    "    # A la lista le tenemos que insertar el número y una posición menos de la del índice \n",
    "    # (cuando indice sea cero sacamos el último)\n",
    "    multiplos.append((i,numeros[indice-1]))\n",
    "\n",
    "print (multiplos)\n",
    "print ()\n",
    "# Para sacar los primeros 15 números cuyo mayor divisor sea 2 hay que sacar desde el primero hasta el 30 y en saltos de dos\n",
    "# ya que los máyores divisores de dos están en las posiciones (0,2,4,6,...)\n",
    "print (multiplos[:30:2])\n",
    "print()\n",
    "# Para sacar los primeros 10 últimos números cuyo mayor divisor sea 8 primero tenemos que saber que la secuencia\n",
    "# se repite de 4 en 4, con lo cual el salto es de 4.\n",
    "# El última índice cuyo mayor divisor sea 8 es el 799. Si queremos sacar 9 más, tendremos que restar a ese número\n",
    "# 9 x 4 (el salto) = 36\n",
    "# Luedo el índice de inicio será el 799-36 = 763\n",
    "print (multiplos[763::4])\n",
    "print()\n",
    "# Para sacar todos los múltiplos de 4 tenemos que saber que lios múltiplos de 4 empiezan en el primer índice\n",
    "# Como la secuencia se repite de 4 en cuatro tenemos que llegar hasta el final en saltos de 4.\n",
    "print (multiplos[1::4])"
   ]
  },
  {
   "cell_type": "markdown",
   "metadata": {},
   "source": [
    "<hr>"
   ]
  },
  {
   "cell_type": "markdown",
   "metadata": {},
   "source": [
    "## Ejercicio 5 <a name=\"ejercicio_cinco\"/>"
   ]
  },
  {
   "cell_type": "markdown",
   "metadata": {},
   "source": [
    "Escriba un programa que permita convertir un texto a código Morse.\n",
    "\n",
    "El texto a convertir a morse sólo estará compuesto por letras y espacios."
   ]
  },
  {
   "cell_type": "markdown",
   "metadata": {},
   "source": [
    "### ¡Prueba tú!"
   ]
  },
  {
   "cell_type": "code",
   "execution_count": null,
   "metadata": {},
   "outputs": [],
   "source": [
    "MORSE = {' ': '_', 'A': '.-', 'B': '-...', 'C': '-.-.', 'D': '-..', 'E': '.', 'F': '..-.', 'G': '--.', 'H': '....', \n",
    "         'I': '..', 'J': '.---', 'K': '-.-', 'L': '.-..', 'M': '--', 'N': '-.', 'O': '---', 'P': '.--.', 'Q': '--.-', \n",
    "         'R': '.-.', 'S': '...', 'T': '-', 'U': '..-', 'V': '...-', 'W': '.--', 'X': '-..-', 'Y': '-.--', 'Z': '--..' }\n",
    "\n",
    "#Definimos la función\n",
    "def convertirAMorse(frase):\n",
    "    # Transformamos el texto a mayúscula\n",
    "    frase = frase.upper()\n",
    "    fraseCodificada = \"\"\n",
    "    #Recorremos la frase y el caracter lo usamos en nuestro diccionario para obtener el valor en función de la clave\n",
    "    for caracter in frase:\n",
    "        fraseCodificada += MORSE[caracter] + \" \"\n",
    "    return fraseCodificada\n",
    "\n",
    "# Recogemos la entrada por teclado\n",
    "frase = input(\"Frase a convertir: \")\n",
    "fraseCodificada = convertirAMorse(frase)\n",
    "print(fraseCodificada)"
   ]
  },
  {
   "cell_type": "markdown",
   "metadata": {},
   "source": [
    "<hr>"
   ]
  },
  {
   "cell_type": "markdown",
   "metadata": {},
   "source": [
    "## Ejercicio 6 <a name=\"ejercicio_seis\"/>"
   ]
  },
  {
   "cell_type": "markdown",
   "metadata": {},
   "source": [
    "Escribir un programa que dado un texto cree un diccionario en el que las claves sean las vocales y los valores las palabras que \n",
    "que empiecen por esa vocal. Las palabras repetidas sólo deben aparecer una vez.\n",
    "Se valorará el uso de la definición de diccionarios por comprensión para la creación del diccionario.\n",
    "\n",
    "Para el siguiente:\n",
    "\n",
    "*'Hoy estamos en otoño y aún no hace frío, pero en algo más de un mes empieza el invierno y el clima tendrá que cambiar'*\n",
    "\n",
    "El resultado debe ser:\n",
    "\n",
    "{'a': ['aún', 'algo'], 'e': ['en', 'estamos', 'empieza', 'el'], 'i': ['invierno'], 'o': ['otoño'], 'u': ['un']}"
   ]
  },
  {
   "cell_type": "markdown",
   "metadata": {},
   "source": [
    "### ¡Prueba tú!"
   ]
  },
  {
   "cell_type": "code",
   "execution_count": null,
   "metadata": {},
   "outputs": [],
   "source": [
    "texto = 'Hoy estamos en otoño y aún no hace frío, pero en algo más de un mes empieza el invierno y el clima tendrá que cambiar'\n",
    "\n",
    "# Obtenemos las vocales de las palabras que empiezan por vocal\n",
    "# Por cada palabra en el texto a minúscula si es una inicial, se guarda en la lista\n",
    "vocales = [palabra[0] for palabra in texto.lower().split() if palabra[0] in 'aeiou']\n",
    "print (vocales)\n",
    "\n",
    "# Sacamos las palabras que empieza por vocal en un diccionario\n",
    "# Por cada palabra en el texto a minúscula si es una inicial, se guarda la aplabra en el diccionario como clave y valor\n",
    "palabras_empieza_por_vocal ={ palabra:  palabra for palabra in texto.lower().split() if palabra[0] in 'aeiou'}\n",
    "print (palabras_empieza_por_vocal)\n",
    "\n",
    "# Creamos nuestro diccionario con clave la vocal y valor una lista de palabras que empiezan por esa vocal \n",
    "# Por cada vocal en vocales, y por cada palabra en el conjunto de palabras, si la palabra empieza por la vocal \n",
    "# se añade al diccionario con clave la vocal y clave lista donde se inserta la palabra\n",
    "palabras_vocales ={ vocal:  [palabra for palabra in set(texto.lower().split()) if palabra[0] == vocal] for vocal in sorted(set(vocales))}\n",
    "print (palabras_vocales)\n"
   ]
  },
  {
   "cell_type": "code",
   "execution_count": null,
   "metadata": {},
   "outputs": [],
   "source": [
    "texto = 'Hoy estamos en otoño y aún no hace frío, pero en algo más de un mes empieza el invierno y el clima tendrá que cambiar'\n",
    "#Nos quedamos con un conjunto que ya no tiene las palabras repetidas y con las palabras en minúsculas\n",
    "palabras = set(texto.lower().split())\n",
    "# Creamos el diccionario vacío\n",
    "palabras_vocales = dict()\n",
    "for palabra in palabras:\n",
    "    # Sacamos la inicial de la palabra\n",
    "    inicial = palabra[0]\n",
    "    # Si la inicial es una vocal\n",
    "    if inicial in 'aeiou':\n",
    "        # Miramos si la inicial ya está en el diccionario\n",
    "        if inicial not in palabras_vocales:\n",
    "            # Si no está creamos una clave con esa inicial y metemos un diccionario vacío\n",
    "            palabras_vocales[inicial]=[]\n",
    "        \n",
    "        # Si la palabra no está en el diccionario \n",
    "        # (Esta comprobación es redundante ya que nos hemos asegurado que la palabra no está repetida)\n",
    "        if palabra not in palabras_vocales[inicial]:\n",
    "            # Añadimos a nuestro diccionario la palabra\n",
    "            palabras_vocales[inicial].append(palabra)\n",
    "\n",
    "            \n",
    "print (palabras_vocales)\n",
    "print()\n",
    "# Si quisieramos ordenar el diccionario por sus claves\n",
    "print({key: value for key, value in sorted(palabras_vocales.items(), key=lambda item: item[1])})\n"
   ]
  },
  {
   "cell_type": "markdown",
   "metadata": {},
   "source": [
    "<hr>"
   ]
  }
 ],
 "metadata": {
  "kernelspec": {
   "display_name": "Python 3",
   "language": "python",
   "name": "python3"
  },
  "language_info": {
   "codemirror_mode": {
    "name": "ipython",
    "version": 3
   },
   "file_extension": ".py",
   "mimetype": "text/x-python",
   "name": "python",
   "nbconvert_exporter": "python",
   "pygments_lexer": "ipython3",
   "version": "3.8.3"
  }
 },
 "nbformat": 4,
 "nbformat_minor": 4
}
